{
 "cells": [
  {
   "cell_type": "code",
   "execution_count": 90,
   "metadata": {},
   "outputs": [
    {
     "name": "stdout",
     "output_type": "stream",
     "text": [
      "x+y: 30\n",
      "30\n",
      "None\n"
     ]
    }
   ],
   "source": [
    "# eval函数 将字符串str当成有效的表达式来求值并返回计算结果\n",
    "x = 10\n",
    "y = 20\n",
    "z = x + y\n",
    "z1 = eval(\"print('x+y:',x+y)\")  # 把一个字符串当成一个表达式来执行， 返回表达式执行后的结果  print返回值是None\n",
    "print(z)\n",
    "print(z1)"
   ]
  },
  {
   "cell_type": "code",
   "execution_count": 14,
   "metadata": {},
   "outputs": [
    {
     "name": "stdout",
     "output_type": "stream",
     "text": [
      "30\n",
      "30\n"
     ]
    }
   ],
   "source": [
    "x = 10\n",
    "y = 20\n",
    "z = x + y\n",
    "z1 = eval(\"x+y\")\n",
    "print(z)\n",
    "print(z1)"
   ]
  },
  {
   "cell_type": "code",
   "execution_count": 92,
   "metadata": {},
   "outputs": [
    {
     "name": "stdout",
     "output_type": "stream",
     "text": [
      "Hello World\n"
     ]
    }
   ],
   "source": [
    "# exec 执行储存在字符串或文件中的 Python 语句，相比于 eval，exec可以执行更复杂的 Python 代码\n",
    "# exec 返回值永远为 None\n",
    "exec(\"print('Hello World')\")\n"
   ]
  },
  {
   "cell_type": "code",
   "execution_count": 28,
   "metadata": {},
   "outputs": [
    {
     "name": "stdout",
     "output_type": "stream",
     "text": [
      "iter time: 0\n",
      "iter time: 1\n",
      "iter time: 2\n",
      "iter time: 3\n",
      "iter time: 4\n"
     ]
    }
   ],
   "source": [
    "# iter time 重复 次数\n",
    "exec(\"\"\"for i in range(5):\n",
    "            print (\"iter time: {}\".format(i)) \n",
    "    \"\"\")"
   ]
  },
  {
   "cell_type": "code",
   "execution_count": 38,
   "metadata": {},
   "outputs": [
    {
     "name": "stdout",
     "output_type": "stream",
     "text": [
      "0\n",
      "1\n"
     ]
    }
   ],
   "source": [
    "# 在编写程序的时候，如果想为一个在函数外的变量重新赋值，并且这个变量会作用于许多函数中时，就需要告诉python这个变量的作用域是全局变量。\n",
    "# 此时用global语句就可以变成这个任务，也就是说没有用global语句的情况下，是不能修改全局变量的。\n",
    "a = 0\n",
    "def func():\n",
    "    global a # 只有对a进行了global 声明，才可以对a赋值\n",
    "    a = 1      \n",
    "print(a)\n",
    "func()\n",
    "print(a)"
   ]
  },
  {
   "cell_type": "code",
   "execution_count": 44,
   "metadata": {},
   "outputs": [
    {
     "data": {
      "text/plain": [
       "5050"
      ]
     },
     "execution_count": 44,
     "metadata": {},
     "output_type": "execute_result"
    }
   ],
   "source": [
    "# 递归函数 利用函数本身调用自身，然后一直不停地调用自身，达到合适的条件，然后返回计算后的值。\n",
    "def add(f):\n",
    "    if f == 0:\n",
    "        return 0\n",
    "    return f+add(f-1)\n",
    "add(100)   # 100以内的加法"
   ]
  },
  {
   "cell_type": "code",
   "execution_count": 51,
   "metadata": {},
   "outputs": [
    {
     "data": {
      "text/plain": [
       "120"
      ]
     },
     "execution_count": 51,
     "metadata": {},
     "output_type": "execute_result"
    }
   ],
   "source": [
    "# 递归函数 阶乘 \n",
    "def fac(j):\n",
    "    if j == 1:\n",
    "        return 1\n",
    "    return j * fac(j-1)\n",
    "fac(5)  "
   ]
  },
  {
   "cell_type": "code",
   "execution_count": 54,
   "metadata": {},
   "outputs": [
    {
     "name": "stdout",
     "output_type": "stream",
     "text": [
      "<class 'list'>\n",
      "[]\n",
      "['iron', 'eli', 1997, 2000]\n",
      "[1, 2, 3, 4, 5, 6, 7, 8]\n",
      "['a', 'b', 'c', 'd']\n",
      "a\n",
      "['b', 'c']\n",
      "[1, 2, 3, 4, 5, 6, 7, 8]\n",
      "[2, 3, 4, 5, 6, 7, 8]\n"
     ]
    }
   ],
   "source": [
    "# list 列表 序列中的每个元素都分配一个数字 - 它的位置，或索引，第一个索引是0，第二个索引是1，依此类推。\n",
    "l1 = []\n",
    "print(type(l1))\n",
    "print(l1)\n",
    "\n",
    "list1 = ['iron', 'eli', 1997, 2000]\n",
    "list2 = [1, 2, 3, 4, 5, 6, 7, 8]\n",
    "list3 = [\"a\", \"b\", \"c\", \"d\"]\n",
    "print(list1)\n",
    "print(list2)\n",
    "print(list3)\n",
    "print(list3[0])  # 列表下标的访问\n",
    "print(list3[1:3]) # 分片截取  包含左不包含右边下标值\n",
    "print(list2[:]) \n",
    "print(list2[1:])"
   ]
  },
  {
   "cell_type": "code",
   "execution_count": 55,
   "metadata": {},
   "outputs": [
    {
     "name": "stdout",
     "output_type": "stream",
     "text": [
      "[1, 2, 3, 4, 5, 6, 7, 8]\n",
      "[2, 3, 4, 5, 6]\n",
      "[2, 4, 6]\n",
      "[]\n",
      "[7, 6]\n",
      "[8, 7, 6, 5, 4, 3, 2, 1]\n",
      "[5, 6]\n"
     ]
    }
   ],
   "source": [
    "print(list2)\n",
    "print(list2[1:6:1]) # 分片可以控制增长的幅度 \n",
    "\n",
    "print(list2[1:6:2])\n",
    "print(list2[-2:-4]) # 分片截取默认是从左往右 左边的值一定是小于右边的值 所以结果是空\n",
    "print(list2[-2:-4:-1])\n",
    "print(list2[-1::-1]) # 可以叫做倒序？\n",
    "print(list2[-4:-2])  # 下标为负数表示从右往左，数组右边元素下标为-1"
   ]
  },
  {
   "cell_type": "code",
   "execution_count": 71,
   "metadata": {},
   "outputs": [
    {
     "name": "stdout",
     "output_type": "stream",
     "text": [
      "[0, 1, 2, 3, 4, 5, 6, 7, 100]\n",
      "[0, 1, 3, 4, 5, 6, 7, 100]\n"
     ]
    }
   ],
   "source": [
    "l3 = [0,1,2,3,4,5,6,7]\n",
    "l3.append(100)   #append() 添加元素\n",
    "print(l3)\n",
    "del l3[2]  # del 删除元素 删除l3列表下标是2的元素\n",
    "print(l3)"
   ]
  },
  {
   "cell_type": "code",
   "execution_count": 2,
   "metadata": {},
   "outputs": [
    {
     "name": "stdout",
     "output_type": "stream",
     "text": [
      "1\n",
      "2\n",
      "3\n",
      "4\n",
      "5\n",
      "5\n"
     ]
    }
   ],
   "source": [
    "# a 列表遍历\n",
    "a = [1,2,3,4,5,5]\n",
    "for i in a:\n",
    "    print(i)\n",
    "\n"
   ]
  },
  {
   "cell_type": "code",
   "execution_count": 4,
   "metadata": {},
   "outputs": [
    {
     "name": "stdout",
     "output_type": "stream",
     "text": [
      "i am eli\n"
     ]
    }
   ],
   "source": [
    "b = [\"i am eli\"]\n",
    "for i in b:\n",
    "    print(i)"
   ]
  },
  {
   "cell_type": "code",
   "execution_count": 6,
   "metadata": {},
   "outputs": [
    {
     "name": "stdout",
     "output_type": "stream",
     "text": [
      "i\n",
      "am\n",
      "eli\n"
     ]
    }
   ],
   "source": [
    "b = ['i','am','eli']\n",
    "for i in b:\n",
    "    print(i)"
   ]
  },
  {
   "cell_type": "code",
   "execution_count": 11,
   "metadata": {},
   "outputs": [
    {
     "name": "stdout",
     "output_type": "stream",
     "text": [
      "1\n",
      "2\n",
      "3\n",
      "4\n",
      "5\n",
      "6\n",
      "7\n"
     ]
    }
   ],
   "source": [
    "# while 循环访问list 一般情况不用，不简洁\n",
    "a = [1,2,3,4,5,6,7]\n",
    "indx = 0\n",
    "length = len(a)\n",
    "while indx < length:\n",
    "    print(a[indx])\n",
    "    indx += 1"
   ]
  },
  {
   "cell_type": "code",
   "execution_count": 14,
   "metadata": {},
   "outputs": [
    {
     "name": "stdout",
     "output_type": "stream",
     "text": [
      "eli -- 19\n",
      "jack -- 20\n",
      "pool -- 23\n"
     ]
    }
   ],
   "source": [
    "# 双层列表循环 \n",
    "a = [['eli', 19],['jack', 20],['pool', 23]]\n",
    "for k,v in a:\n",
    "    print(k , \"--\", v)  # 字典？？"
   ]
  },
  {
   "cell_type": "code",
   "execution_count": 16,
   "metadata": {},
   "outputs": [
    {
     "name": "stdout",
     "output_type": "stream",
     "text": [
      "[1, 2, 3, 4, 5, 6]\n"
     ]
    }
   ],
   "source": [
    "# 列表内涵 \n",
    "a = [1,2,3,4,5,6] \n",
    "b = [i for i in a] #for 创建 用list a 创建个list b\n",
    "print(b)"
   ]
  },
  {
   "cell_type": "code",
   "execution_count": 95,
   "metadata": {},
   "outputs": [
    {
     "name": "stdout",
     "output_type": "stream",
     "text": [
      "[1, 2, 3, 4, 5, 6, 7, 8, 9, 10]\n",
      "[10, 20, 30, 40, 50, 60, 70, 80, 90, 100]\n",
      "[2, 4, 6, 8, 10]\n",
      "[1, 3, 5, 7, 9]\n"
     ]
    }
   ],
   "source": [
    "a = [i for i in range(1,11)] # 创建个1到10的list a\n",
    "print(a)\n",
    "a1 = [i*10 for i in a] #list a中元素乘以10创建list a1\n",
    "print(a1)\n",
    "b = [m for m in a if m % 2 == 0]# list a 中的偶数创建list b \n",
    "print(b)\n",
    "c = [i for i in a if i % 2 == 1] #list a 中的奇数创建list b\n",
    "print(c)"
   ]
  },
  {
   "cell_type": "code",
   "execution_count": 54,
   "metadata": {},
   "outputs": [
    {
     "name": "stdout",
     "output_type": "stream",
     "text": [
      "[1, 2, 3]\n",
      "[100, 200, 300]\n",
      "[101, 201, 301, 102, 202, 302, 103, 203, 303]\n",
      "101 201 301 102 202 302 103 203 303 \n",
      "[101, 201, 102, 202, 103, 203]\n"
     ]
    }
   ],
   "source": [
    "# 列表生成可以嵌套\n",
    "a = [i for i in range(1,4)]\n",
    "print(a)\n",
    "b = [i for i in range(100,400) if i % 100 == 0]\n",
    "print(b)\n",
    "c = [m+n for m in a for n in b] #列表生成可以嵌套 相当于2个for循环\n",
    "print(c)\n",
    "\n",
    "# for 循环这样写 \n",
    "for m in a:\n",
    "    for n in b:\n",
    "        print(m+n,end=\" \")\n",
    "print()\n",
    "\n",
    "#被嵌的列表生成式也可以用条件表达式\n",
    "c = [m+n for m in a for n in b if m+n < 300]\n",
    "print(c)"
   ]
  },
  {
   "cell_type": "code",
   "execution_count": 96,
   "metadata": {},
   "outputs": [
    {
     "name": "stdout",
     "output_type": "stream",
     "text": [
      "99\n",
      "99\n",
      "1\n",
      "python\n"
     ]
    }
   ],
   "source": [
    "# 关于列表的常用函数\n",
    "# len 求列表的长度\n",
    "a = [i for i in range(1,100)]\n",
    "print(len(a))\n",
    "# 求列表里面的最大值和最小值\n",
    "print(max(a))\n",
    "print(min(a))\n",
    "b =['eli', 'jack', 'python']\n",
    "print(max(b))"
   ]
  },
  {
   "cell_type": "code",
   "execution_count": 62,
   "metadata": {},
   "outputs": [
    {
     "name": "stdout",
     "output_type": "stream",
     "text": [
      "['i', ' ', 'l', 'i', 'k', 'e', ' ', 'p', 'y', 't', 'h', 'o', 'n']\n"
     ]
    }
   ],
   "source": [
    "#list: 将其他格式数据转换成list 被转换的数据可以转换才行\n",
    "s = \"i like python\"\n",
    "print(list(s))"
   ]
  },
  {
   "cell_type": "code",
   "execution_count": 61,
   "metadata": {},
   "outputs": [
    {
     "name": "stdout",
     "output_type": "stream",
     "text": [
      "[11, 12, 13, 14, 15, 16, 17, 18]\n"
     ]
    }
   ],
   "source": [
    "print(list(range(11,19)))\n"
   ]
  },
  {
   "cell_type": "code",
   "execution_count": 12,
   "metadata": {},
   "outputs": [
    {
     "name": "stdout",
     "output_type": "stream",
     "text": [
      "[1, 2, 3, 4, 5]\n",
      "[1, 100, 2, 3, 4, 5]\n",
      "[1, 100, 2, 3, 4, 5, 99]\n",
      "99\n",
      "[1, 100, 2, 3, 4, 5]\n",
      "[1, 100, 2, 3, 5]\n",
      "[]\n",
      "91233992\n",
      "[]\n",
      "91233992\n"
     ]
    }
   ],
   "source": [
    "a = [i for i in range(1,6)]\n",
    "print(a)\n",
    "a.insert(1,100) #insert(index,date)插入 index的前面，不是很推荐，消耗资源，一般用append\n",
    "print(a)\n",
    "a.append(99)\n",
    "print(a)\n",
    "last = a.pop() #pop 最后一个元素剔除\n",
    "print(last)\n",
    "print(a)\n",
    "a.remove(4) #remove 删除指定的元素\n",
    "print(a) \n",
    "a.clear() #清空列表中的元素 地址没变。\n",
    "print(a)\n",
    "\n",
    "\n",
    "a = [i for i in range(1,5)]\n",
    "print(id(a))\n",
    "a.clear()\n",
    "print(a)\n",
    "print(id(a)) "
   ]
  },
  {
   "cell_type": "code",
   "execution_count": 15,
   "metadata": {},
   "outputs": [
    {
     "name": "stdout",
     "output_type": "stream",
     "text": [
      "94812552\n",
      "94810568\n"
     ]
    }
   ],
   "source": [
    "a = [i for i in range(1,5)]\n",
    "print(id(a))\n",
    "a = list()    # a = []\n",
    "print(id(a))  # 新的列表 地址变了。"
   ]
  },
  {
   "cell_type": "code",
   "execution_count": 1,
   "metadata": {},
   "outputs": [
    {
     "name": "stdout",
     "output_type": "stream",
     "text": [
      "[1, 2, 3, 4, 5, 6, 7, 8]\n",
      "93368584\n",
      "[8, 7, 6, 5, 4, 3, 2, 1]\n",
      "93368584\n",
      "[1, 2, 3, 4, 5, 6, 7, 8]\n"
     ]
    }
   ],
   "source": [
    "a = [i for i in range(1,9)]\n",
    "print(a)\n",
    "print(id(a))\n",
    "a.reverse()  # reverse 列表中元素反转 倒序\n",
    "print(a)\n",
    "print(id(a))\n",
    "\n",
    "a.sort() # 排序 \n",
    "print(a)"
   ]
  },
  {
   "cell_type": "code",
   "execution_count": 18,
   "metadata": {},
   "outputs": [
    {
     "name": "stdout",
     "output_type": "stream",
     "text": [
      "91211720\n",
      "[1, 2, 3, 4, 5, 6, 7, 8, 9]\n",
      "91211720\n"
     ]
    }
   ],
   "source": [
    "# extend 扩展列表，两个列表，把一个直接拼接到后一个上\n",
    "a = [i for i in range(1,5)]\n",
    "print(id(a))\n",
    "b = [i for i in range(5,10)]\n",
    "a.extend(b)\n",
    "print(a)\n",
    "print(id(a))"
   ]
  },
  {
   "cell_type": "code",
   "execution_count": 20,
   "metadata": {},
   "outputs": [
    {
     "name": "stdout",
     "output_type": "stream",
     "text": [
      "[1, 1, 1, 2, 3, 4, 5, 6, 1]\n",
      "4\n"
     ]
    }
   ],
   "source": [
    "# count 查找列表中指定元素的个数\n",
    "a = [1,1,2,3,4,5,6]\n",
    "a.append(1)\n",
    "a.insert(2,1)\n",
    "print(a)\n",
    "a_length = a.count(1) # count 查找列表a中1的个数\n",
    "print(a_length)"
   ]
  },
  {
   "cell_type": "code",
   "execution_count": 23,
   "metadata": {},
   "outputs": [
    {
     "name": "stdout",
     "output_type": "stream",
     "text": [
      "[1, 2, 3, 4, 5, 666]\n",
      "[1, 2, 3, 777, 5, 666]\n",
      "91209928\n",
      "[1, 2, 3, 777, 5, 666]\n",
      "91209928\n",
      "********************\n",
      "[1, 2, 3, 777, 5, 666]\n",
      "91209928\n",
      "[1, 2, 3, 777, 5, 666]\n",
      "94860232\n",
      "******************************\n",
      "[1, 2, 3, 777, 5, 666]\n",
      "[1, 2, 3, 888, 5, 666]\n"
     ]
    }
   ],
   "source": [
    "# copy: 拷贝，此函数是浅拷贝，\n",
    "\n",
    "# 列表类型变量赋值示例\n",
    "a = [1,2,3,4,5,666]\n",
    "print(a)\n",
    "# list类型，简单赋值操作，是传地址\n",
    "b = a\n",
    "b[3] = 777\n",
    "print(a)\n",
    "print(id(a))\n",
    "print(b)\n",
    "print(id(b))\n",
    "\n",
    "print(\"*\" * 20)\n",
    "\n",
    "# 为了解决以上问题，list赋值需要采用copy函数\n",
    "b = a.copy()\n",
    "print(a)\n",
    "print(id(a))\n",
    "print(b)\n",
    "print(id(b))\n",
    "\n",
    "print(\"*\" * 30)\n",
    "\n",
    "b[3] = 888\n",
    "print(a)\n",
    "print(b)"
   ]
  },
  {
   "cell_type": "code",
   "execution_count": 33,
   "metadata": {},
   "outputs": [
    {
     "name": "stdout",
     "output_type": "stream",
     "text": [
      "94813832\n",
      "94861640\n",
      "********************\n",
      "33\n",
      "33\n",
      "1560900064\n",
      "1560900064\n",
      "********************\n",
      "[1, 2, 3, [11, 22, 666]]\n",
      "[1, 2, 3, [11, 22, 666]]\n"
     ]
    }
   ],
   "source": [
    "# 深拷贝跟浅拷贝的区别\n",
    "# 出现下列问题的原因是，copy‘函数是个浅拷贝函数，即只拷贝一层内容\n",
    "# 深拷贝需要使用特定工具\n",
    "a = [1,2,3,[11,22,33]]\n",
    "b = a.copy()\n",
    "print(id(a))\n",
    "print(id(b))\n",
    "print('*' * 20)\n",
    "print(a[3][2])\n",
    "print(b[3][2])\n",
    "print(id(a[3][2]))\n",
    "print(id(b[3][2]))\n",
    "print('*' * 20)\n",
    "a[3][2] = 666\n",
    "print(a)\n",
    "print(b)"
   ]
  },
  {
   "cell_type": "code",
   "execution_count": 34,
   "metadata": {},
   "outputs": [
    {
     "name": "stdout",
     "output_type": "stream",
     "text": [
      "<class 'tuple'>\n"
     ]
    }
   ],
   "source": [
    "# 元祖 \n",
    "# Python的元组与列表类似，不同之处在于元组的元素不能修改。\n",
    "# 元组使用小括号，列表使用方括号。\n",
    "# 元组创建很简单，只需要在括号中添加元素，并使用逗号隔开即可\n",
    "t = ()\n",
    "print(type(t))"
   ]
  },
  {
   "cell_type": "code",
   "execution_count": 2,
   "metadata": {},
   "outputs": [
    {
     "name": "stdout",
     "output_type": "stream",
     "text": [
      "(1,)\n",
      "<class 'tuple'>\n"
     ]
    }
   ],
   "source": [
    "t = (1,)\n",
    "print(t)\n",
    "print(type(t))\n"
   ]
  },
  {
   "cell_type": "code",
   "execution_count": 7,
   "metadata": {},
   "outputs": [
    {
     "name": "stdout",
     "output_type": "stream",
     "text": [
      "<class 'list'>\n",
      "<class 'tuple'>\n",
      "(1, 2, 3, 4, 5)\n"
     ]
    },
    {
     "ename": "AttributeError",
     "evalue": "'tuple' object has no attribute 'remove'",
     "output_type": "error",
     "traceback": [
      "\u001b[1;31m---------------------------------------------------------------------------\u001b[0m",
      "\u001b[1;31mAttributeError\u001b[0m                            Traceback (most recent call last)",
      "\u001b[1;32m<ipython-input-7-84b3b8fa8171>\u001b[0m in \u001b[0;36m<module>\u001b[1;34m()\u001b[0m\n\u001b[0;32m      6\u001b[0m \u001b[0mprint\u001b[0m\u001b[1;33m(\u001b[0m\u001b[0mt1\u001b[0m\u001b[1;33m)\u001b[0m\u001b[1;33m\u001b[0m\u001b[0m\n\u001b[0;32m      7\u001b[0m \u001b[1;33m\u001b[0m\u001b[0m\n\u001b[1;32m----> 8\u001b[1;33m \u001b[0mt1\u001b[0m\u001b[1;33m.\u001b[0m\u001b[0mremove\u001b[0m\u001b[1;33m(\u001b[0m\u001b[1;36m1\u001b[0m\u001b[1;33m)\u001b[0m\u001b[1;33m\u001b[0m\u001b[0m\n\u001b[0m\u001b[0;32m      9\u001b[0m \u001b[0mprint\u001b[0m\u001b[1;33m(\u001b[0m\u001b[0mt1\u001b[0m\u001b[1;33m)\u001b[0m\u001b[1;33m\u001b[0m\u001b[0m\n",
      "\u001b[1;31mAttributeError\u001b[0m: 'tuple' object has no attribute 'remove'"
     ]
    }
   ],
   "source": [
    "t = [1,2,3,4,5]\n",
    "print(type(t))\n",
    "\n",
    "t1 = tuple(t)\n",
    "print(type(t1))\n",
    "print(t1)\n",
    "\n",
    "t1.remove(1)\n",
    "print(t1)"
   ]
  },
  {
   "cell_type": "code",
   "execution_count": 58,
   "metadata": {},
   "outputs": [
    {
     "name": "stdout",
     "output_type": "stream",
     "text": [
      "3\n",
      "7\n",
      "********************\n",
      "(2, 4, 6, 8)\n",
      "94847048\n",
      "95003336\n"
     ]
    }
   ],
   "source": [
    "t = (1,2,3,4,5,6,7,8)\n",
    "print(t[2])\n",
    "print(t[-2])\n",
    "print('*' * 20)\n",
    "\n",
    "t1 = t[1::2]\n",
    "print(t1)\n",
    "print(id(t))  # t 和 t1 的地址是不一样的\n",
    "print(id(t1))"
   ]
  },
  {
   "cell_type": "code",
   "execution_count": 44,
   "metadata": {},
   "outputs": [
    {
     "ename": "TypeError",
     "evalue": "'tuple' object does not support item assignment",
     "output_type": "error",
     "traceback": [
      "\u001b[1;31m---------------------------------------------------------------------------\u001b[0m",
      "\u001b[1;31mTypeError\u001b[0m                                 Traceback (most recent call last)",
      "\u001b[1;32m<ipython-input-44-5a63c0569ac9>\u001b[0m in \u001b[0;36m<module>\u001b[1;34m()\u001b[0m\n\u001b[0;32m      1\u001b[0m \u001b[0mt\u001b[0m \u001b[1;33m=\u001b[0m \u001b[1;33m(\u001b[0m\u001b[1;36m1\u001b[0m\u001b[1;33m,\u001b[0m\u001b[1;36m2\u001b[0m\u001b[1;33m,\u001b[0m\u001b[1;36m3\u001b[0m\u001b[1;33m)\u001b[0m\u001b[1;33m\u001b[0m\u001b[0m\n\u001b[0;32m      2\u001b[0m \u001b[0mt1\u001b[0m \u001b[1;33m=\u001b[0m \u001b[1;33m(\u001b[0m\u001b[1;34m'i'\u001b[0m\u001b[1;33m,\u001b[0m\u001b[1;34m'like'\u001b[0m\u001b[1;33m,\u001b[0m\u001b[1;34m'python'\u001b[0m\u001b[1;33m)\u001b[0m\u001b[1;33m\u001b[0m\u001b[0m\n\u001b[1;32m----> 3\u001b[1;33m \u001b[0mt\u001b[0m\u001b[1;33m[\u001b[0m\u001b[1;36m1\u001b[0m\u001b[1;33m]\u001b[0m \u001b[1;33m=\u001b[0m \u001b[1;36m100\u001b[0m\u001b[1;33m\u001b[0m\u001b[0m\n\u001b[0m\u001b[0;32m      4\u001b[0m \u001b[0mprint\u001b[0m\u001b[1;33m(\u001b[0m\u001b[0mt\u001b[0m\u001b[1;33m)\u001b[0m\u001b[1;33m\u001b[0m\u001b[0m\n",
      "\u001b[1;31mTypeError\u001b[0m: 'tuple' object does not support item assignment"
     ]
    }
   ],
   "source": [
    "t = (1,2,3)\n",
    "t1 = ('i','like','python')\n",
    "t[1] = 100  # tuple 中的元素不能被修改\n",
    "print(t)"
   ]
  },
  {
   "cell_type": "code",
   "execution_count": 46,
   "metadata": {},
   "outputs": [
    {
     "name": "stdout",
     "output_type": "stream",
     "text": [
      "(1, 2, 3, 'i', 'like', 'python')\n"
     ]
    }
   ],
   "source": [
    "t = (1,2,3)\n",
    "t1 = ('i','like','python')\n",
    "t2 = t + t1  # 创建一个新的元祖\n",
    "print(t2)"
   ]
  },
  {
   "cell_type": "code",
   "execution_count": 51,
   "metadata": {},
   "outputs": [
    {
     "name": "stdout",
     "output_type": "stream",
     "text": [
      "yes\n"
     ]
    }
   ],
   "source": [
    "#成员检测 in 和 not in\n",
    "t = (1,2,3)  \n",
    "if 2 in t:\n",
    "    print('yes')\n",
    "else:\n",
    "    print('no')\n",
    " "
   ]
  },
  {
   "cell_type": "code",
   "execution_count": 53,
   "metadata": {},
   "outputs": [
    {
     "name": "stdout",
     "output_type": "stream",
     "text": [
      "1 2 eli like python "
     ]
    }
   ],
   "source": [
    "# 元祖元素的遍历\n",
    "t = (1,2,'eli','like','python') \n",
    "for i in t:\n",
    "    print(i,end=\" \")"
   ]
  },
  {
   "cell_type": "code",
   "execution_count": 57,
   "metadata": {},
   "outputs": [
    {
     "name": "stdout",
     "output_type": "stream",
     "text": [
      "1 -- 2\n",
      "eli -- jack\n",
      "like -- love\n"
     ]
    }
   ],
   "source": [
    "t = ((1,2),('eli','jack'),('like','love'))\n",
    "for m,n in t:\n",
    "    print(m,\"--\",n)"
   ]
  },
  {
   "cell_type": "code",
   "execution_count": null,
   "metadata": {},
   "outputs": [],
   "source": []
  },
  {
   "cell_type": "code",
   "execution_count": null,
   "metadata": {},
   "outputs": [],
   "source": []
  }
 ],
 "metadata": {
  "kernelspec": {
   "display_name": "Python 3",
   "language": "python",
   "name": "python3"
  },
  "language_info": {
   "codemirror_mode": {
    "name": "ipython",
    "version": 3
   },
   "file_extension": ".py",
   "mimetype": "text/x-python",
   "name": "python",
   "nbconvert_exporter": "python",
   "pygments_lexer": "ipython3",
   "version": "3.6.4"
  }
 },
 "nbformat": 4,
 "nbformat_minor": 2
}
