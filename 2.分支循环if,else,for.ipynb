{
 "cells": [
  {
   "cell_type": "code",
   "execution_count": 3,
   "metadata": {},
   "outputs": [
    {
     "name": "stdout",
     "output_type": "stream",
     "text": [
      "xiaohaizi\n",
      "haohaoxuexi\n",
      "ceshi\n"
     ]
    }
   ],
   "source": [
    "# 顺序 分支 循环\n",
    "#if 语句 \n",
    "age = 17\n",
    "if  age < 18:\n",
    "    print(\"xiaohaizi\") #print缩进对齐形成语句块\n",
    "    print(\"haohaoxuexi\") \n",
    "    print(\"ceshi\")\n"
   ]
  },
  {
   "cell_type": "code",
   "execution_count": 24,
   "metadata": {},
   "outputs": [
    {
     "name": "stdout",
     "output_type": "stream",
     "text": [
      "请输入性别：人\n",
      "你输入的性别是人\n",
      "请正确输入你的性别\n"
     ]
    }
   ],
   "source": [
    "#if else 语句\n",
    "gender = input(\"请输入性别：\")\n",
    "print(\"你输入的性别是{0}\".format(gender))\n",
    "if  gender == \"男\":\n",
    "    print(\"you are a boy\")\n",
    "if  gender == \"女\":\n",
    "    print(\"you are a girl\")\n",
    "if  (gender == \"男\")==False and (gender == \"女\")==False:\n",
    "    print(\"请正确输入你的性别\")\n",
    "\n"
   ]
  },
  {
   "cell_type": "code",
   "execution_count": 20,
   "metadata": {},
   "outputs": [
    {
     "name": "stdout",
     "output_type": "stream",
     "text": [
      "请输入你的分数：84\n",
      "B\n"
     ]
    }
   ],
   "source": [
    "score = input(\"请输入你的分数：\") # if 的分支\n",
    "score = int(score)\n",
    "if  score >= 90:\n",
    "    print(\"A\")\n",
    "if  score >= 80 and score < 90:\n",
    "    print(\"B\")\n",
    "if  score >= 70 and score < 80:\n",
    "    print(\"C\")\n",
    "if  score >= 60 and score < 70:\n",
    "    print(\"D\")\n",
    "if  score < 60:\n",
    "    print(\"gogogo\")"
   ]
  },
  {
   "cell_type": "code",
   "execution_count": 30,
   "metadata": {},
   "outputs": [
    {
     "name": "stdout",
     "output_type": "stream",
     "text": [
      "请输入你的分数：90\n",
      "A\n"
     ]
    }
   ],
   "source": [
    "score = input(\"请输入你的分数：\") # if ...elif...else的分支\n",
    "score = int(score)\n",
    "if  score >= 90:\n",
    "    print(\"A\")\n",
    "elif score >= 80:\n",
    "    print(\"B\")\n",
    "elif score >= 70:\n",
    "    print(\"C\")\n",
    "elif score >= 60:\n",
    "    print(\"D\")\n",
    "else:\n",
    "    print(\"Come on\")"
   ]
  },
  {
   "cell_type": "markdown",
   "metadata": {},
   "source": [
    "1.if 语句可以嵌套，但不推荐。简洁明了，好理解。python中没有switch-case语句\n",
    "2.循环语句 重复执行某些固定动作或者基本固定的事物。\n",
    "for 循环\n",
    "while 循环\n",
    "\n"
   ]
  },
  {
   "cell_type": "code",
   "execution_count": 32,
   "metadata": {},
   "outputs": [
    {
     "name": "stdout",
     "output_type": "stream",
     "text": [
      "blue\n",
      "red\n",
      "green\n",
      "black\n"
     ]
    }
   ],
   "source": [
    "# for 变量 in 序列  列表就是一列数字或者其他的值，一般用中括号表示\n",
    "for colour in ['blue','red','green','black']:\n",
    "    print(colour)\n",
    "    "
   ]
  },
  {
   "cell_type": "code",
   "execution_count": 35,
   "metadata": {},
   "outputs": [
    {
     "name": "stdout",
     "output_type": "stream",
     "text": [
      "blue\n",
      "i don't like this colour\n",
      "red\n",
      "i don't like this colour\n",
      "green\n",
      "i like green best\n",
      "black\n",
      "i don't like this colour\n"
     ]
    }
   ],
   "source": [
    "for colour in ['blue','red','green','black']:\n",
    "    print(colour)\n",
    "    if colour == \"green\":\n",
    "        print(\"i like {0} best\".format(colour))\n",
    "    else:\n",
    "        print(\"i don't like this colour\")"
   ]
  },
  {
   "cell_type": "code",
   "execution_count": 42,
   "metadata": {},
   "outputs": [
    {
     "name": "stdout",
     "output_type": "stream",
     "text": [
      "1\n",
      "2\n",
      "3\n",
      "4\n",
      "5\n",
      "6\n",
      "7\n",
      "8\n",
      "9\n"
     ]
    }
   ],
   "source": [
    "# range生成一个数字序列，范围可以设定\n",
    "# range 包含左边的数，不包含右边的数\n",
    "# range(stop)   range(start, stop[, step])\n",
    "for i in range(1,10):\n",
    "    print(i)\n"
   ]
  },
  {
   "cell_type": "code",
   "execution_count": 44,
   "metadata": {},
   "outputs": [
    {
     "name": "stdout",
     "output_type": "stream",
     "text": [
      "0\n",
      "1\n",
      "2\n",
      "3\n",
      "4\n",
      "5\n",
      "6\n",
      "7\n",
      "8\n",
      "9\n"
     ]
    }
   ],
   "source": [
    "for a in range(10):\n",
    "    print(a)"
   ]
  },
  {
   "cell_type": "code",
   "execution_count": 46,
   "metadata": {},
   "outputs": [
    {
     "name": "stdout",
     "output_type": "stream",
     "text": [
      "1\n",
      "3\n",
      "5\n",
      "7\n",
      "9\n"
     ]
    }
   ],
   "source": [
    "for i in range(1,10,2):\n",
    "    print(i)"
   ]
  },
  {
   "cell_type": "code",
   "execution_count": 48,
   "metadata": {},
   "outputs": [
    {
     "name": "stdout",
     "output_type": "stream",
     "text": [
      "r\n",
      "u\n",
      "n\n",
      "o\n",
      "o\n",
      "b\n"
     ]
    }
   ],
   "source": [
    "x = 'runoob'\n",
    "for i in range(len(x)):\n",
    "    print(x[i])"
   ]
  },
  {
   "cell_type": "code",
   "execution_count": 3,
   "metadata": {},
   "outputs": [
    {
     "name": "stdout",
     "output_type": "stream",
     "text": [
      "1\n",
      "2\n",
      "3\n",
      "4\n",
      "5\n",
      "i find 6\n"
     ]
    }
   ],
   "source": [
    "for i in range(1,11): # break 结束整个循环\n",
    "    if i == 6:\n",
    "        print(\"i find 6\")\n",
    "        break\n",
    "    else:\n",
    "        print(i)\n"
   ]
  },
  {
   "cell_type": "code",
   "execution_count": 55,
   "metadata": {},
   "outputs": [
    {
     "name": "stdout",
     "output_type": "stream",
     "text": [
      "2是偶数\n",
      "4是偶数\n",
      "6是偶数\n",
      "8是偶数\n",
      "10是偶数\n"
     ]
    }
   ],
   "source": [
    "for i in range(1,11):\n",
    "    if i%2 == 0:\n",
    "        print(\"{0}是偶数\".format(i))\n"
   ]
  },
  {
   "cell_type": "code",
   "execution_count": 57,
   "metadata": {},
   "outputs": [
    {
     "name": "stdout",
     "output_type": "stream",
     "text": [
      "1是奇数\n",
      "2是偶数\n",
      "3是奇数\n",
      "4是偶数\n",
      "5是奇数\n",
      "6是偶数\n",
      "7是奇数\n",
      "8是偶数\n",
      "9是奇数\n",
      "10是偶数\n"
     ]
    }
   ],
   "source": [
    "for i in range(1,11):\n",
    "    if i%2 == 1:\n",
    "        print(\"{0}是奇数\".format(i))\n",
    "    else:\n",
    "        print(\"{0}是偶数\".format(i))\n",
    "        "
   ]
  },
  {
   "cell_type": "code",
   "execution_count": 59,
   "metadata": {},
   "outputs": [
    {
     "name": "stdout",
     "output_type": "stream",
     "text": [
      "2是偶数\n",
      "4是偶数\n",
      "6是偶数\n",
      "8是偶数\n",
      "10是偶数\n"
     ]
    }
   ],
   "source": [
    "for i in range(1,11): # continue 结束本次循环 进入下一轮循环\n",
    "    if i%2 == 1:\n",
    "        continue\n",
    "    print(\"{0}是偶数\".format(i))"
   ]
  },
  {
   "cell_type": "code",
   "execution_count": 60,
   "metadata": {},
   "outputs": [
    {
     "name": "stdout",
     "output_type": "stream",
     "text": [
      "2是偶数\n",
      "4是偶数\n",
      "6是偶数\n",
      "8是偶数\n",
      "10是偶数\n"
     ]
    }
   ],
   "source": [
    "for i in range(1,11):\n",
    "    if i%2 == 1:\n",
    "        continue\n",
    "    else:\n",
    "        print(\"{0}是偶数\".format(i))"
   ]
  }
 ],
 "metadata": {
  "kernelspec": {
   "display_name": "Python 3",
   "language": "python",
   "name": "python3"
  },
  "language_info": {
   "codemirror_mode": {
    "name": "ipython",
    "version": 3
   },
   "file_extension": ".py",
   "mimetype": "text/x-python",
   "name": "python",
   "nbconvert_exporter": "python",
   "pygments_lexer": "ipython3",
   "version": "3.6.4"
  }
 },
 "nbformat": 4,
 "nbformat_minor": 2
}
