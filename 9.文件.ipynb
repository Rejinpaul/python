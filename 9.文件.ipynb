{
 "cells": [
  {
   "cell_type": "markdown",
   "metadata": {},
   "source": [
    "文件\n",
    "长久保存信息的一种数据信息集合\n",
    "常用操作\n",
    "打开关闭（文件一旦打开，需要关闭操作）\n",
    "读写内容\n",
    "查找 # open函数\n",
    "open函数负责打开文件，带有很多参数\n",
    "第一个参数： 必须有，文件的路径和名称\n",
    "mode：表明文件用什么方式打开\n",
    "r:以只读方式打开\n",
    "w：写方式打开，会覆盖以前的内容\n",
    "x：创建方式打开，如文件已经存在，报错\n",
    "a：append方式，以追加的方式对文件内容进行写入\n",
    "b： binary方式，二进制方式写入\n",
    "t： 文本方式打开\n",
    "+： 可读写"
   ]
  },
  {
   "cell_type": "code",
   "execution_count": 23,
   "metadata": {},
   "outputs": [],
   "source": [
    "# 打开文件，用写的方式\n",
    "# r表示后面字符串内容不需要转义\n",
    "# f称之为文件句柄\n",
    "f = open(r\"test01.txt\", 'w')\n",
    "# 文件打开后必须关闭\n",
    "f.close()\n",
    "\n",
    "# 此案例说明，以写方式打开文件，默认是如果没有文件，则创建"
   ]
  },
  {
   "cell_type": "code",
   "execution_count": 29,
   "metadata": {},
   "outputs": [
    {
     "name": "stdout",
     "output_type": "stream",
     "text": [
      "文件的名字： test01.txt\n"
     ]
    }
   ],
   "source": [
    "f = open(r\"test01.txt\",'r')\n",
    "print(\"文件的名字：\",f.name)\n",
    "f.flush()  # 刷新缓冲区的，将缓冲区中的数据立刻写入文件，同时清空缓冲区\n",
    "f.close()"
   ]
  },
  {
   "cell_type": "code",
   "execution_count": 35,
   "metadata": {},
   "outputs": [
    {
     "name": "stdout",
     "output_type": "stream",
     "text": [
      "******************************"
     ]
    }
   ],
   "source": [
    "\n",
    "import sys,time\n",
    "for i in range(30): #进度条类型 \n",
    "    sys.stdout.write(\"*\")\n",
    "    sys.stdout.flush()\n",
    "    time.sleep(0.2)"
   ]
  },
  {
   "cell_type": "code",
   "execution_count": 49,
   "metadata": {},
   "outputs": [
    {
     "name": "stdout",
     "output_type": "stream",
     "text": [
      "文件名字是： test01.txt\n",
      "读取第一行：1:www.runoob.com\n",
      "\n",
      "读取的字符串是：2:www.runoob\n"
     ]
    }
   ],
   "source": [
    "with open(r'test01.txt','r') as f:\n",
    "    print(\"文件名字是：\",f.name)\n",
    "    l = f.readline()   \n",
    "    print(\"读取第一行：%s\"%l)\n",
    "    line = f.read(12)  # 用于从文件读取指定的字节数，如果未给定或为负则读取所有\n",
    "    print(\"读取的字符串是：%s\"%(line))\n",
    "   "
   ]
  },
  {
   "cell_type": "markdown",
   "metadata": {},
   "source": [
    "with语句\n",
    "with语句使用的技术是一种成为上下文管理协议的技术(ContextManagementProtocal)\n",
    "自动判断文件的 作用域， 自动关闭不在使用的打开的文件句柄"
   ]
  },
  {
   "cell_type": "code",
   "execution_count": 8,
   "metadata": {},
   "outputs": [
    {
     "name": "stdout",
     "output_type": "stream",
     "text": [
      "不忘初心\n",
      "\n",
      "坚持自我\n",
      "\n"
     ]
    }
   ],
   "source": [
    "# with案例\n",
    "\n",
    "with open(r'test01.txt', 'r',encoding=\"utf-8\") as f:\n",
    "    # 按行读取内容\n",
    "    strline = f.readline()\n",
    "    # 此结构保证能够完整读取文件知道结束\n",
    "    while strline:\n",
    "        print(strline)\n",
    "        strline = f.readline()"
   ]
  },
  {
   "cell_type": "code",
   "execution_count": 11,
   "metadata": {},
   "outputs": [
    {
     "name": "stdout",
     "output_type": "stream",
     "text": [
      "不忘初心\n",
      "\n",
      "坚持自我\n",
      "\n"
     ]
    }
   ],
   "source": [
    "# list能用打开的文件作为参数，把文件内每一行内容作为一个元素\n",
    "with open(r'test01.txt','r',encoding=\"utf-8\") as f:\n",
    "    l = list(f)  # 以打开的文件f作为参数，创建列表\n",
    "    for line in l:\n",
    "        print(line)"
   ]
  },
  {
   "cell_type": "code",
   "execution_count": 16,
   "metadata": {},
   "outputs": [
    {
     "name": "stdout",
     "output_type": "stream",
     "text": [
      "2\n",
      "不忘\n"
     ]
    }
   ],
   "source": [
    "# read是按字符读取文件内容\n",
    "# 允许输入参数决定读取几个字符，如果没有制定，从当前位置读取到结尾\n",
    "# 否则，从当前位置读取指定个数字符\n",
    "\n",
    "with open(r'test01.txt', 'r',encoding=\"utf-8\") as f:\n",
    "    strChar = f.read(2)\n",
    "    print(len(strChar))\n",
    "    print(strChar)"
   ]
  },
  {
   "cell_type": "code",
   "execution_count": 50,
   "metadata": {},
   "outputs": [
    {
     "name": "stdout",
     "output_type": "stream",
     "text": [
      "runoob.com\n",
      "2:www.runoob.com\n",
      "3:www.runoob.com\n",
      "4:www.runoob.com\n",
      "5:www.runoob.com\n"
     ]
    }
   ],
   "source": [
    "with open(r'test01.txt','r',encoding=\"utf-8\") as f:\n",
    "    f.seek(6,0)\n",
    "    str = f.read()\n",
    "    print(str)"
   ]
  },
  {
   "cell_type": "code",
   "execution_count": 61,
   "metadata": {},
   "outputs": [
    {
     "name": "stdout",
     "output_type": "stream",
     "text": [
      "读取的数据是：1:www.runoob.com\n",
      "\n",
      "读取的数据是：1:www.runoob.com\n",
      "\n"
     ]
    }
   ],
   "source": [
    "# seek() 方法用于移动文件读取指针到指定位置。\n",
    "with open(r'test01.txt','r',encoding='utf-8') as f:\n",
    "    l = f.readline()\n",
    "    print(\"读取的数据是：%s\"%l)\n",
    "    \n",
    "    f.seek(0,0) #重新设置文件的指针到开头\n",
    "    l2 = f.readline()\n",
    "    print(\"读取的数据是：%s\"%(l2))"
   ]
  },
  {
   "cell_type": "code",
   "execution_count": 10,
   "metadata": {},
   "outputs": [
    {
     "name": "stdout",
     "output_type": "stream",
     "text": [
      "读取当前数据是：每天坚持，一点一滴\n",
      "文件指针当前位置：27\n"
     ]
    }
   ],
   "source": [
    "# tell() 文件指针的当前位置\n",
    "with open(r'test01.txt','r',encoding='utf-8') as f:\n",
    "    line = f.readline()\n",
    "    print(\"读取当前数据是：%s\"%(line))\n",
    "    pos = f.tell()\n",
    "    print(\"文件指针当前位置：%s\"%(pos))\n"
   ]
  },
  {
   "cell_type": "code",
   "execution_count": null,
   "metadata": {},
   "outputs": [],
   "source": [
    "\n"
   ]
  },
  {
   "cell_type": "code",
   "execution_count": null,
   "metadata": {},
   "outputs": [],
   "source": []
  },
  {
   "cell_type": "code",
   "execution_count": null,
   "metadata": {},
   "outputs": [],
   "source": []
  }
 ],
 "metadata": {
  "kernelspec": {
   "display_name": "Python 3",
   "language": "python",
   "name": "python3"
  },
  "language_info": {
   "codemirror_mode": {
    "name": "ipython",
    "version": 3
   },
   "file_extension": ".py",
   "mimetype": "text/x-python",
   "name": "python",
   "nbconvert_exporter": "python",
   "pygments_lexer": "ipython3",
   "version": "3.6.4"
  }
 },
 "nbformat": 4,
 "nbformat_minor": 2
}
