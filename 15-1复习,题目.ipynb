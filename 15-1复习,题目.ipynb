{
 "cells": [
  {
   "cell_type": "code",
   "execution_count": 8,
   "metadata": {},
   "outputs": [
    {
     "name": "stdout",
     "output_type": "stream",
     "text": [
      "var1[3] h\n",
      "var2[1:6] ello \n",
      "var2[1:7] ello E\n",
      "字符串更新: Hello python\n"
     ]
    }
   ],
   "source": [
    "var1 = 'python'\n",
    "var2 = 'Hello Eli'\n",
    "print(\"var1[3]\",var1[3])\n",
    "print(\"var2[1:6]\",var2[1:6])\n",
    "print(\"var2[1:7]\",var2[1:7])\n",
    "\n",
    "print(\"字符串更新:\",var2[:6]+var1)"
   ]
  },
  {
   "cell_type": "code",
   "execution_count": 9,
   "metadata": {},
   "outputs": [
    {
     "name": "stdout",
     "output_type": "stream",
     "text": [
      "这是一个多行字符串的实例\n",
      "多行字符串可以使用制表符\n",
      "TAB ( \t )。\n",
      "也可以使用换行符 [ \n",
      " ]。\n",
      "\n"
     ]
    }
   ],
   "source": [
    "para_str = \"\"\"这是一个多行字符串的实例\n",
    "多行字符串可以使用制表符\n",
    "TAB ( \\t )。\n",
    "也可以使用换行符 [ \\n ]。\n",
    "\"\"\"\n",
    "print (para_str)"
   ]
  },
  {
   "cell_type": "code",
   "execution_count": 12,
   "metadata": {},
   "outputs": [
    {
     "name": "stdout",
     "output_type": "stream",
     "text": [
      "Python\n"
     ]
    }
   ],
   "source": [
    "var = 'python'\n",
    "print(var.capitalize())\n"
   ]
  },
  {
   "cell_type": "code",
   "execution_count": 19,
   "metadata": {},
   "outputs": [
    {
     "name": "stdout",
     "output_type": "stream",
     "text": [
      "dict['Age']:  8\n",
      "dict['School']:  菜鸟教程\n",
      "{'Age': 8, 'Class': 'First', 'School': '菜鸟教程'}\n",
      "<class 'dict'>\n"
     ]
    }
   ],
   "source": [
    "dict = {'Name': 'Runoob', 'Age': 7, 'Class': 'First'}\n",
    " \n",
    "dict['Age'] = 8;             # 更新 Age\n",
    "dict['School'] = \"菜鸟教程\"  # 添加信息\n",
    " \n",
    " \n",
    "print (\"dict['Age']: \", dict['Age'])\n",
    "print(\"dict['School']: \",dict['School'])\n",
    "\n",
    "del dict['Name']\n",
    "print(dict)\n",
    "\n",
    "del dict\n",
    "print(dict)"
   ]
  },
  {
   "cell_type": "code",
   "execution_count": 34,
   "metadata": {},
   "outputs": [
    {
     "name": "stdout",
     "output_type": "stream",
     "text": [
      "{'orange', 'apple', 'banana', 'pear'}\n",
      "True\n",
      "False\n",
      "True\n",
      "{'orange', 1, 2, 'pear', 'apple', 'watermelon', 'banana'}\n",
      "{'orange', 1, 2, 3, 4, 'pear', 5, 6, 'apple', 'watermelon', 'banana'}\n",
      "{'orange', 1, 2, 3, 4, 'pear', 5, 'apple', 'watermelon', 'banana'}\n",
      "{1, 2, 3, 4, 'pear', 5, 'apple', 'watermelon', 'banana'}\n",
      "{2, 3, 4, 'pear', 5, 'apple', 'watermelon', 'banana'}\n"
     ]
    }
   ],
   "source": [
    "basket = {'apple', 'orange', 'apple', 'pear', 'orange', 'banana'}\n",
    "print(basket)\n",
    "\n",
    "print('apple' in basket)\n",
    "print('watermelon' in basket)\n",
    "\n",
    "basket.add('watermelon')\n",
    "print('watermelon' in basket)\n",
    "\n",
    "basket.update({1,2})\n",
    "print(basket)\n",
    "\n",
    "basket.update([3,4],[5,6])\n",
    "print(basket)\n",
    "\n",
    "basket.remove(6)\n",
    "print(basket)\n",
    "\n",
    "basket.discard('orange')\n",
    "print(basket)\n",
    "\n",
    "basket.pop() #随机删除一个元素\n",
    "print(basket)"
   ]
  },
  {
   "cell_type": "code",
   "execution_count": 3,
   "metadata": {},
   "outputs": [
    {
     "name": "stdout",
     "output_type": "stream",
     "text": [
      "1, 1, 2, 3, 5, 8, 13, 21, 34, 55, 89, 144, 233, 377, 610, 987, "
     ]
    }
   ],
   "source": [
    "# 斐波那契数列\n",
    "a, b = 0, 1\n",
    "while b<1000:\n",
    "    print(b, end=', ') #end 将结果输出在同一行，或者在输出的末尾添加不同的字符\n",
    "    a, b = b, a+b\n",
    "    "
   ]
  },
  {
   "cell_type": "code",
   "execution_count": 6,
   "metadata": {},
   "outputs": [
    {
     "name": "stdout",
     "output_type": "stream",
     "text": [
      "55\n"
     ]
    }
   ],
   "source": [
    "def fib(n):\n",
    "    a,b = 1,1\n",
    "    for i in range(n-1):\n",
    "        a,b = b,a+b\n",
    "    return a\n",
    " \n",
    "# 输出了第10个斐波那契数列\n",
    "print(fib(10))"
   ]
  },
  {
   "cell_type": "code",
   "execution_count": 22,
   "metadata": {},
   "outputs": [
    {
     "data": {
      "text/plain": [
       "55"
      ]
     },
     "execution_count": 22,
     "metadata": {},
     "output_type": "execute_result"
    }
   ],
   "source": [
    "#使用递归来算菲波那切数列\n",
    "def fib(n):\n",
    "    if n==1 or n==2:\n",
    "        return 1\n",
    "    return fib(n-2)+fib(n-1)\n",
    "fib(10)"
   ]
  },
  {
   "cell_type": "code",
   "execution_count": 25,
   "metadata": {},
   "outputs": [
    {
     "name": "stdout",
     "output_type": "stream",
     "text": [
      "[1, 1, 2, 3, 5, 8, 13, 21, 34, 55]\n"
     ]
    }
   ],
   "source": [
    "def fib(n):\n",
    "    if n == 1:\n",
    "        return [1]\n",
    "    if n == 2:\n",
    "        return [1, 1]\n",
    "    fibs = [1, 1]\n",
    "    for i in range(2, n):\n",
    "        fibs.append(fibs[-1] + fibs[-2])\n",
    "    return fibs\n",
    " \n",
    "# 输出前 10 个斐波那契数列\n",
    "print(fib(10))\n",
    "    "
   ]
  },
  {
   "cell_type": "code",
   "execution_count": null,
   "metadata": {},
   "outputs": [],
   "source": []
  },
  {
   "cell_type": "code",
   "execution_count": 1,
   "metadata": {},
   "outputs": [
    {
     "name": "stdout",
     "output_type": "stream",
     "text": [
      "请输入你家狗狗的年龄: 3\n",
      "\n",
      "对应人类年龄:  27\n",
      "点击 enter 键退出\n"
     ]
    },
    {
     "data": {
      "text/plain": [
       "''"
      ]
     },
     "execution_count": 1,
     "metadata": {},
     "output_type": "execute_result"
    }
   ],
   "source": [
    "age = int(input(\"请输入你家狗狗的年龄: \"))\n",
    "print('')\n",
    "\n",
    "if age < 0:\n",
    "    print(\"你是在逗我吧!\")\n",
    "elif age == 1:\n",
    "    print(\"相当于 14 岁的人。\")\n",
    "elif age == 2:\n",
    "    print(\"相当于 22 岁的人。\")\n",
    "elif age > 2:\n",
    "    human = 22 + (age -2)*5\n",
    "    print(\"对应人类年龄: \", human)\n",
    "    \n",
    "### 退出提示\n",
    "input(\"点击 enter 键退出\")"
   ]
  },
  {
   "cell_type": "code",
   "execution_count": 4,
   "metadata": {},
   "outputs": [
    {
     "name": "stdout",
     "output_type": "stream",
     "text": [
      "数字猜谜游戏!\n",
      "请输入你猜的数字：6\n",
      "猜的数字小了...\n",
      "请输入你猜的数字：9\n",
      "猜的数字大了...\n",
      "请输入你猜的数字：7\n",
      "恭喜，你猜对了！\n"
     ]
    }
   ],
   "source": [
    "# 该实例演示了数字猜谜游戏\n",
    "number = 7\n",
    "guess = -1\n",
    "print(\"数字猜谜游戏!\")\n",
    "while guess != number:\n",
    "    guess = int(input(\"请输入你猜的数字：\"))\n",
    " \n",
    "    if guess == number:\n",
    "        print(\"恭喜，你猜对了！\")\n",
    "    elif guess < number:\n",
    "        print(\"猜的数字小了...\")\n",
    "    elif guess > number:\n",
    "        print(\"猜的数字大了...\")"
   ]
  },
  {
   "cell_type": "code",
   "execution_count": 80,
   "metadata": {},
   "outputs": [
    {
     "name": "stdout",
     "output_type": "stream",
     "text": [
      "0到100的和是5050\n"
     ]
    }
   ],
   "source": [
    "sum = 0\n",
    "n = 1\n",
    "while n<=100:\n",
    "    \n",
    "    sum = sum + n\n",
    "    n += 1\n",
    "print(\"0到100的和是%d\"%(sum))    "
   ]
  },
  {
   "cell_type": "code",
   "execution_count": 78,
   "metadata": {},
   "outputs": [
    {
     "name": "stdout",
     "output_type": "stream",
     "text": [
      "while循环0到100奇数和是：2500\n"
     ]
    }
   ],
   "source": [
    "sum = 0\n",
    "n = 1\n",
    "while n<= 100:\n",
    "    sum = sum + n\n",
    "    n = n+2\n",
    "print(\"while循环0到100奇数和是：%d\"%sum)"
   ]
  },
  {
   "cell_type": "code",
   "execution_count": 77,
   "metadata": {},
   "outputs": [
    {
     "name": "stdout",
     "output_type": "stream",
     "text": [
      "while循环0到100偶数和是：2550\n"
     ]
    }
   ],
   "source": [
    "sum = 0\n",
    "n = 0\n",
    "while n<= 100:\n",
    "    sum = sum + n\n",
    "    n = n+2\n",
    "print(\"while循环0到100偶数和是：%d\"%sum)"
   ]
  },
  {
   "cell_type": "code",
   "execution_count": 79,
   "metadata": {},
   "outputs": [
    {
     "name": "stdout",
     "output_type": "stream",
     "text": [
      "for循环0到100偶数的和是：2550\n"
     ]
    }
   ],
   "source": [
    "sum = 0\n",
    "for i in range(0,101,2):\n",
    "    sum = sum + i\n",
    "print(\"for循环0到100偶数和是：%d\"%sum)"
   ]
  },
  {
   "cell_type": "code",
   "execution_count": 80,
   "metadata": {},
   "outputs": [
    {
     "name": "stdout",
     "output_type": "stream",
     "text": [
      "for循环0到100奇数和是：2500\n"
     ]
    }
   ],
   "source": [
    "sum = 0\n",
    "for i in range(1,101,2):\n",
    "    sum = sum + i\n",
    "print(\"for循环0到100奇数和是：%d\"%sum)"
   ]
  },
  {
   "cell_type": "code",
   "execution_count": 90,
   "metadata": {},
   "outputs": [
    {
     "name": "stdout",
     "output_type": "stream",
     "text": [
      "当前字母是： a\n",
      "当前字母是： p\n",
      "当前字母是： p\n",
      "当前变量是： 10\n",
      "当前变量是： 9\n",
      "当前变量是： 8\n",
      "当前变量是： 7\n",
      "当前变量是： 6\n"
     ]
    }
   ],
   "source": [
    "for letter in 'apple':\n",
    "    if letter == 'l':\n",
    "        break       \n",
    "    print(\"当前字母是：\",letter)\n",
    "    \n",
    "var = 10\n",
    "while var>0:\n",
    "    print(\"当前变量是：\",var)\n",
    "    var = var - 1\n",
    "    if var == 5:\n",
    "        break\n",
    "    "
   ]
  },
  {
   "cell_type": "code",
   "execution_count": 88,
   "metadata": {},
   "outputs": [
    {
     "name": "stdout",
     "output_type": "stream",
     "text": [
      "当前字母是： a\n",
      "当前字母是： p\n",
      "当前字母是： p\n",
      "当前字母是： e\n",
      "当前变量是： 9\n",
      "当前变量是： 8\n",
      "当前变量是： 7\n",
      "当前变量是： 6\n",
      "当前变量是： 4\n",
      "当前变量是： 3\n",
      "当前变量是： 2\n",
      "当前变量是： 1\n",
      "当前变量是： 0\n"
     ]
    }
   ],
   "source": [
    "for letter in 'apple':\n",
    "    if letter == 'l':\n",
    "        continue       \n",
    "    print(\"当前字母是：\",letter)\n",
    "    \n",
    "var = 10\n",
    "while var>0:\n",
    "    var = var - 1\n",
    "    if var == 5:\n",
    "        continue\n",
    "    print(\"当前变量是：\",var)\n",
    "    "
   ]
  },
  {
   "cell_type": "code",
   "execution_count": 92,
   "metadata": {},
   "outputs": [
    {
     "name": "stdout",
     "output_type": "stream",
     "text": [
      "1\n",
      "2\n"
     ]
    }
   ],
   "source": [
    "list = [1,2,3,4]\n",
    "it = iter(list)  # 创建迭代器对象\n",
    "print(next(it))  # 输出迭代器的下一个元素\n",
    "print(next(it))"
   ]
  },
  {
   "cell_type": "code",
   "execution_count": 16,
   "metadata": {},
   "outputs": [
    {
     "name": "stdout",
     "output_type": "stream",
     "text": [
      "3.668\n"
     ]
    }
   ],
   "source": [
    "a = 3.6678\n",
    "print('%.3f' %a)"
   ]
  },
  {
   "cell_type": "code",
   "execution_count": 31,
   "metadata": {},
   "outputs": [
    {
     "name": "stdout",
     "output_type": "stream",
     "text": [
      "[2, 3, 5, 7, 11, 13, 17, 19, 23, 29, 31, 37, 41, 43, 47, 53, 59, 61, 67, 71, 73, 79, 83, 89, 97]\n"
     ]
    }
   ],
   "source": [
    "# 100以内的素数 方法1\n",
    "num=[]\n",
    "for i in range(2,100):   \n",
    "    for j in range(2,i):\n",
    "        if(i%j==0):\n",
    "            break\n",
    "    else:\n",
    "        num.append(i)\n",
    "print(num)"
   ]
  },
  {
   "cell_type": "code",
   "execution_count": 34,
   "metadata": {},
   "outputs": [
    {
     "name": "stdout",
     "output_type": "stream",
     "text": [
      "2 3 5 7 11 13 17 19 23 29 31 37 41 43 47 53 59 61 67 71 73 79 83 89 97 "
     ]
    }
   ],
   "source": [
    "#100以内的素数方法2\n",
    "import math\n",
    "for i in range(2,100):\n",
    "    for j in range(2,int(math.sqrt(i))+1):\n",
    "        if i % j == 0:\n",
    "            break\n",
    "    else:\n",
    "        print(i,end=' ')"
   ]
  },
  {
   "cell_type": "code",
   "execution_count": 35,
   "metadata": {},
   "outputs": [
    {
     "name": "stdout",
     "output_type": "stream",
     "text": [
      "[101, 103, 107, 109, 113, 127, 131, 137, 139, 149, 151, 157, 163, 167, 173, 179, 181, 191, 193, 197, 199]\n",
      "21\n"
     ]
    }
   ],
   "source": [
    "# 101-201以内的素数及总数 这种方法紧扣定义些？\n",
    "num = []\n",
    "for i in range(101,201):\n",
    "    for j in range(2,int(math.sqrt(i))+1):\n",
    "        if i%j == 0:\n",
    "            break\n",
    "    else:\n",
    "        num.append(i)\n",
    "print(num)\n",
    "print(len(num))"
   ]
  },
  {
   "cell_type": "code",
   "execution_count": 60,
   "metadata": {},
   "outputs": [
    {
     "name": "stdout",
     "output_type": "stream",
     "text": [
      "1 2 3\n",
      "1 2 4\n",
      "1 3 2\n",
      "1 3 4\n",
      "1 4 2\n",
      "1 4 3\n",
      "2 1 3\n",
      "2 1 4\n",
      "2 3 1\n",
      "2 3 4\n",
      "2 4 1\n",
      "2 4 3\n",
      "3 1 2\n",
      "3 1 4\n",
      "3 2 1\n",
      "3 2 4\n",
      "3 4 1\n",
      "3 4 2\n",
      "4 1 2\n",
      "4 1 3\n",
      "4 2 1\n",
      "4 2 3\n",
      "4 3 1\n",
      "4 3 2\n"
     ]
    }
   ],
   "source": [
    "'''题目：有四个数字：1、2、3、4，能组成多少个互不相同且无重复数字的三位数？各是多少？\n",
    "程序分析：可填在百位、十位、个位的数字都是1、2、3、4。组成所有的排列后再去 掉不满足条件的排列。'''\n",
    "for i in range(1,5):\n",
    "    for j in range(1,5):\n",
    "        for k in range(1,5):\n",
    "            if (i!=j)and(i!=k)and(j!=k):\n",
    "                print(i,j,k)"
   ]
  },
  {
   "cell_type": "code",
   "execution_count": 73,
   "metadata": {},
   "outputs": [
    {
     "name": "stdout",
     "output_type": "stream",
     "text": [
      "你的利润是：240000\n",
      "2000.0\n",
      "7500.0\n",
      "10000.0\n",
      "19500.0\n"
     ]
    }
   ],
   "source": [
    "'''\n",
    "企业发放的奖金根据利润提成。利润(I)低于或等于10万元时，奖金可提10%；利润高于10万元，低于20万元时，\n",
    "低于10万元的部分按10%提成，高于10万元的部分，可提成7.5%；20万到40万之间时，高于20万元的部分，可提成5%；\n",
    "40万到60万之间时高于40万元的部分，可提成3%；60万到100万之间时，高于60万元的部分，可提成1.5%，\n",
    "高于100万元时，超过100万元的部分按1%提成，从键盘输入当月利润I，求应发放奖金总数？\n",
    "'''\n",
    "i = int(input(\"你的利润是：\"))\n",
    "i1 = [1000000,600000,400000,200000,100000,0]\n",
    "i2 = [0.01,0.015,0.03,0.05,0.075,0.1]\n",
    "r = 0\n",
    "for idx in range(0,6):\n",
    "    if i > i1[idx]:\n",
    "        r += (i-i1[idx])*i2[idx]\n",
    "        print((i-i1[idx])*i2[idx])\n",
    "        i = i1[idx]\n",
    "        \n",
    "print(r)\n"
   ]
  },
  {
   "cell_type": "code",
   "execution_count": 81,
   "metadata": {},
   "outputs": [
    {
     "name": "stdout",
     "output_type": "stream",
     "text": [
      "请输入一个整数:\n",
      "5\n",
      "请输入一个整数:\n",
      "4\n",
      "请输入一个整数:\n",
      "9\n",
      "[4, 5, 9]\n"
     ]
    }
   ],
   "source": [
    "'''\n",
    "输入三个整数x,y,z，请把这三个数由小到大输出\n",
    "'''\n",
    "l = []\n",
    "for i in range(3):\n",
    "    x = int(input('请输入一个整数:\\n'))\n",
    "    l.append(x)\n",
    "l.sort()  # 如果是从大到小的排列的话就是 l.sort(reverse=True)\n",
    "print(l)"
   ]
  },
  {
   "cell_type": "code",
   "execution_count": 109,
   "metadata": {},
   "outputs": [
    {
     "name": "stdout",
     "output_type": "stream",
     "text": [
      "1×1=1\t\n",
      "2×1=2\t2×2=4\t\n",
      "3×1=3\t3×2=6\t3×3=9\t\n",
      "4×1=4\t4×2=8\t4×3=12\t4×4=16\t\n",
      "5×1=5\t5×2=10\t5×3=15\t5×4=20\t5×5=25\t\n",
      "6×1=6\t6×2=12\t6×3=18\t6×4=24\t6×5=30\t6×6=36\t\n",
      "7×1=7\t7×2=14\t7×3=21\t7×4=28\t7×5=35\t7×6=42\t7×7=49\t\n",
      "8×1=8\t8×2=16\t8×3=24\t8×4=32\t8×5=40\t8×6=48\t8×7=56\t8×8=64\t\n",
      "9×1=9\t9×2=18\t9×3=27\t9×4=36\t9×5=45\t9×6=54\t9×7=63\t9×8=72\t9×9=81\t\n"
     ]
    }
   ],
   "source": [
    "for i in range(1,10):\n",
    "    for j in range(1,i+1):\n",
    "        print('{}×{}={}\\t'.format(i,j,i*j),end='')\n",
    "    print()    "
   ]
  },
  {
   "cell_type": "code",
   "execution_count": 160,
   "metadata": {},
   "outputs": [
    {
     "name": "stdout",
     "output_type": "stream",
     "text": [
      "9×1=9\t9×2=18\t9×3=27\t9×4=36\t9×5=45\t9×6=54\t9×7=63\t9×8=72\t9×9=81\t\n",
      "8×1=8\t8×2=16\t8×3=24\t8×4=32\t8×5=40\t8×6=48\t8×7=56\t8×8=64\t\n",
      "7×1=7\t7×2=14\t7×3=21\t7×4=28\t7×5=35\t7×6=42\t7×7=49\t\n",
      "6×1=6\t6×2=12\t6×3=18\t6×4=24\t6×5=30\t6×6=36\t\n",
      "5×1=5\t5×2=10\t5×3=15\t5×4=20\t5×5=25\t\n",
      "4×1=4\t4×2=8\t4×3=12\t4×4=16\t\n",
      "3×1=3\t3×2=6\t3×3=9\t\n",
      "2×1=2\t2×2=4\t\n",
      "1×1=1\t\n"
     ]
    }
   ],
   "source": [
    "for i in range(9,0,-1):\n",
    "    for j in range(1,i+1):\n",
    "        print('{}×{}={}\\t'.format(i,j,i*j),end='')\n",
    "    print()"
   ]
  },
  {
   "cell_type": "code",
   "execution_count": 29,
   "metadata": {
    "scrolled": true
   },
   "outputs": [
    {
     "name": "stdout",
     "output_type": "stream",
     "text": [
      "1×1=1\t1×2=2\t1×3=3\t1×4=4\t1×5=5\t1×6=6\t1×7=7\t1×8=8\t1×9=9\t\n",
      "        2×2=4\t2×3=6\t2×4=8\t2×5=10\t2×6=12\t2×7=14\t2×8=16\t2×9=18\t\n",
      "                3×3=9\t3×4=12\t3×5=15\t3×6=18\t3×7=21\t3×8=24\t3×9=27\t\n",
      "                        4×4=16\t4×5=20\t4×6=24\t4×7=28\t4×8=32\t4×9=36\t\n",
      "                                5×5=25\t5×6=30\t5×7=35\t5×8=40\t5×9=45\t\n",
      "                                        6×6=36\t6×7=42\t6×8=48\t6×9=54\t\n",
      "                                                7×7=49\t7×8=56\t7×9=63\t\n",
      "                                                        8×8=64\t8×9=72\t\n",
      "                                                                9×9=81\t\n"
     ]
    }
   ],
   "source": [
    "for i in range(1,10):\n",
    "    for k in range(1,i):\n",
    "        print(end=\"        \")\n",
    "    for j in range(i,10):\n",
    "        print(\"{}×{}={}\\t\".format(i,j,i*j),end='')\n",
    "    print()"
   ]
  },
  {
   "cell_type": "code",
   "execution_count": 89,
   "metadata": {},
   "outputs": [
    {
     "name": "stdout",
     "output_type": "stream",
     "text": [
      "1\n",
      "2\n",
      "3\n",
      "4\n"
     ]
    }
   ],
   "source": [
    "# 列表元素暂停一秒遍历\n",
    "import time\n",
    "l = [1,2,3,4]\n",
    "for i in range(len(l)):\n",
    "    print(l[i])\n",
    "    time.sleep(1)"
   ]
  },
  {
   "cell_type": "code",
   "execution_count": 101,
   "metadata": {},
   "outputs": [
    {
     "name": "stdout",
     "output_type": "stream",
     "text": [
      "a --- 1\n",
      "b --- 2\n",
      "c --- 3\n"
     ]
    }
   ],
   "source": [
    "# 字典内key,value 暂停一秒输出\n",
    "d = {'a':1,'b':2,'c':3}\n",
    "for k,v in dict.items(d):\n",
    "    print(k,'---',v)\n",
    "    time.sleep(2)"
   ]
  },
  {
   "cell_type": "code",
   "execution_count": 30,
   "metadata": {},
   "outputs": [
    {
     "name": "stdout",
     "output_type": "stream",
     "text": [
      "time.time():1534298543.8349445\n",
      "<class 'float'>\n",
      "time.struct_time(tm_year=2018, tm_mon=8, tm_mday=15, tm_hour=10, tm_min=2, tm_sec=23, tm_wday=2, tm_yday=227, tm_isdst=0)\n",
      "******************************\n",
      "Wed Aug 15 10:02:23 2018\n",
      "2018-08-15 10:02:23\n",
      "2018-08-15 10:02:25\n"
     ]
    }
   ],
   "source": [
    "import time\n",
    "print('time.time():{}'.format(time.time())) # 时间戳\n",
    "print(type(time.time()))\n",
    "print(time.localtime(time.time()))   # 作用是格式化时间戳为本地的时间 将时间戳转换为时间元组\n",
    "\n",
    "print('*'*30)\n",
    "\n",
    "print(time.asctime(time.localtime(time.time()))) #  time asctime() 函数接受时间元组并返回一个可读的形式为\"Tue Dec 11 18:07:14 2008\"\n",
    "print(time.strftime('%Y-%m-%d %H:%M:%S',time.localtime(time.time())))\n",
    " \n",
    "# 暂停一秒\n",
    "time.sleep(2)\n",
    " \n",
    "print(time.strftime('%Y-%m-%d %H:%M:%S',time.localtime(time.time())))"
   ]
  },
  {
   "cell_type": "code",
   "execution_count": 58,
   "metadata": {},
   "outputs": [
    {
     "name": "stdout",
     "output_type": "stream",
     "text": [
      "[153, 370, 371, 407]\n"
     ]
    }
   ],
   "source": [
    "'''\n",
    "打印出所有的\"水仙花数\"，所谓\"水仙花数\"是指一个三位数，其各位数字立方和等于该数本身。例如：153是一个\"水仙花数\"，\n",
    "因为153=1的三次方＋5的三次方＋3的三次方。\n",
    "程序分析：利用for循环控制100-999个数，每个数分解出个位，十位，百位。\n",
    "'''\n",
    "num = []\n",
    "for i in range(100,1000):\n",
    "    if (i//100)**3 + (i//10%10)**3 + (i%10)**3 == i:  # 百位，十位，个位如何分解出来。\n",
    "        num.append(i)\n",
    "print(num)"
   ]
  },
  {
   "cell_type": "code",
   "execution_count": 1,
   "metadata": {},
   "outputs": [
    {
     "name": "stdout",
     "output_type": "stream",
     "text": [
      "[153, 370, 371, 407]\n"
     ]
    }
   ],
   "source": [
    "num = []\n",
    "for x in range(1,10):\n",
    "    for y in range(0,10):\n",
    "        for z in range(0,10):\n",
    "            s1=x*100+y*10+z\n",
    "            s2=pow(x,3)+pow(y,3)+pow(z,3)\n",
    "            if s1==s2:\n",
    "                num.append(s1)\n",
    "print(num)"
   ]
  },
  {
   "cell_type": "code",
   "execution_count": 1,
   "metadata": {},
   "outputs": [
    {
     "name": "stdout",
     "output_type": "stream",
     "text": [
      "请输入要分解的正整数90\n",
      "[2, 3, 3, 5]\n"
     ]
    }
   ],
   "source": [
    "n = int(input('请输入要分解的正整数'))\n",
    "temp = []\n",
    "while n!=1:\n",
    "    for i in range(2,int(n+1)):\n",
    "        if n%i == 0:\n",
    "            temp.append(i)\n",
    "            n = n/i\n",
    "            break\n",
    "print(temp)"
   ]
  },
  {
   "cell_type": "code",
   "execution_count": 6,
   "metadata": {},
   "outputs": [
    {
     "name": "stdout",
     "output_type": "stream",
     "text": [
      "你的成绩是：59\n",
      "你的分数是59,等级是C\n"
     ]
    }
   ],
   "source": [
    "'''\n",
    "利用条件运算符的嵌套来完成此题：学习成绩>=90分的同学用A表示，60-89分之间的用B表示，60分以下的用C表示。\n",
    "'''\n",
    "s = int(input('你的成绩是：'))\n",
    "if s >= 90:\n",
    "    grade = 'A'\n",
    "elif s>= 60:\n",
    "    grade = 'B'\n",
    "else:\n",
    "    grade = 'C'\n",
    "print('你的分数是{},等级是{}'.format(s,grade))"
   ]
  },
  {
   "cell_type": "code",
   "execution_count": 14,
   "metadata": {},
   "outputs": [
    {
     "name": "stdout",
     "output_type": "stream",
     "text": [
      "请输入一串字符串：1sd1sa31ew  #@$  1543ads\n",
      "字母是:9个，空格是4个，数字是8个，其他是3个\n"
     ]
    }
   ],
   "source": [
    "'''\n",
    "输入一行字符，分别统计出其中英文字母、空格、数字和其它字符的个数。\n",
    "isalpha()检测是否有字母组成，isspace()检测是否有空格组成\n",
    "isdigit()检测是否有数字组成.\n",
    "'''\n",
    "s = input('请输入一串字符串：')\n",
    "letters = 0\n",
    "space = 0\n",
    "digit = 0\n",
    "other = 0\n",
    "for c in s:\n",
    "    if c.isalpha():     \n",
    "        letters += 1\n",
    "    elif c.isspace():\n",
    "        space += 1\n",
    "    elif c.isdigit():\n",
    "        digit += 1\n",
    "    else:\n",
    "        other += 1\n",
    "print('字母是:{}个，空格是{}个，数字是{}个，其他是{}个'.format(letters,space,digit,other))"
   ]
  },
  {
   "cell_type": "code",
   "execution_count": 21,
   "metadata": {},
   "outputs": [
    {
     "name": "stdout",
     "output_type": "stream",
     "text": [
      "a:2\n",
      "n:4\n",
      "[2, 22, 222, 2222]\n",
      "计算和为： 2468\n"
     ]
    }
   ],
   "source": [
    "from functools import reduce\n",
    "a = int(input(\"a:\"))\n",
    "n = int(input(\"n:\"))\n",
    "list=[]\n",
    "for i in range(1,n+1):  \n",
    "    list.append(int(\"{}\".format(a)*i)) # 相当于一个a*4 就是aaaa ,真是巧妙。。。\n",
    "s = reduce(lambda x,y:x+y, list)\n",
    "print (list)\n",
    "print (\"计算和为：\",s)"
   ]
  },
  {
   "cell_type": "code",
   "execution_count": null,
   "metadata": {},
   "outputs": [],
   "source": []
  }
 ],
 "metadata": {
  "kernelspec": {
   "display_name": "Python 3",
   "language": "python",
   "name": "python3"
  },
  "language_info": {
   "codemirror_mode": {
    "name": "ipython",
    "version": 3
   },
   "file_extension": ".py",
   "mimetype": "text/x-python",
   "name": "python",
   "nbconvert_exporter": "python",
   "pygments_lexer": "ipython3",
   "version": "3.6.4"
  }
 },
 "nbformat": 4,
 "nbformat_minor": 2
}
