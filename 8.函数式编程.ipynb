{
 "cells": [
  {
   "cell_type": "code",
   "execution_count": 24,
   "metadata": {},
   "outputs": [
    {
     "data": {
      "text/plain": [
       "2300"
      ]
     },
     "execution_count": 24,
     "metadata": {},
     "output_type": "execute_result"
    }
   ],
   "source": [
    "s = lambda x: 100 * x\n",
    "s(23)"
   ]
  },
  {
   "cell_type": "markdown",
   "metadata": {},
   "source": [
    "###高阶函数（能接受函数做参数的函数）"
   ]
  },
  {
   "cell_type": "markdown",
   "metadata": {},
   "source": [
    "lambda表达式（匿名函数）：\n",
    "1.一个表达式，函数体相对简单\n",
    "2.不是一个代码块，仅仅是一个表达式\n",
    "3.可以有参数，有多个参数也可以，用逗号隔开"
   ]
  },
  {
   "cell_type": "code",
   "execution_count": 31,
   "metadata": {},
   "outputs": [
    {
     "data": {
      "text/plain": [
       "432"
      ]
     },
     "execution_count": 31,
     "metadata": {},
     "output_type": "execute_result"
    }
   ],
   "source": [
    "s1 = lambda x,y,z: x + y*10 + z*100\n",
    "s1(2,3,4)"
   ]
  },
  {
   "cell_type": "code",
   "execution_count": 36,
   "metadata": {},
   "outputs": [
    {
     "data": {
      "text/plain": [
       "'eli'"
      ]
     },
     "execution_count": 36,
     "metadata": {},
     "output_type": "execute_result"
    }
   ],
   "source": [
    "s = lambda: \"eli\"\n",
    "s()"
   ]
  },
  {
   "cell_type": "markdown",
   "metadata": {},
   "source": [
    "map原意就是映射，即把集合或者列表的元素，每一个元素都按照一定规则进行操作，生成一个新的列表或者集合\n",
    "map函数是系统提供的具有映射功能的函数，返回值是一个迭代对象"
   ]
  },
  {
   "cell_type": "code",
   "execution_count": 18,
   "metadata": {},
   "outputs": [
    {
     "name": "stdout",
     "output_type": "stream",
     "text": [
      "1\n",
      "4\n",
      "9\n",
      "16\n",
      "25\n",
      "**********\n",
      "1\n",
      "4\n",
      "9\n",
      "16\n",
      "25\n"
     ]
    }
   ],
   "source": [
    "def square(x):\n",
    "    return x ** 2\n",
    "rst = map(square,[1,2,3,4,5])\n",
    "\n",
    "for i in rst:\n",
    "    print(i)\n",
    "print(\"*\"*10)\n",
    "rst2 = map(lambda x:x**2,[1,2,3,4,5])  \n",
    "for i in rst2:\n",
    "    print(i)\n",
    "\n"
   ]
  },
  {
   "cell_type": "markdown",
   "metadata": {},
   "source": [
    "reduce原意是归并，缩减\n",
    "把一个可迭代对象最后归并成一个结果\n",
    "对于作为参数的函数要求： 必须由两个参数，必须由返回结果\n",
    "reduce([1,2,3,4,5]) == f( f(f(f(1,2),3), 4),5)\n",
    "reduce 需要导入functools包"
   ]
  },
  {
   "cell_type": "code",
   "execution_count": 37,
   "metadata": {},
   "outputs": [
    {
     "data": {
      "text/plain": [
       "28"
      ]
     },
     "execution_count": 37,
     "metadata": {},
     "output_type": "execute_result"
    }
   ],
   "source": [
    "from functools import reduce\n",
    "def add(x,y):\n",
    "    return x + y\n",
    "\n",
    "# reduce(add,[1,2,3,4,5,6])\n",
    "\n",
    "reduce(lambda x,y:x+y,[1,2,3,4,5,6,7])"
   ]
  },
  {
   "cell_type": "code",
   "execution_count": 45,
   "metadata": {},
   "outputs": [
    {
     "name": "stdout",
     "output_type": "stream",
     "text": [
      "<filter object at 0x00000000076D9240>\n",
      "[3, 45, 9]\n"
     ]
    }
   ],
   "source": [
    "# filter函数 过滤函数\n",
    "def isodd(a):\n",
    "    return a%2 == 1  # isodd 表示取奇数\n",
    "\n",
    "rst = filter(isodd,[2,3,6,4,45,64,12,9]) \n",
    "print(rst)\n",
    "print([i for i in rst])"
   ]
  },
  {
   "cell_type": "code",
   "execution_count": 2,
   "metadata": {},
   "outputs": [
    {
     "name": "stdout",
     "output_type": "stream",
     "text": [
      "Help on built-in function sorted in module builtins:\n",
      "\n",
      "sorted(iterable, /, *, key=None, reverse=False)\n",
      "    Return a new list containing all items from the iterable in ascending order.\n",
      "    \n",
      "    A custom key function can be supplied to customize the sort order, and the\n",
      "    reverse flag can be set to request the result in descending order.\n",
      "\n"
     ]
    }
   ],
   "source": [
    "# sorted 排序\n",
    "help(sorted)"
   ]
  },
  {
   "cell_type": "code",
   "execution_count": 5,
   "metadata": {},
   "outputs": [
    {
     "name": "stdout",
     "output_type": "stream",
     "text": [
      "[0, 1, 2, 5, 23, 34, 54]\n",
      "[54, 34, 23, 5, 2, 1, 0]\n"
     ]
    }
   ],
   "source": [
    "a = [2,5,1,0,34,54,23]\n",
    "a1 = sorted(a,reverse=False)\n",
    "print(a1)\n",
    "\n",
    "a2 = sorted(a,reverse=True)\n",
    "print(a2)"
   ]
  },
  {
   "cell_type": "code",
   "execution_count": 13,
   "metadata": {},
   "outputs": [
    {
     "name": "stdout",
     "output_type": "stream",
     "text": [
      "[1, -2, 4, 11, -23, -45]\n",
      "[-45, -23, 11, 4, -2, 1]\n"
     ]
    }
   ],
   "source": [
    "b = [1,-2,4,-23,11,-45]\n",
    "b1 = sorted(b,key=abs,reverse=False)\n",
    "print(b1)\n",
    "\n",
    "b2 = sorted(b,key=abs,reverse=True)\n",
    "print(b2)"
   ]
  },
  {
   "cell_type": "code",
   "execution_count": 8,
   "metadata": {},
   "outputs": [
    {
     "data": {
      "text/plain": [
       "3"
      ]
     },
     "execution_count": 8,
     "metadata": {},
     "output_type": "execute_result"
    }
   ],
   "source": [
    "#返回函数,函数可以返回具体的值,也可以返回一个函数作为结果\n",
    "# 如果在一个内部函数里对外部作用域（但不是全局作用域）的变量进行引用，内部函数称为闭包（closure）\n",
    "def pro1(c,f):\n",
    "    def pro2():\n",
    "        return f(c)\n",
    "    return pro2\n",
    "\n",
    "a = pro1(-3,abs)  # 调用pro1函数时，返回的是pro2的函数对象。\n",
    "a()               # 需要对a调用才能返回结果"
   ]
  },
  {
   "cell_type": "code",
   "execution_count": 11,
   "metadata": {},
   "outputs": [
    {
     "data": {
      "text/plain": [
       "36"
      ]
     },
     "execution_count": 11,
     "metadata": {},
     "output_type": "execute_result"
    }
   ],
   "source": [
    "import math\n",
    "def fun1(n):\n",
    "    def fun2(x):\n",
    "        return pow(x,n) # pow表示x的n次方\n",
    "    return fun2\n",
    "a = fun1(2)\n",
    "a(6)"
   ]
  },
  {
   "cell_type": "code",
   "execution_count": 14,
   "metadata": {},
   "outputs": [
    {
     "name": "stdout",
     "output_type": "stream",
     "text": [
      "1\n",
      "4\n",
      "9\n"
     ]
    }
   ],
   "source": [
    "def count():\n",
    "    fs = []\n",
    "    for i in range(1,4):\n",
    "        def g(a):   #定义一个g函数，参数为a，返回函数f的返回值被绑定\n",
    "            f = lambda : a*a\n",
    "            return f\n",
    "        fs.append(g(i))\n",
    "    return fs\n",
    "\n",
    "f1,f2,f3 =count()\n",
    "\n",
    "print(f1())\n",
    "print(f2())\n",
    "print(f3())"
   ]
  },
  {
   "cell_type": "code",
   "execution_count": 2,
   "metadata": {},
   "outputs": [
    {
     "name": "stdout",
     "output_type": "stream",
     "text": [
      "(1, 11)\n",
      "(2, 22)\n",
      "(3, 33)\n",
      "(4, 44)\n",
      "(5, 55)\n"
     ]
    }
   ],
   "source": [
    "# zip 把两个可迭代内容生成一个可迭代的tuple元素类型组成的内容\n",
    "l1 = [1,2,3,4,5]\n",
    "l2 = [11,22,33,44,55]\n",
    "z = zip(l1,l2)\n",
    "for i in z:\n",
    "    print(i)"
   ]
  },
  {
   "cell_type": "code",
   "execution_count": 5,
   "metadata": {},
   "outputs": [
    {
     "name": "stdout",
     "output_type": "stream",
     "text": [
      "[(0, 11), (1, 22), (2, 33), (3, 44), (4, 55)]\n"
     ]
    }
   ],
   "source": [
    "# enumerate 对可迭代对象里的每一元素，配上一个索引，然后索引和内容构成tuple类型\n",
    "l = [11,22,33,44,55]\n",
    "em = enumerate(l)\n",
    "l1 = [i for i in em]\n",
    "print(l1)"
   ]
  },
  {
   "cell_type": "code",
   "execution_count": 6,
   "metadata": {},
   "outputs": [
    {
     "name": "stdout",
     "output_type": "stream",
     "text": [
      "[(100, 1), (101, 2), (102, 3), (103, 4), (104, 5)]\n"
     ]
    }
   ],
   "source": [
    "l = [1,2,3,4,5]\n",
    "em = enumerate(l, start=100) \n",
    "l1 = [i for i in em]\n",
    "print(l1)"
   ]
  },
  {
   "cell_type": "code",
   "execution_count": 7,
   "metadata": {},
   "outputs": [
    {
     "name": "stdout",
     "output_type": "stream",
     "text": [
      "11\n",
      "11\n"
     ]
    }
   ],
   "source": [
    "# namedtuple,tuple类型,是一个可命名的tuple\n",
    "import collections  \n",
    "Point = collections.namedtuple(\"Point\", ['x', 'y'])\n",
    "p = Point(11, 22) \n",
    "print(p.x)\n",
    "print(p[0])"
   ]
  },
  {
   "cell_type": "code",
   "execution_count": 16,
   "metadata": {},
   "outputs": [
    {
     "name": "stdout",
     "output_type": "stream",
     "text": [
      "deque(['a', 'b', 'c'])\n",
      "deque(['a', 'b', 'c', 'd'])\n",
      "deque(['x', 'a', 'b', 'c', 'd'])\n"
     ]
    }
   ],
   "source": [
    "# dequeue 比较方便的解决了频繁删除插入带来的效率问题\n",
    "from collections import deque\n",
    "q = deque(['a','b','c'])\n",
    "print(q)\n",
    "\n",
    "q.append('d')\n",
    "print(q)\n",
    "\n",
    "q.appendleft('x')\n",
    "print(q)"
   ]
  },
  {
   "cell_type": "code",
   "execution_count": 19,
   "metadata": {},
   "outputs": [
    {
     "name": "stdout",
     "output_type": "stream",
     "text": [
      "1\n",
      "请正确输入\n"
     ]
    }
   ],
   "source": [
    "# defaultdict 当直接读取dict不存在的属性时，直接返回默认值\n",
    "from collections import defaultdict\n",
    "# lambda表达式，直接返回字符串\n",
    "func = lambda: \"请正确输入\"\n",
    "d2 = defaultdict(func)\n",
    "\n",
    "d2[\"one\"] = 1\n",
    "d2[\"two\"] = 2\n",
    "\n",
    "print(d2['one'])\n",
    "print(d2['four'])"
   ]
  },
  {
   "cell_type": "code",
   "execution_count": 26,
   "metadata": {},
   "outputs": [
    {
     "name": "stdout",
     "output_type": "stream",
     "text": [
      "Counter({'d': 3, 's': 3, 'a': 2})\n"
     ]
    }
   ],
   "source": [
    "# Counter 统计字符串个数\n",
    "from collections import Counter\n",
    "c = Counter('adasdsds')\n",
    "print(c)"
   ]
  },
  {
   "cell_type": "code",
   "execution_count": 27,
   "metadata": {},
   "outputs": [
    {
     "name": "stdout",
     "output_type": "stream",
     "text": [
      "Counter({'eli': 2, 'jack': 1, 'iron': 1})\n"
     ]
    }
   ],
   "source": [
    "s = Counter(['eli','jack','eli','iron'])\n",
    "print(s)"
   ]
  },
  {
   "cell_type": "code",
   "execution_count": null,
   "metadata": {},
   "outputs": [],
   "source": []
  },
  {
   "cell_type": "code",
   "execution_count": null,
   "metadata": {},
   "outputs": [],
   "source": []
  }
 ],
 "metadata": {
  "kernelspec": {
   "display_name": "Python 3",
   "language": "python",
   "name": "python3"
  },
  "language_info": {
   "codemirror_mode": {
    "name": "ipython",
    "version": 3
   },
   "file_extension": ".py",
   "mimetype": "text/x-python",
   "name": "python",
   "nbconvert_exporter": "python",
   "pygments_lexer": "ipython3",
   "version": "3.6.4"
  }
 },
 "nbformat": 4,
 "nbformat_minor": 2
}
