{
 "cells": [
  {
   "cell_type": "code",
   "execution_count": 9,
   "metadata": {},
   "outputs": [
    {
     "name": "stdout",
     "output_type": "stream",
     "text": [
      "Dog is running\n",
      "Cat is running\n",
      "******************************\n",
      "Animal is running\n",
      "Animal is running\n",
      "Dog is running\n",
      "Dog is running\n",
      "Cat is running\n",
      "Cat is running\n",
      "******************************\n",
      "Tortoise is running slowly...\n",
      "Tortoise is running slowly...\n"
     ]
    }
   ],
   "source": [
    "class Animal():\n",
    "    def run(self):\n",
    "        print(\"Animal is running\")\n",
    "\n",
    "class Dog(Animal):\n",
    "    def run(self):\n",
    "        print(\"Dog is running\")\n",
    "    def eat(self):\n",
    "        print(\"I like eat meat\")\n",
    "    \n",
    "        \n",
    "class Cat(Animal):\n",
    "    def run(self):\n",
    "        print(\"Cat is running\")\n",
    "        \n",
    "d = Dog()\n",
    "d.run()   # 子类和父类都有run()方法时，子类的run()方法就覆盖了父类的run()方法\n",
    "c = Cat()\n",
    "c.run()\n",
    "\n",
    "print('*'*30)\n",
    "\n",
    "def run_two(animal):\n",
    "    animal.run()\n",
    "    animal.run()\n",
    "\n",
    "run_two(Animal())\n",
    "run_two(Dog())\n",
    "run_two(Cat())\n",
    "\n",
    "print('*'*30)\n",
    "\n",
    "class Tortoise(Animal):   \n",
    "    def run(self):\n",
    "        print(\"Tortoise is running slowly...\")\n",
    "\n",
    "run_two(Tortoise())"
   ]
  },
  {
   "cell_type": "markdown",
   "metadata": {},
   "source": [
    "1.类的成员描述符（属性）\n",
    " get获取属性  set设置属性   delete 删除\n",
    "2.如果想使用类的成员描述符，大概有三种方法\n",
    "使用类实现描述器\n",
    "使用属性修饰符  （自己了解下）\n",
    "使用property函数 \n",
    "property函数很简单\n",
    "property(fget, fset, fdel, doc)"
   ]
  },
  {
   "cell_type": "code",
   "execution_count": 64,
   "metadata": {},
   "outputs": [
    {
     "name": "stdout",
     "output_type": "stream",
     "text": [
      "ELI MAN\n",
      "{'__module__': '__main__', '__doc__': '\\n    this is a doc\\n    \\n    ', 'fget': <function Person.fget at 0x0000000005BC76A8>, 'fset': <function Person.fset at 0x0000000005BC7048>, 'fdel': <function Person.fdel at 0x0000000005BF9620>, 'name': <property object at 0x0000000007E5B728>, '__dict__': <attribute '__dict__' of 'Person' objects>, '__weakref__': <attribute '__weakref__' of 'Person' objects>}\n",
      "\n",
      "    this is a doc\n",
      "    \n",
      "    \n",
      "Person\n",
      "(<class 'object'>,)\n"
     ]
    }
   ],
   "source": [
    "class Person():\n",
    "    '''\n",
    "    this is a doc\n",
    "    \n",
    "    '''\n",
    "    def fget(self):\n",
    "        return self._name  # _name 可控属性值 使用了一个特性来记录对一个名为name的属性的方法，实际存储的数据名为_name，以便不会和特性搞混了\n",
    "    def fset(self,name):\n",
    "        self._name = name.upper()\n",
    "    def fdel(self):\n",
    "        self._name = \"Noname\"\n",
    "    name = property(fget,fset,fdel,\"do it\")\n",
    "    \n",
    "p1 = Person()\n",
    "p1.name = \"eli man\"\n",
    "print(p1.name)\n",
    "\n",
    "print(Person.__dict__)  #  类的内置属性  \n",
    "print(Person.__doc__)\n",
    "print(Person.__name__)\n",
    "print(Person.__bases__)"
   ]
  },
  {
   "cell_type": "code",
   "execution_count": 59,
   "metadata": {},
   "outputs": [
    {
     "name": "stdout",
     "output_type": "stream",
     "text": [
      "23\n"
     ]
    }
   ],
   "source": [
    "# property _age   获取整型的年龄 \n",
    "class Student():\n",
    "    def fget(self):\n",
    "        return self._age\n",
    "    def fset(self,age):\n",
    "        self._age = int(age)\n",
    "    def fdel(self):\n",
    "        self._age = \"Noage\"\n",
    "    age = property(fget,fset,fdel,\"age_int\")\n",
    "s1 = Student()\n",
    "s1.age = 23.4\n",
    "print(s1.age)"
   ]
  },
  {
   "cell_type": "markdown",
   "metadata": {},
   "source": [
    "魔法方法\n",
    "操作类：\n",
    "__init__: 构造函数\n",
    "__new__: 对象实例化方法，此函数较特殊，一般不需要使用\n",
    "__call__: 对象当函数使用的时候触发\n",
    "__str__: 当对象被当做字符串使用的时候调用\n",
    "__repr__: 返回字符串"
   ]
  },
  {
   "cell_type": "markdown",
   "metadata": {},
   "source": [
    "自己对照网络再学习"
   ]
  },
  {
   "cell_type": "code",
   "execution_count": 1,
   "metadata": {},
   "outputs": [
    {
     "name": "stdout",
     "output_type": "stream",
     "text": [
      "eli\n",
      "hello eli\n"
     ]
    }
   ],
   "source": [
    "name = input()\n",
    "print(\"hello\",name)"
   ]
  },
  {
   "cell_type": "code",
   "execution_count": 4,
   "metadata": {},
   "outputs": [
    {
     "name": "stdout",
     "output_type": "stream",
     "text": [
      "birth 2010\n",
      "00后\n"
     ]
    }
   ],
   "source": [
    "b = input(\"birth \") # input()返回的数据类型是str str不能和整型2000比较，要把str转换成整型，用int()\n",
    "birth = int(b)\n",
    "\n",
    "if birth < 2000:\n",
    "    print(\"00前\")\n",
    "else:\n",
    "    print(\"00后\")"
   ]
  },
  {
   "cell_type": "code",
   "execution_count": 44,
   "metadata": {},
   "outputs": [
    {
     "name": "stdout",
     "output_type": "stream",
     "text": [
      "你的身高是(cm)：172\n",
      "你的体重是(kg)：74\n",
      "过重\n"
     ]
    }
   ],
   "source": [
    "# 坑坑粑粑的写出来了。。。。。。\n",
    "height = input(\"你的身高是(cm)：\")\n",
    "weight = input(\"你的体重是(kg)：\")\n",
    "h = int(height)\n",
    "w = int(weight)\n",
    "BMI = 10000*w/(h*h)\n",
    "if BMI<18.5:\n",
    "    print(\"过轻\")\n",
    "elif BMI<=25:\n",
    "    print(\"正常\")\n",
    "elif BMI<=28:\n",
    "    print(\"过重\")\n",
    "elif BMI<=32:\n",
    "    print(\"肥胖\")\n",
    "else:\n",
    "    print(\"严重肥胖\")\n",
    "    "
   ]
  },
  {
   "cell_type": "code",
   "execution_count": 22,
   "metadata": {},
   "outputs": [
    {
     "name": "stdout",
     "output_type": "stream",
     "text": [
      "2450\n"
     ]
    }
   ],
   "source": [
    "# while 100以内偶数相加\n",
    "sum = 0\n",
    "i = 0\n",
    "while i < 100:\n",
    "    sum = sum + i\n",
    "    i = i + 2\n",
    "print(sum)\n",
    "   "
   ]
  },
  {
   "cell_type": "code",
   "execution_count": 23,
   "metadata": {},
   "outputs": [
    {
     "name": "stdout",
     "output_type": "stream",
     "text": [
      "2500\n"
     ]
    }
   ],
   "source": [
    "# while 100以内奇数相加\n",
    "sum = 0\n",
    "i = 1\n",
    "while i < 100:\n",
    "    sum = sum + i\n",
    "    i = i + 2\n",
    "print(sum)"
   ]
  },
  {
   "cell_type": "code",
   "execution_count": 55,
   "metadata": {},
   "outputs": [
    {
     "name": "stdout",
     "output_type": "stream",
     "text": [
      "2450\n"
     ]
    }
   ],
   "source": [
    "# for 100以内的偶数相加\n",
    "sum = 0\n",
    "for i in range(0,100):\n",
    "    if i%2 == 0:\n",
    "        sum = sum + i\n",
    "print(sum)\n"
   ]
  },
  {
   "cell_type": "code",
   "execution_count": 30,
   "metadata": {},
   "outputs": [
    {
     "name": "stdout",
     "output_type": "stream",
     "text": [
      "2500\n"
     ]
    }
   ],
   "source": [
    "#for 100以内的奇数相加\n",
    "sum = 0\n",
    "for i in range(0,100):\n",
    "    if i%2 == 1:\n",
    "        sum = sum + i\n",
    "print(sum)"
   ]
  },
  {
   "cell_type": "code",
   "execution_count": 38,
   "metadata": {},
   "outputs": [
    {
     "name": "stdout",
     "output_type": "stream",
     "text": [
      "None\n"
     ]
    },
    {
     "data": {
      "text/plain": [
       "{'eli': 90, 'iron': 95, 'jack': 88}"
      ]
     },
     "execution_count": 38,
     "metadata": {},
     "output_type": "execute_result"
    }
   ],
   "source": [
    "d = {'jack':80,'eli':90,'iron':95}\n",
    "d['jack'] = 88\n",
    "d['jack']\n",
    "print(d.get('pool'))\n",
    "d.get('pool',-1)\n",
    "d"
   ]
  },
  {
   "cell_type": "markdown",
   "metadata": {},
   "source": [
    "借助抽象，我们才能不关心底层的具体计算过程，而直接在更高的层次上思考问题。\n",
    "\n",
    "写计算机程序也是一样，函数就是最基本的一种代码抽象的方式。"
   ]
  },
  {
   "cell_type": "code",
   "execution_count": 47,
   "metadata": {},
   "outputs": [
    {
     "name": "stdout",
     "output_type": "stream",
     "text": [
      "Help on built-in function abs in module builtins:\n",
      "\n",
      "abs(x, /)\n",
      "    Return the absolute value of the argument.\n",
      "\n"
     ]
    }
   ],
   "source": [
    "help(abs)"
   ]
  },
  {
   "cell_type": "code",
   "execution_count": 49,
   "metadata": {},
   "outputs": [
    {
     "data": {
      "text/plain": [
       "2"
      ]
     },
     "execution_count": 49,
     "metadata": {},
     "output_type": "execute_result"
    }
   ],
   "source": [
    "# 函数名其实就是指向一个函数对象的引用，完全可以把函数名赋给一个变量，相当于给这个函数起了一个“别名”\n",
    "abs(-1)\n",
    "a = abs\n",
    "a(-2)"
   ]
  },
  {
   "cell_type": "code",
   "execution_count": 46,
   "metadata": {},
   "outputs": [
    {
     "name": "stdout",
     "output_type": "stream",
     "text": [
      "0xff\n",
      "0x3e8\n"
     ]
    }
   ],
   "source": [
    "# 用python内置函数hex()将整数转换成十六进制的字符串\n",
    "n1 = 255\n",
    "n2 = 1000\n",
    "print(hex(n1))\n",
    "print(hex(n2))"
   ]
  },
  {
   "cell_type": "code",
   "execution_count": 61,
   "metadata": {},
   "outputs": [
    {
     "name": "stdout",
     "output_type": "stream",
     "text": [
      "3.0 2.0\n"
     ]
    }
   ],
   "source": [
    "import math\n",
    "def quadratic(a,b,c):  # 一元二次方程 \n",
    "    v = math.sqrt(b**2-4*a*c)  # 乘法用*表示，别写成4ac 2a了。\n",
    "    x1 = (-b+v)/2*a\n",
    "    x2 = (-b-v)/2*a\n",
    "    print(x1,x2)\n",
    "    \n",
    "quadratic(1,-5,6)"
   ]
  },
  {
   "cell_type": "code",
   "execution_count": 68,
   "metadata": {},
   "outputs": [
    {
     "name": "stdout",
     "output_type": "stream",
     "text": [
      "16\n"
     ]
    }
   ],
   "source": [
    "# 位置参数\n",
    "def power(x,n): # 定义一个函数，x的n次方\n",
    "    s = 1\n",
    "    while n>0:\n",
    "        s = s * x\n",
    "        n = n - 1\n",
    "    print(s)\n",
    "power(2,4)"
   ]
  },
  {
   "cell_type": "code",
   "execution_count": 71,
   "metadata": {},
   "outputs": [
    {
     "name": "stdout",
     "output_type": "stream",
     "text": [
      "4\n",
      "27\n"
     ]
    }
   ],
   "source": [
    "# 默认参数\n",
    "def power(x,n=2): # 定义一个函数，x的n次方 \n",
    "    s = 1\n",
    "    while n>0:\n",
    "        s = s * x\n",
    "        n = n - 1\n",
    "    print(s)\n",
    "power(2)\n",
    "power(3,3)   "
   ]
  },
  {
   "cell_type": "markdown",
   "metadata": {},
   "source": [
    "#参数定义的顺序必须是：必选参数、默认参数、可变参数、命名关键字参数和关键字参数。\n",
    "#但是在Python中，代码不是越多越好，而是越少越好。代码不是越复杂越好，而是越简单越好。\n",
    "基于这一思想，我们来介绍Python中非常有用的高级特性，1行代码能实现的功能，决不写5行代码。请始终牢记，代码越少，开发效率越高"
   ]
  },
  {
   "cell_type": "code",
   "execution_count": 12,
   "metadata": {},
   "outputs": [
    {
     "name": "stdout",
     "output_type": "stream",
     "text": [
      "eli\n"
     ]
    },
    {
     "data": {
      "text/plain": [
       "'famel'"
      ]
     },
     "execution_count": 12,
     "metadata": {},
     "output_type": "execute_result"
    }
   ],
   "source": [
    "class Student():\n",
    "    def __init__(self,name,gender):\n",
    "        self.name = name\n",
    "        self.__gender = gender\n",
    "    def get_gender(self):\n",
    "        return self.__gender\n",
    "    def set_gender(self,gender):\n",
    "        self.__gender = gender\n",
    "s = Student('eli','male')\n",
    "\n",
    "print(s.name)\n",
    "s.set_gender('famel')\n",
    "s.get_gender()\n"
   ]
  },
  {
   "cell_type": "code",
   "execution_count": 34,
   "metadata": {},
   "outputs": [
    {
     "name": "stdout",
     "output_type": "stream",
     "text": [
      "animal is running...\n",
      "animal is running...\n",
      "animal is running...\n",
      "******************************\n",
      "sheep is running...\n",
      "******************************\n",
      "animal is running...\n",
      "animal is running...\n",
      "******************************\n",
      "sheep is running...\n",
      "sheep is running...\n",
      "******************************\n",
      "chick is running.....\n",
      "chick is running.....\n"
     ]
    }
   ],
   "source": [
    "class Animal():\n",
    "    def run(self):\n",
    "        print(\"animal is running...\")\n",
    "class Dog(Animal):\n",
    "    pass\n",
    "class Cat(Animal):\n",
    "    pass\n",
    "animal = Animal()\n",
    "animal.run()\n",
    "d = Dog()\n",
    "d.run()\n",
    "c = Cat()\n",
    "c.run()\n",
    "\n",
    "print('*'*30)\n",
    "\n",
    "class Sheep(Animal):\n",
    "    def run(self):\n",
    "        print(\"sheep is running...\")\n",
    "\n",
    "s = Sheep()\n",
    "s.run()\n",
    "\n",
    "print('*'*30)\n",
    "\n",
    "def run_twice(animal):\n",
    "    animal.run()\n",
    "    animal.run()\n",
    "run_twice(Animal())\n",
    "\n",
    "print('*'*30)\n",
    "\n",
    "run_twice(Sheep())\n",
    "\n",
    "print('*'*30)\n",
    "\n",
    "class Chick(Animal):\n",
    "    def run(self):\n",
    "        print(\"chick is running.....\")\n",
    "run_twice(Chick())\n",
    "\n"
   ]
  },
  {
   "cell_type": "code",
   "execution_count": 40,
   "metadata": {},
   "outputs": [
    {
     "data": {
      "text/plain": [
       "False"
      ]
     },
     "execution_count": 40,
     "metadata": {},
     "output_type": "execute_result"
    }
   ],
   "source": [
    "isinstance([1,2,3],tuple)\n"
   ]
  },
  {
   "cell_type": "code",
   "execution_count": 9,
   "metadata": {},
   "outputs": [
    {
     "name": "stdout",
     "output_type": "stream",
     "text": [
      "eli\n"
     ]
    },
    {
     "data": {
      "text/plain": [
       "26"
      ]
     },
     "execution_count": 9,
     "metadata": {},
     "output_type": "execute_result"
    }
   ],
   "source": [
    "class Student():\n",
    "    pass\n",
    "s = Student()\n",
    "s.name = 'eli'  # 动态给实例绑定一个属性\n",
    "print(s.name)\n",
    "\n",
    "def set_age(self,age): # 定义一个函数作为实例方法\n",
    "    self.age = age\n",
    "from types import MethodType\n",
    "s.set_age = MethodType(set_age,s) # 给实例绑定一个方法\n",
    "s.set_age(26) # 调用实例方法\n",
    "s.age\n",
    "\n",
    "\n"
   ]
  },
  {
   "cell_type": "code",
   "execution_count": 14,
   "metadata": {},
   "outputs": [
    {
     "data": {
      "text/plain": [
       "96"
      ]
     },
     "execution_count": 14,
     "metadata": {},
     "output_type": "execute_result"
    }
   ],
   "source": [
    "class Student():\n",
    "    pass\n",
    "def set_score(self,score):\n",
    "    self.score = score\n",
    "Student.set_score = set_score  #为了给所有实例都绑定方法，可以给class绑定方法 \n",
    "\n",
    "s = Student()\n",
    "s.set_score(95)\n",
    "s.score\n",
    "\n",
    "s2 = Student()\n",
    "s2.set_score(96)\n",
    "s2.score "
   ]
  },
  {
   "cell_type": "code",
   "execution_count": 19,
   "metadata": {},
   "outputs": [
    {
     "name": "stdout",
     "output_type": "stream",
     "text": [
      "eli\n",
      "20\n"
     ]
    },
    {
     "ename": "AttributeError",
     "evalue": "'Student' object has no attribute 'score'",
     "output_type": "error",
     "traceback": [
      "\u001b[1;31m---------------------------------------------------------------------------\u001b[0m",
      "\u001b[1;31mAttributeError\u001b[0m                            Traceback (most recent call last)",
      "\u001b[1;32m<ipython-input-19-f0fad4f1a5da>\u001b[0m in \u001b[0;36m<module>\u001b[1;34m()\u001b[0m\n\u001b[0;32m      7\u001b[0m \u001b[0mprint\u001b[0m\u001b[1;33m(\u001b[0m\u001b[0ms\u001b[0m\u001b[1;33m.\u001b[0m\u001b[0mage\u001b[0m\u001b[1;33m)\u001b[0m\u001b[1;33m\u001b[0m\u001b[0m\n\u001b[0;32m      8\u001b[0m \u001b[1;33m\u001b[0m\u001b[0m\n\u001b[1;32m----> 9\u001b[1;33m \u001b[0ms\u001b[0m\u001b[1;33m.\u001b[0m\u001b[0mscore\u001b[0m \u001b[1;33m=\u001b[0m \u001b[1;36m97\u001b[0m\u001b[1;33m\u001b[0m\u001b[0m\n\u001b[0m\u001b[0;32m     10\u001b[0m \u001b[0mprint\u001b[0m\u001b[1;33m(\u001b[0m\u001b[0ms\u001b[0m\u001b[1;33m.\u001b[0m\u001b[0mscore\u001b[0m\u001b[1;33m)\u001b[0m\u001b[1;33m\u001b[0m\u001b[0m\n",
      "\u001b[1;31mAttributeError\u001b[0m: 'Student' object has no attribute 'score'"
     ]
    }
   ],
   "source": [
    "class Student():\n",
    "    __slots__ = ('name','age') # 定义一个特殊的__slots__变量，来限制实例能添加的属性\n",
    "s = Student()                  # 用tuple 定义允许绑定的属性名称\n",
    "s.name = 'eli'\n",
    "s.age = 20\n",
    "print(s.name)\n",
    "print(s.age)\n",
    "\n",
    "s.score = 97   \n",
    "print(s.score) \n"
   ]
  },
  {
   "cell_type": "code",
   "execution_count": null,
   "metadata": {},
   "outputs": [],
   "source": []
  }
 ],
 "metadata": {
  "kernelspec": {
   "display_name": "Python 3",
   "language": "python",
   "name": "python3"
  },
  "language_info": {
   "codemirror_mode": {
    "name": "ipython",
    "version": 3
   },
   "file_extension": ".py",
   "mimetype": "text/x-python",
   "name": "python",
   "nbconvert_exporter": "python",
   "pygments_lexer": "ipython3",
   "version": "3.6.4"
  }
 },
 "nbformat": 4,
 "nbformat_minor": 2
}
