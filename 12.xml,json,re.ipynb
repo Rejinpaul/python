{
 "cells": [
  {
   "cell_type": "markdown",
   "metadata": {},
   "source": [
    "# 结构化文件存储\n",
    "\n",
    "- xml, json,\n",
    "- 为了解决不同设备之间信息交换\n",
    "- xml，\n",
    "- json\n",
    "- 自己搜索资料看看"
   ]
  },
  {
   "cell_type": "markdown",
   "metadata": {},
   "source": [
    "- XML文件\n",
    "\n",
    "- 参考资料\n",
    "\n",
    "- https://docs.python.org/3/library/xml.etree.elementtree.html\n",
    "- http://www.runoob.com/python/python-xml.html\n",
    "- https://blog.csdn.net/seetheworld518/article/details/49535285\n",
    "- XML(eXtensibleMarkupLanguage)， 可扩展标记语言\n",
    "\n",
    "- 标记语言： 语言中使用尖括号括起来的文本字符串标记\n",
    "\n",
    "- 可扩展：用户可以自己定义需要的标记\n",
    "\n",
    "- 例如：\n",
    "\n",
    "  <Teacher> \n",
    "      自定义标记Teacher\n",
    "      在两个标记之间任何内容都应该跟Teacher相关\n",
    "  </Teacher>\n",
    "- 是w3c组织制定的一个标准\n",
    "\n",
    "- XML描述的是数据本身，即数据的结构和语义\n",
    "\n",
    "- HTML侧重于如何显示web页面中的数据"
   ]
  },
  {
   "cell_type": "markdown",
   "metadata": {},
   "source": [
    "\n",
    "- XML文档的构成\n",
    "\n",
    "- 处理指令(可以认为一个文件内只有一个处理指令)\n",
    "    最多只有一行\n",
    "    且必须在第一行\n",
    "    内容是与xml本身处理起相关的一些声明或者指令\n",
    "    以xml关键字开头\n",
    "    一般用于声明XML的版本和采用的编码\n",
    "    version属性是必须的\n",
    "    encoding属性用来支出xml解释器使用的编码\n",
    "- 根元素(一个文件内只有一个根元素)\n",
    "在整个xml文件中，可以把他看作一个树形结构\n",
    "根元素有且只能由一个\n",
    "- 子元素\n",
    "- 属性\n",
    "- 内容\n",
    "      表明标签所存储的信息\n",
    "- 注释\n",
    "  <name> <!-- wangdapeng -->   </name> #可以\n",
    "  <name <!-- wangdapeng -->>   </name> #不可以，注释在标签内\n",
    "  \n",
    "  <!--my-name-by-wang--> #可以，注释内容可以有一个短横线\n",
    "  <!--my--name--by--wang-->#不可以，双短横线只能出现在开头或结尾\n",
    "  \n",
    "  <!---my-name--> #可以， 三短横线只能出现在开头\n",
    "  <!---my-name---> #不可以， 三短横线只能出现在开头  \n",
    "\n"
   ]
  },
  {
   "cell_type": "markdown",
   "metadata": {},
   "source": [
    "保留字符的处理\n",
    "\n",
    "XML中使用的符号可能跟实际符号相冲突，典型的就是左右尖括号\n",
    "\n",
    "使用实体引用(EntityReference)来表示保留字符\n",
    "\n",
    "   <score> score>80 </score> #有错误，xml中不能出现>\n",
    "   <score> score&gt;80</score> #使用实体引用\n",
    "把含有保留字符的部分放在CDATA块内部，CDATA块把内部信息视为不需要转义\n",
    "\n",
    "    <![CDATA[\n",
    "       select name,age\n",
    "       from Student\n",
    "       where score>80\n",
    "       ]]>\n",
    "常用的需要转移的保留字符和对应实体引用\n",
    "\n",
    "  - &:&amp;\n",
    "  - <:&lt;\n",
    "  - >:&gt;\n",
    "  - ':&apos;\n",
    "  - \":&quot;\n",
    "  - 一共五个， 每个实体引用都以&开头并且以分号结尾"
   ]
  },
  {
   "cell_type": "markdown",
   "metadata": {},
   "source": [
    "读取\n",
    "\n",
    "XML读取分两个主要技术,SAX， DOM\n",
    "\n",
    "SAX（Simple API for XML):\n",
    "\n",
    "基于事件驱动的API\n",
    "利用SAX解析文档设计到解析器和事件处理两部分\n",
    "特点:\n",
    "快\n",
    "流式读取\n",
    "DOM\n",
    "\n",
    "是W3C规定的XML编程接口\n",
    "一个XML文件再缓存中以树形结构保存，读取\n",
    "用途\n",
    "定位浏览XML任何一个节点信息\n",
    "添加删除相应内容\n",
    "minidom\n",
    "minidom.parse(filename):加载读取的xml文件, filename也可以是xml代码\n",
    "doc.documentElement:获取xml文档对象，一个xml文件只有一个对于的文档对象\n",
    "node.getAttribute(attr_name):获取xml节点的属性值\n",
    "node.getElementByTagName(tage_name)：得到一个节点对象集合\n",
    "node.childNodes:得到所有孩子节点\n",
    "node.childNodes[index].nodeValue:获取单个节点值\n",
    "node.firstNode:得到第一个节点，等价于node.childNodes[0]\n",
    "node.attributes[tage_name]\n",
    "案例v01\n",
    "etree\n",
    "以树形结构来表示xml\n",
    "root.getiterator:得到相应的可迭代的node集合\n",
    "root.iter\n",
    "find(node_name):查找指定node_name的节点,返回一个node\n",
    "root.findall(node_name):返回多个node_name的节点\n",
    "node.tag: node对应的tagename\n",
    "node.text:node的文本值\n",
    "node.attrib： 是node的属性的字典类型的内容\n",
    "案例v02\n",
    "xml文件写入\n",
    "\n",
    "更改\n",
    "ele.set:修改属性\n",
    "ele.append: 添加子元素\n",
    "ele.remove:删除元素\n",
    "案例 v03\n",
    "生成创建\n",
    "SubElement, 案例v04\n",
    "minidom 写入， 案例v05\n",
    "etree创建， 案例v06"
   ]
  },
  {
   "cell_type": "markdown",
   "metadata": {},
   "source": [
    "JSON\n",
    "\n",
    "在线工具\n",
    "\n",
    "https://www.sojson.com/\n",
    "http://www.w3school.com.cn/json/\n",
    "http://www.runoob.com/json/json-tutorial.html\n",
    "JSON(JavaScriptObjectNotation)\n",
    "\n",
    "轻量级的数据交换格式，基于ECMAScript\n",
    "\n",
    "json格式是一个键值对形式的数据集\n",
    "\n",
    "key: 字符串\n",
    "\n",
    "value:字符串，数字，列表，json\n",
    "\n",
    "json使用大括号包裹\n",
    "\n",
    "键值对直接用都好隔开\n",
    "\n",
    "student={ \"name\": \"wangdapeng\", \"age\": 18, \"mobile\":\"13260446055\" }\n",
    "\n",
    "json和python格式的对应\n",
    "\n",
    "字符串：字符串\n",
    "数字：数字\n",
    "队列：list\n",
    "对象：dict\n",
    "布尔值：布尔值\n",
    "python for json\n",
    "\n",
    "json包\n",
    "\n",
    "json和python对象的转换\n",
    "\n",
    "json.dumps():对数据编码，把python格式表示成json格式\n",
    "json.loads(): 对数据解码，把json格式转换成python格式\n",
    "python读取json文件\n",
    "\n",
    "json.dump(): 把dict内容的数据转换成str,写进json文件中\n",
    "json.load(): 把json文件内容读入python\n",
    "案例v07\n",
    "\n",
    "案例v08读取文件"
   ]
  },
  {
   "cell_type": "markdown",
   "metadata": {},
   "source": [
    "JSON：JavaScript 对象表示法（JavaScript Object Notation）。\n",
    "JSON 是存储和交换文本信息的语法。类似 XML。\n",
    "JSON 比 XML 更小、更快，更易解析"
   ]
  },
  {
   "cell_type": "markdown",
   "metadata": {},
   "source": [
    "为什么使用 JSON？\n",
    "对于 AJAX 应用程序来说，JSON 比 XML 更快更易使用：\n",
    "使用 XML\n",
    "读取 XML 文档\n",
    "使用 XML DOM 来循环遍历文档\n",
    "读取值并存储在变量中\n",
    "使用 JSON\n",
    "读取 JSON 字符串\n",
    "用 eval() 处理 JSON 字符串"
   ]
  },
  {
   "cell_type": "markdown",
   "metadata": {},
   "source": [
    "JSON 数组\n",
    "JSON 数组在方括号中书写：\n",
    "数组可包含多个对象：\n",
    "{\n",
    "\"employees\": [\n",
    "{ \"firstName\":\"John\" , \"lastName\":\"Doe\" },\n",
    "{ \"firstName\":\"Anna\" , \"lastName\":\"Smith\" },\n",
    "{ \"firstName\":\"Peter\" , \"lastName\":\"Jones\" }\n",
    "]\n",
    "}\n",
    "在上面的例子中，对象 \"employees\" 是包含三个对象的数组。每个对象代表一条关于某人（有姓和名）的记录。"
   ]
  },
  {
   "cell_type": "code",
   "execution_count": 2,
   "metadata": {},
   "outputs": [
    {
     "name": "stdout",
     "output_type": "stream",
     "text": [
      "<class 'str'>\n",
      "<class 'str'>\n"
     ]
    }
   ],
   "source": [
    "import json\n",
    "l1 = [1,2,3,454]\n",
    "d1 = {'k1':'v1'}\n",
    "ret = json.dumps(l1)  # 通过jshon的dumps的模块可以把特定的对象序列化处理为字符串\n",
    "print(type(ret))\n",
    "ret = json.dumps(d1)\n",
    "print(type(ret))"
   ]
  },
  {
   "cell_type": "code",
   "execution_count": 4,
   "metadata": {},
   "outputs": [
    {
     "name": "stdout",
     "output_type": "stream",
     "text": [
      "<class 'str'>\n",
      "<class 'str'>\n",
      "[1, 2, 3, 4] <class 'list'>\n",
      "{'k1': 'v1'} <class 'dict'>\n"
     ]
    }
   ],
   "source": [
    "l1 = '[1,2,3,4]'\n",
    "d1 = '{\"k1\":\"v1\"}'\n",
    "print(type(l1))\n",
    "print(type(d1))\n",
    "\n",
    "ret = json.loads(l1)\n",
    "print(ret,type(ret))\n",
    "ret = json.loads(d1)\n",
    "print(ret,type(ret))\n",
    "\n",
    "#上面的l1和d1都是字符串，但是他们的外形和list和dict一样，我们就可以通过反序列化把这2个字符串转换成list和dict"
   ]
  },
  {
   "cell_type": "code",
   "execution_count": 5,
   "metadata": {},
   "outputs": [
    {
     "name": "stdout",
     "output_type": "stream",
     "text": [
      "{'name': 'foot'} <class 'dict'>\n"
     ]
    }
   ],
   "source": [
    "#上面的dumps和loads方法都在内存中转换，下面的dump和load的方法会多一个步骤，dump是把序列化后的字符串写到一个文件中\n",
    "#load是从一个一个文件中读取文件\n",
    "import json\n",
    "d1 = {'name':'foot'}\n",
    "#这一步就会把d1做序列化处理后的字符串写到db这个文件中\n",
    "\n",
    "json.dump(d1,open('db','w'))\n",
    "d1 = json.load(open('db','r'))\n",
    "print(d1,type(d1))\n",
    "\n"
   ]
  },
  {
   "cell_type": "markdown",
   "metadata": {},
   "source": [
    "# Python 正则表达式\n",
    "- 正则表达式是一个特殊的字符序列，它能帮助你方便的检查一个字符串是否与某种模式匹配。\n",
    "- re 模块使 Python 语言拥有全部的正则表达式功能。\n",
    "- compile 函数根据一个模式字符串和可选的标志参数生成一个正则表达式对象。该对象拥有一系列方法用于正则表达式匹配和替换。\n",
    "- re 模块也提供了与这些方法功能完全一致的函数，这些函数使用一个模式字符串做为它们的第一个参数。"
   ]
  },
  {
   "cell_type": "code",
   "execution_count": 3,
   "metadata": {},
   "outputs": [
    {
     "name": "stdout",
     "output_type": "stream",
     "text": [
      "(0, 3)\n",
      "None\n"
     ]
    }
   ],
   "source": [
    "# re.match(pattern,string,flags=0)\n",
    "import re\n",
    "print(re.match('www', 'www.baidu,com').span()) # 在起始位置匹配\n",
    "print(re.match('com', 'www.baidu.com'))  #不在起始位置匹配"
   ]
  },
  {
   "cell_type": "code",
   "execution_count": 1,
   "metadata": {},
   "outputs": [
    {
     "name": "stdout",
     "output_type": "stream",
     "text": [
      "(0, 3)\n",
      "(11, 14)\n"
     ]
    }
   ],
   "source": [
    "# re.search方法 扫描整个字符串并返回第一个成功的匹配\n",
    "import re\n",
    "print(re.search('www', 'www.runoob.com').span())  # 在起始位置匹配\n",
    "print(re.search('com', 'www.runoob.com').span())         # 不在起始位置匹配"
   ]
  },
  {
   "cell_type": "markdown",
   "metadata": {},
   "source": [
    "- re.match与re.search的区别\n",
    "re.match只匹配字符串的开始，如果字符串开始不符合正则表达式，则匹配失败，函数返回None；\n",
    "而re.search匹配整个字符串，直到找到一个匹配。\n",
    "\n",
    "- re.sub(pattern, repl, string, count=0, flags=0)\n",
    "pattern : 正则中的模式字符串。\n",
    "repl : 替换的字符串，也可为一个函数。\n",
    "string : 要被查找替换的原始字符串。\n",
    "count : 模式匹配后替换的最大次数，默认 0 表示替换所有的匹配。\n"
   ]
  },
  {
   "cell_type": "code",
   "execution_count": 3,
   "metadata": {},
   "outputs": [
    {
     "name": "stdout",
     "output_type": "stream",
     "text": [
      "电话号码是:  2004-959-559 \n",
      "电话号码是 :  2004959559\n"
     ]
    }
   ],
   "source": [
    "import re\n",
    " \n",
    "phone = \"2004-959-559 # 这是一个国外电话号码\"\n",
    " \n",
    "# 删除字符串中的 Python注释 \n",
    "num = re.sub(r'#.*$', \"\", phone)  \n",
    "print(\"电话号码是: \", num)\n",
    " \n",
    "# 删除非数字(-)的字符串 \n",
    "num = re.sub(r'\\D', \"\", phone)\n",
    "print(\"电话号码是 : \", num)"
   ]
  },
  {
   "cell_type": "markdown",
   "metadata": {},
   "source": [
    "- compile 函数用于编译正则表达式，生成一个正则表达式（ Pattern ）对象，供 match() 和 search() 这两个函数使用。\n",
    "语法格式为：\n",
    "- re.compile(pattern[, flags])"
   ]
  },
  {
   "cell_type": "markdown",
   "metadata": {},
   "source": [
    "# findall\n",
    "- 在字符串中找到正则表达式所匹配的所有子串，并返回一个列表，如果没有找到匹配的，则返回空列表。\n",
    "- 注意： match 和 search 是匹配一次 findall 匹配所有。\n",
    "语法格式为：\n",
    "findall(string[, pos[, endpos]])"
   ]
  },
  {
   "cell_type": "code",
   "execution_count": 6,
   "metadata": {},
   "outputs": [
    {
     "name": "stdout",
     "output_type": "stream",
     "text": [
      "['123', '456']\n",
      "['88', '12']\n"
     ]
    }
   ],
   "source": [
    "import re\n",
    " \n",
    "pattern = re.compile(r'\\d+')   # 查找数字\n",
    "result1 = pattern.findall('runoob 123 google 456')\n",
    "result2 = pattern.findall('run88oob123google456', 0, 10)\n",
    " \n",
    "print(result1)\n",
    "print(result2)"
   ]
  },
  {
   "cell_type": "code",
   "execution_count": 8,
   "metadata": {},
   "outputs": [
    {
     "name": "stdout",
     "output_type": "stream",
     "text": [
      "12\n",
      "32\n",
      "43\n",
      "3\n"
     ]
    }
   ],
   "source": [
    "# re.finditer 和 findall 类似，在字符串中找到正则表达式所匹配的所有子串，并把它们作为一个迭代器返回。\n",
    "import re\n",
    " \n",
    "it = re.finditer(r\"\\d+\",\"12a32bc43jf3\") \n",
    "for match in it: \n",
    "    print (match.group())"
   ]
  },
  {
   "cell_type": "code",
   "execution_count": null,
   "metadata": {},
   "outputs": [],
   "source": []
  },
  {
   "cell_type": "code",
   "execution_count": null,
   "metadata": {},
   "outputs": [],
   "source": []
  }
 ],
 "metadata": {
  "kernelspec": {
   "display_name": "Python 3",
   "language": "python",
   "name": "python3"
  },
  "language_info": {
   "codemirror_mode": {
    "name": "ipython",
    "version": 3
   },
   "file_extension": ".py",
   "mimetype": "text/x-python",
   "name": "python",
   "nbconvert_exporter": "python",
   "pygments_lexer": "ipython3",
   "version": "3.6.4"
  }
 },
 "nbformat": 4,
 "nbformat_minor": 2
}
