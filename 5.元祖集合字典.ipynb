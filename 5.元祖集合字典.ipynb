{
 "cells": [
  {
   "cell_type": "code",
   "execution_count": 2,
   "metadata": {},
   "outputs": [
    {
     "name": "stdout",
     "output_type": "stream",
     "text": [
      "5\n"
     ]
    }
   ],
   "source": [
    "t = (1,2,3,4,5) # 元祖的长度\n",
    "print(len(t))"
   ]
  },
  {
   "cell_type": "code",
   "execution_count": 5,
   "metadata": {},
   "outputs": [
    {
     "name": "stdout",
     "output_type": "stream",
     "text": [
      "6\n",
      "1\n"
     ]
    }
   ],
   "source": [
    "t = (1,1,2,2,3,4,5,6,6)\n",
    "print(max(t))\n",
    "print(min(t))"
   ]
  },
  {
   "cell_type": "code",
   "execution_count": 7,
   "metadata": {},
   "outputs": [
    {
     "name": "stdout",
     "output_type": "stream",
     "text": [
      "(1, 2, 3, 4, 5)\n",
      "()\n"
     ]
    }
   ],
   "source": [
    "l = [1,2,3,4,5]\n",
    "t = tuple(l) # tuple 转化或者创建元祖\n",
    "print(t)\n",
    "\n",
    "t = tuple()\n",
    "print(t)\n",
    " "
   ]
  },
  {
   "cell_type": "code",
   "execution_count": 11,
   "metadata": {},
   "outputs": [
    {
     "name": "stdout",
     "output_type": "stream",
     "text": [
      "2\n",
      "3\n",
      "5\n"
     ]
    }
   ],
   "source": [
    "t = (1,2,3,4,5,6,6,7)\n",
    "print(t.count(6))  # 计算指定元素出现的次数\n",
    "\n",
    "print(t.index(4))  # 指定元素的索引\n",
    "print(t.index(6))"
   ]
  },
  {
   "cell_type": "code",
   "execution_count": 12,
   "metadata": {},
   "outputs": [
    {
     "name": "stdout",
     "output_type": "stream",
     "text": [
      "3\n",
      "1\n"
     ]
    }
   ],
   "source": [
    "#两个变量交换值\n",
    "a = 1\n",
    "b = 3\n",
    "a,b = b,a\n",
    "print(a)\n",
    "print(b)"
   ]
  },
  {
   "cell_type": "code",
   "execution_count": 14,
   "metadata": {},
   "outputs": [
    {
     "name": "stdout",
     "output_type": "stream",
     "text": [
      "set()\n"
     ]
    }
   ],
   "source": [
    "# 集合 set \n",
    "s = set()\n",
    "print(s)\n"
   ]
  },
  {
   "cell_type": "code",
   "execution_count": 58,
   "metadata": {},
   "outputs": [
    {
     "name": "stdout",
     "output_type": "stream",
     "text": [
      "<class 'dict'>\n",
      "<class 'set'>\n",
      "{'l', 'e', 'h', 'o'}\n"
     ]
    }
   ],
   "source": [
    "s = {}\n",
    "print(type(s))\n",
    "\n",
    "s = {1,2,'eli'} \n",
    "print(type(s))\n",
    "\n",
    "s = set(\"hello\")\n",
    "print(s)\n"
   ]
  },
  {
   "cell_type": "code",
   "execution_count": 59,
   "metadata": {},
   "outputs": [
    {
     "name": "stdout",
     "output_type": "stream",
     "text": [
      "{'n', 'o', 'h', 'p', 't', 'y'}\n",
      "{'p', 1, 'y', 't'}\n",
      "{'python', 'i', 'like'}\n",
      "******************************\n",
      "{'p', 'y', 't'}\n",
      "{1, 'n', 'o', 'h', 'p', 't', 'y'}\n",
      "{'n', 'h', 'o'}\n"
     ]
    }
   ],
   "source": [
    "s = set(\"python\")\n",
    "print(s)\n",
    "\n",
    "s1 = set(['y','t',1,'p'])\n",
    "print(s1)\n",
    "\n",
    "s2 = set(['i','like','python'])\n",
    "print(s2)\n",
    "print('*' * 30)\n",
    "\n",
    "print(s&s1) #交集\n",
    "print(s|s1) #并集\n",
    "print(s-s1) #差集"
   ]
  },
  {
   "cell_type": "code",
   "execution_count": 69,
   "metadata": {},
   "outputs": [
    {
     "name": "stdout",
     "output_type": "stream",
     "text": [
      "{1, 2, 3, 4}\n",
      "{2, 3, 4}\n",
      "{2, 3, 4, 8}\n",
      "{2, 4, 8}\n"
     ]
    },
    {
     "ename": "KeyError",
     "evalue": "10",
     "output_type": "error",
     "traceback": [
      "\u001b[1;31m---------------------------------------------------------------------------\u001b[0m",
      "\u001b[1;31mKeyError\u001b[0m                                  Traceback (most recent call last)",
      "\u001b[1;32m<ipython-input-69-97bbf7ead31d>\u001b[0m in \u001b[0;36m<module>\u001b[1;34m()\u001b[0m\n\u001b[0;32m     11\u001b[0m \u001b[0mb\u001b[0m\u001b[1;33m.\u001b[0m\u001b[0mdiscard\u001b[0m\u001b[1;33m(\u001b[0m\u001b[1;36m3\u001b[0m\u001b[1;33m)\u001b[0m\u001b[1;33m\u001b[0m\u001b[0m\n\u001b[0;32m     12\u001b[0m \u001b[0mprint\u001b[0m\u001b[1;33m(\u001b[0m\u001b[0mb\u001b[0m\u001b[1;33m)\u001b[0m\u001b[1;33m\u001b[0m\u001b[0m\n\u001b[1;32m---> 13\u001b[1;33m \u001b[0mb\u001b[0m\u001b[1;33m.\u001b[0m\u001b[0mremove\u001b[0m\u001b[1;33m(\u001b[0m\u001b[1;36m10\u001b[0m\u001b[1;33m)\u001b[0m \u001b[1;31m#如果删除的元素不在集合中，则会报KeyError\u001b[0m\u001b[1;33m\u001b[0m\u001b[0m\n\u001b[0m\u001b[0;32m     14\u001b[0m \u001b[0mprint\u001b[0m\u001b[1;33m(\u001b[0m\u001b[0mb\u001b[0m\u001b[1;33m)\u001b[0m\u001b[1;33m\u001b[0m\u001b[0m\n",
      "\u001b[1;31mKeyError\u001b[0m: 10"
     ]
    }
   ],
   "source": [
    "a = [1,1,2,3,3,4,4] #set 是个无序不重复元素集合，可以用来去重\n",
    "b = set(a)\n",
    "print(b) \n",
    "\n",
    "b.remove(1) # 删除一个元素\n",
    "print(b)\n",
    "\n",
    "b.add(8) # 增加一个元素\n",
    "print(b)\n",
    "\n",
    "b.discard(3) # discard 删除元素 如果删除的元素不在集合中，不会报错\n",
    "print(b)\n",
    "\n",
    "b.remove(10) #如果删除的元素不在集合中，则会报KeyError\n",
    "print(b)\n"
   ]
  },
  {
   "cell_type": "code",
   "execution_count": 61,
   "metadata": {},
   "outputs": [
    {
     "name": "stdout",
     "output_type": "stream",
     "text": [
      "{2, 4, 'like', 'python', 'i'}\n",
      "OK\n",
      "good\n"
     ]
    }
   ],
   "source": [
    "s = {'i','like','python',2,4}  # 集合 in 和 not in 成员检测\n",
    "print(s)\n",
    "if 'like' in s:\n",
    "    print(\"OK\")\n",
    "if 'ha' not in s:\n",
    "    print(\"good\")"
   ]
  },
  {
   "cell_type": "code",
   "execution_count": 63,
   "metadata": {},
   "outputs": [
    {
     "name": "stdout",
     "output_type": "stream",
     "text": [
      "2 4 like python i "
     ]
    }
   ],
   "source": [
    "s = {'i','like','python',2,4} #集合的遍历操作\n",
    "for i in s:\n",
    "    print(i,end=\" \")"
   ]
  },
  {
   "cell_type": "code",
   "execution_count": 65,
   "metadata": {},
   "outputs": [
    {
     "name": "stdout",
     "output_type": "stream",
     "text": [
      "('eli', 'jack', 'iron')\n",
      "('i', 'like', 'python')\n",
      "(1, 2, 3)\n",
      "eli -- jack -- iron\n",
      "i -- like -- python\n",
      "1 -- 2 -- 3\n"
     ]
    }
   ],
   "source": [
    "# 带有元祖的集合遍历\n",
    "s = {(1,2,3),('i','like','python'),('eli','jack','iron')}\n",
    "for i in s:  \n",
    "    print(i)\n",
    "\n",
    "for i,m,n in s:\n",
    "    print(i,\"--\",m,\"--\",n)"
   ]
  },
  {
   "cell_type": "code",
   "execution_count": 67,
   "metadata": {},
   "outputs": [
    {
     "ename": "TypeError",
     "evalue": "unhashable type: 'list'",
     "output_type": "error",
     "traceback": [
      "\u001b[1;31m---------------------------------------------------------------------------\u001b[0m",
      "\u001b[1;31mTypeError\u001b[0m                                 Traceback (most recent call last)",
      "\u001b[1;32m<ipython-input-67-93fcc4ba49c9>\u001b[0m in \u001b[0;36m<module>\u001b[1;34m()\u001b[0m\n\u001b[1;32m----> 1\u001b[1;33m \u001b[0ms\u001b[0m \u001b[1;33m=\u001b[0m \u001b[1;33m{\u001b[0m\u001b[1;33m[\u001b[0m\u001b[1;36m1\u001b[0m\u001b[1;33m,\u001b[0m\u001b[1;36m2\u001b[0m\u001b[1;33m,\u001b[0m\u001b[1;36m3\u001b[0m\u001b[1;33m]\u001b[0m\u001b[1;33m,\u001b[0m\u001b[1;33m[\u001b[0m\u001b[1;34m'i'\u001b[0m\u001b[1;33m,\u001b[0m\u001b[1;34m'like'\u001b[0m\u001b[1;33m,\u001b[0m\u001b[1;34m'python'\u001b[0m\u001b[1;33m]\u001b[0m\u001b[1;33m,\u001b[0m\u001b[1;33m[\u001b[0m\u001b[1;34m'eli'\u001b[0m\u001b[1;33m,\u001b[0m\u001b[1;34m'jack'\u001b[0m\u001b[1;33m,\u001b[0m\u001b[1;34m'iron'\u001b[0m\u001b[1;33m]\u001b[0m\u001b[1;33m}\u001b[0m\u001b[1;33m\u001b[0m\u001b[0m\n\u001b[0m\u001b[0;32m      2\u001b[0m \u001b[1;32mfor\u001b[0m \u001b[0mi\u001b[0m \u001b[1;32min\u001b[0m \u001b[0ms\u001b[0m\u001b[1;33m:\u001b[0m\u001b[1;33m\u001b[0m\u001b[0m\n\u001b[0;32m      3\u001b[0m     \u001b[0mprint\u001b[0m\u001b[1;33m(\u001b[0m\u001b[0mi\u001b[0m\u001b[1;33m)\u001b[0m\u001b[1;33m\u001b[0m\u001b[0m\n",
      "\u001b[1;31mTypeError\u001b[0m: unhashable type: 'list'"
     ]
    }
   ],
   "source": [
    "# 哈希键一定是不可改变的，所以它们对应的哈希值也不改变\n",
    "s = {[1,2,3],['i','like','python'],['eli','jack','iron']}  \n",
    "for i in s:\n",
    "    print(i)"
   ]
  },
  {
   "cell_type": "code",
   "execution_count": 68,
   "metadata": {},
   "outputs": [
    {
     "name": "stdout",
     "output_type": "stream",
     "text": [
      "{1, 2, 3, 4}\n",
      "91275048\n",
      "set()\n",
      "91275048\n"
     ]
    }
   ],
   "source": [
    "s = {1,2,3,4}\n",
    "print(s)\n",
    "print(id(s))\n",
    "s.clear()  # 原地清空元素  id是一样的\n",
    "print(s)\n",
    "print(id(s))"
   ]
  },
  {
   "cell_type": "code",
   "execution_count": 14,
   "metadata": {},
   "outputs": [
    {
     "name": "stdout",
     "output_type": "stream",
     "text": [
      "1\n",
      "{2, 3, 4, 5, 6}\n"
     ]
    }
   ],
   "source": [
    "s = {1,2,3,4,5,6}\n",
    "d = s.pop()  \n",
    "print(d)\n",
    "print(s)\n"
   ]
  },
  {
   "cell_type": "code",
   "execution_count": 21,
   "metadata": {},
   "outputs": [
    {
     "name": "stdout",
     "output_type": "stream",
     "text": [
      "{4, 5}\n",
      "{1, 2, 3}\n",
      "{1, 2, 3}\n",
      "{8, 6, 7}\n",
      "******************************\n",
      "{1, 2, 3, 4, 5, 6, 7, 8}\n",
      "False\n"
     ]
    }
   ],
   "source": [
    "# 集合函数\n",
    "'''\n",
    "intersection:交集\n",
    "difference:差集\n",
    "union:并集\n",
    "issubset:检查一个集合是否为另一个集合的子集\n",
    "issuperset:检查一个集合是否为另一个集合的超集\n",
    "\n",
    "'''\n",
    "s1 = {1,2,3,4,5}\n",
    "s2 = {4,5,6,7,8}\n",
    "s_1 = s1.intersection(s2)\n",
    "print(s_1)\n",
    "\n",
    "s_2 = s1.difference(s2)  # 也就是 s_2 = s1 - s2\n",
    "print(s_2)\n",
    "\n",
    "s_3 = s1 - s2\n",
    "print(s_3)\n",
    "\n",
    "s_4 = s2 - s1\n",
    "print(s_4)\n",
    "print('*'*30)\n",
    "\n",
    "s_5 = s1.union(s2)\n",
    "print(s_5)\n",
    "\n",
    "s_6 = s1.issubset(s2)\n",
    "print(s_6)\n"
   ]
  },
  {
   "cell_type": "code",
   "execution_count": 27,
   "metadata": {
    "scrolled": true
   },
   "outputs": [
    {
     "name": "stdout",
     "output_type": "stream",
     "text": [
      "<class 'frozenset'>\n",
      "frozenset()\n",
      "frozenset({1, 2, 3, 4, 5, 6, 7, 8, 9})\n",
      "frozenset({'p', 'h', 'o', 'y', 'n', 't'})\n"
     ]
    },
    {
     "ename": "AttributeError",
     "evalue": "'frozenset' object has no attribute 'add'",
     "output_type": "error",
     "traceback": [
      "\u001b[1;31m---------------------------------------------------------------------------\u001b[0m",
      "\u001b[1;31mAttributeError\u001b[0m                            Traceback (most recent call last)",
      "\u001b[1;32m<ipython-input-27-0240cbe4bbbe>\u001b[0m in \u001b[0;36m<module>\u001b[1;34m()\u001b[0m\n\u001b[0;32m     10\u001b[0m \u001b[0mprint\u001b[0m\u001b[1;33m(\u001b[0m\u001b[0ma\u001b[0m\u001b[1;33m)\u001b[0m\u001b[1;33m\u001b[0m\u001b[0m\n\u001b[0;32m     11\u001b[0m \u001b[1;33m\u001b[0m\u001b[0m\n\u001b[1;32m---> 12\u001b[1;33m \u001b[0ma\u001b[0m\u001b[1;33m.\u001b[0m\u001b[0madd\u001b[0m\u001b[1;33m(\u001b[0m\u001b[1;36m1\u001b[0m\u001b[1;33m)\u001b[0m\u001b[1;33m\u001b[0m\u001b[0m\n\u001b[0m\u001b[0;32m     13\u001b[0m \u001b[0mprint\u001b[0m\u001b[1;33m(\u001b[0m\u001b[0ma\u001b[0m\u001b[1;33m)\u001b[0m\u001b[1;33m\u001b[0m\u001b[0m\n",
      "\u001b[1;31mAttributeError\u001b[0m: 'frozenset' object has no attribute 'add'"
     ]
    }
   ],
   "source": [
    "# 冰冻集合  不能进行修改的集合，一种特殊的集合\n",
    "a = frozenset()\n",
    "print(type(a))\n",
    "print(a)\n",
    "\n",
    "a = frozenset(range(1,10))\n",
    "print(a)\n",
    "\n",
    "a = frozenset(\"python\")\n",
    "print(a)\n",
    "\n",
    "a.add(1)\n",
    "print(a) "
   ]
  },
  {
   "cell_type": "code",
   "execution_count": 37,
   "metadata": {},
   "outputs": [
    {
     "name": "stdout",
     "output_type": "stream",
     "text": [
      "2\n",
      "1\n",
      "3\n",
      "{'a': 1, 'b': 3}\n",
      "{'b': 3}\n"
     ]
    }
   ],
   "source": [
    "#  dict 字典的每个键值 key=>value 对用冒号 : 分割，每个键值对之间用逗号 , 分割，整个字典包括在花括号 {} 中\n",
    "# 字典是另一种可变容器模型，且可存储任意类型对象。\n",
    "\n",
    "d = {'a':1,'b':2,'b':3}\n",
    "\n",
    "print(d['a'])  # 访问格式，中括号内是键值\n",
    "print(d['b'])\n",
    "print(d)  # 键一般是唯一的，如果重复最后的一个键值对会替换前面的，值不需要唯一。\n",
    "del(d['a'])\n",
    "print(d)\n",
    "\n",
    "\n"
   ]
  },
  {
   "cell_type": "code",
   "execution_count": 39,
   "metadata": {},
   "outputs": [
    {
     "name": "stdout",
     "output_type": "stream",
     "text": [
      "{'one': 1, 'two': 2, 'three': 3}\n",
      "1\n",
      "3\n",
      "{}\n"
     ]
    }
   ],
   "source": [
    "# 直接创建字典\n",
    "d = {'one':1,'two':2,'three':3}\n",
    "print(d)\n",
    "print(d['one'])\n",
    "print(d['three'])\n",
    "d.clear()  # clear 函数 清除字典里的所有项\n",
    "print(d)"
   ]
  },
  {
   "cell_type": "code",
   "execution_count": 41,
   "metadata": {},
   "outputs": [
    {
     "name": "stdout",
     "output_type": "stream",
     "text": [
      "{'one': 1, 'two': 2}\n",
      "{}\n",
      "{'one': 1, 'two': 2}\n"
     ]
    }
   ],
   "source": [
    "# 两个例子\n",
    "d={}\n",
    "dd=d\n",
    "d['one']=1\n",
    "d['two']=2\n",
    "print(dd)\n",
    "d={}  # d关联到一个新的空字典，这种方式对字典dd没有影响\n",
    "print(d)\n",
    "print(dd)"
   ]
  },
  {
   "cell_type": "code",
   "execution_count": 43,
   "metadata": {},
   "outputs": [
    {
     "name": "stdout",
     "output_type": "stream",
     "text": [
      "{'one': 1, 'two': 2}\n",
      "{}\n",
      "{}\n"
     ]
    }
   ],
   "source": [
    "d={}\n",
    "dd=d\n",
    "d['one']=1\n",
    "d['two']=2\n",
    "print(dd)\n",
    "d.clear()\n",
    "print(d)\n",
    "print(dd)"
   ]
  },
  {
   "cell_type": "code",
   "execution_count": 44,
   "metadata": {},
   "outputs": [
    {
     "name": "stdout",
     "output_type": "stream",
     "text": [
      "{'one': None, 'two': None, 'three': None}\n"
     ]
    }
   ],
   "source": [
    "# fromkeys: 使用指定的序列作为键，使用一个值作为字典的所有的键的值\n",
    "l = ['one','two','three']\n",
    "d = dict.fromkeys(l) # 键默认对应的值是None\n",
    "print(d)"
   ]
  },
  {
   "cell_type": "code",
   "execution_count": 47,
   "metadata": {},
   "outputs": [
    {
     "name": "stdout",
     "output_type": "stream",
     "text": [
      "{'one': 'eli', 'two': 'eli', 'three': 'eli'}\n"
     ]
    }
   ],
   "source": [
    "d = dict.fromkeys(['one','two','three'],'eli')\n",
    "print(d)"
   ]
  },
  {
   "cell_type": "code",
   "execution_count": 51,
   "metadata": {},
   "outputs": [
    {
     "name": "stdout",
     "output_type": "stream",
     "text": [
      "1\n",
      "None\n",
      "1\n",
      "9\n"
     ]
    }
   ],
   "source": [
    "# get函数可以访问字典中不存在的键，当该键不存在时返回None \n",
    "d = {'one':1,'two':2,'three':3}\n",
    "print(d.get('one'))\n",
    "print(d.get('four'))\n",
    "print(d.get('one',9))\n",
    "print(d.get('four',9))"
   ]
  },
  {
   "cell_type": "code",
   "execution_count": 54,
   "metadata": {},
   "outputs": [
    {
     "name": "stdout",
     "output_type": "stream",
     "text": [
      "one : 1\n",
      "two : 2\n",
      "three : 3\n"
     ]
    }
   ],
   "source": [
    "# :items将所有的字典项以列表方式返回，列表中项来自（键，值）\n",
    "d = {'one':1,'two':2,'three':3}\n",
    "list = d.items()\n",
    "for k,v in list:\n",
    "    print(k,\":\",v)"
   ]
  },
  {
   "cell_type": "code",
   "execution_count": 60,
   "metadata": {},
   "outputs": [
    {
     "name": "stdout",
     "output_type": "stream",
     "text": [
      "<class 'dict_keys'>\n",
      "dict_keys(['one', 'two', 'three'])\n",
      "dict_values([1, 2, 3])\n",
      "{'two': 2, 'three': 3}\n"
     ]
    }
   ],
   "source": [
    "# keys将字典中的键以列表形式返回\n",
    "d = {'one':1,'two':2,'three':3}\n",
    "l = d.keys()\n",
    "print(type(l))\n",
    "print(l)\n",
    "\n",
    "print(d.values())\n",
    "\n",
    "\n",
    "d.pop('one') # 删除字典中的键\n",
    "print(d)\n",
    "\n"
   ]
  },
  {
   "cell_type": "code",
   "execution_count": null,
   "metadata": {},
   "outputs": [],
   "source": []
  },
  {
   "cell_type": "code",
   "execution_count": null,
   "metadata": {},
   "outputs": [],
   "source": []
  },
  {
   "cell_type": "code",
   "execution_count": null,
   "metadata": {},
   "outputs": [],
   "source": []
  }
 ],
 "metadata": {
  "kernelspec": {
   "display_name": "Python 3",
   "language": "python",
   "name": "python3"
  },
  "language_info": {
   "codemirror_mode": {
    "name": "ipython",
    "version": 3
   },
   "file_extension": ".py",
   "mimetype": "text/x-python",
   "name": "python",
   "nbconvert_exporter": "python",
   "pygments_lexer": "ipython3",
   "version": "3.6.4"
  }
 },
 "nbformat": 4,
 "nbformat_minor": 2
}
