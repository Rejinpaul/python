{
 "cells": [
  {
   "cell_type": "code",
   "execution_count": null,
   "metadata": {},
   "outputs": [],
   "source": [
    "# 假设p01模块\n",
    "class Student():\n",
    "    def __init__(self, name=\"NoName\", age=18):\n",
    "        self.name = name\n",
    "        self.age = age\n",
    "\n",
    "\n",
    "    def say(self):\n",
    "        print(\"My name is {0}\".format(self.name))\n",
    "\n",
    "\n",
    "def sayHello():\n",
    "    print(\"Hi, 欢迎\")\n",
    "    \n",
    "if __name__ == '__main__': # 可以有效避免模块代码被导入的时候被动执行的问题,建议所欲程序的入口都以此代码为入口\n",
    "    print(\"我是模块p01呀\")"
   ]
  },
  {
   "cell_type": "markdown",
   "metadata": {},
   "source": [
    "模块就是一个python的普通文件。程序太大，分拆便于维护，复用性强。\n",
    "1.import p01\n",
    "import p01\n",
    "\n",
    "stu = p01.Student(\"xiaojign\", 19)\n",
    "\n",
    "stu.say()\n",
    "\n",
    "p01.sayHello()\n",
    "\n",
    "2.importlib 数字开头  \n",
    "tuling = importlib.import_module(\"01\")\n",
    "\n",
    "3.import 模块 as 别名\n",
    "import p01 as p\n",
    "\n",
    "stu = p.Student(\"yueyue\", 18)\n",
    "stu.say()\n",
    "\n",
    "4.form p01 import Student, sayHello\n",
    "from p01 import Student, sayHello\n",
    "\n",
    "\n",
    "stu = Student()\n",
    "\n",
    "stu.say()\n",
    "\n",
    "5.from p01 import *\n",
    "\n",
    "\n",
    "sayHello()\n",
    "\n",
    "stu = Student(\"yaona\", 28)\n",
    "stu.say()\n",
    "\n"
   ]
  },
  {
   "cell_type": "markdown",
   "metadata": {},
   "source": [
    "包是一种组织管理代码的方式，包里面存放的是模块 -　用于将模块包含在一起的文件夹就是包\n",
    "\n",
    "自定义包的结构\n",
    "\n",
    "  |---包\n",
    "  |---|--- __init__.py  包的标志文件\n",
    "  |---|--- 模块1\n",
    "  |---|--- 模块2\n",
    "  |---|--- 子包(子文件夹)\n",
    "  |---|---|--- __init__.py  包的标志文件\n",
    "  |---|---|--- 子包模块1\n",
    "  |---|---|--- 子包模块2"
   ]
  },
  {
   "cell_type": "markdown",
   "metadata": {},
   "source": [
    "异常\n",
    "广义上的错误分为错误和异常\n",
    "错误指的是可以人为避免\n",
    "异常是指在语法逻辑正确的前提下，出现的问题\n",
    "在python里，异常是一个类，可以处理和使用"
   ]
  },
  {
   "cell_type": "markdown",
   "metadata": {},
   "source": [
    "异常的分类\n",
    "AssertError 断言语句（assert）失败\n",
    "AttributeError 尝试访问未知的对象属性\n",
    "EOFError 用户输入文件末尾标志EOF（Ctrl+d）\n",
    "FloatingPointError 浮点计算错误\n",
    "GeneratorExit generator.close()方法被调用的时候\n",
    "ImportError 导入模块失败的时候\n",
    "IndexError 索引超出序列的范围\n",
    "KeyError 字典中查找一个不存在的关键字\n",
    "KeyboardInterrupt 用户输入中断键（Ctrl+c）\n",
    "MemoryError 内存溢出（可通过删除对象释放内存）\n",
    "NameError 尝试访问一个不存在的变量\n",
    "NotImplementedError 尚未实现的方法\n",
    "OSError 操作系统产生的异常（例如打开一个不存在的文件）\n",
    "OverflowError 数值运算超出最大限制\n",
    "ReferenceError 弱引用（weak reference）试图访问一个已经被垃圾回收机制回收了的对象\n",
    "RuntimeError 一般的运行时错误\n",
    "StopIteration 迭代器没有更多的值\n",
    "SyntaxError Python的语法错误\n",
    "IndentationError 缩进错误\n",
    "TabError Tab和空格混合使用\n",
    "SystemError Python编译器系统错误\n",
    "SystemExit Python编译器进程被关闭\n",
    "TypeError 不同类型间的无效操作\n",
    "UnboundLocalError 访问一个未初始化的本地变量（NameError的子类）\n",
    "UnicodeError Unicode相关的错误（ValueError的子类）\n",
    "UnicodeEncodeError Unicode编码时的错误（UnicodeError的子类）\n",
    "UnicodeDecodeError Unicode解码时的错误（UnicodeError的子类）\n",
    "UnicodeTranslateError Unicode转换时的错误（UnicodeError的子类）\n",
    "ValueError 传入无效的参数\n",
    "ZeroDivisionError 除数为零"
   ]
  },
  {
   "cell_type": "markdown",
   "metadata": {},
   "source": [
    "异常处理\n",
    "不能保证程序永远正确运行\n",
    "但是，必须保证程序在最坏的情况下得到的问题被妥善处理\n",
    "python的异常处理模块全部语法为：\n",
    "  try:\n",
    "      尝试实现某个操作，\n",
    "      如果没出现异常，任务就可以完成\n",
    "      如果出现异常，将异常从当前代码块扔出去尝试解决异常\n",
    "\n",
    "  except 异常类型1:\n",
    "      解决方案1：用于尝试在此处处理异常解决问题\n",
    "\n",
    "  except 异常类型2：\n",
    "      解决方案2：用于尝试在此处处理异常解决问题\n",
    "\n",
    "  except (异常类型1,异常类型2...)\n",
    "      解决方案：针对多个异常使用相同的处理方式\n",
    "\n",
    "  excpet:\n",
    "      解决方案：所有异常的解决方案\n",
    "\n",
    "  else:\n",
    "      如果没有出现任何异常，将会执行此处代码\n",
    "\n",
    "  finally:\n",
    "      管你有没有异常都要执行的代码\n",
    "流程\n",
    "执行try下面的语句\n",
    "如果出现异常，则在except语句里查找对应异常病进行处理\n",
    "如果没有出现异常，则执行else语句内容\n",
    "最后，不管是否出现异常，都要执行finally语句\n",
    "除except(最少一个)以外，else和finally可选"
   ]
  },
  {
   "cell_type": "markdown",
   "metadata": {},
   "source": [
    "用户手动引发异常\n",
    "当某些情况，用户希望自己引发一个异常的时候，可以使用\n",
    "raise 关键字来引发异常"
   ]
  },
  {
   "cell_type": "markdown",
   "metadata": {},
   "source": [
    "关于自定义异常\n",
    "只要是raise异常，则推荐自定义异常\n",
    "在自定义异常的时候，一般包含以下内容：\n",
    "自定义发生异常的异常代码\n",
    "自定义发生异常后的问题提示\n",
    "自定义发生异常的行数\n",
    "最终的目的是，一旦发生异常，方便程序员快速定位错误现场"
   ]
  },
  {
   "cell_type": "code",
   "execution_count": 1,
   "metadata": {},
   "outputs": [
    {
     "data": {
      "text/plain": [
       "1528424703.0765696"
      ]
     },
     "execution_count": 1,
     "metadata": {},
     "output_type": "execute_result"
    }
   ],
   "source": [
    "import time\n",
    "time.time() # 得到时间戳"
   ]
  },
  {
   "cell_type": "code",
   "execution_count": 3,
   "metadata": {},
   "outputs": [
    {
     "name": "stdout",
     "output_type": "stream",
     "text": [
      "time.struct_time(tm_year=2018, tm_mon=6, tm_mday=8, tm_hour=10, tm_min=26, tm_sec=13, tm_wday=4, tm_yday=159, tm_isdst=0)\n"
     ]
    }
   ],
   "source": [
    "t = time.localtime() # localtime， 得到当前时间的时间结构\n",
    "print(t)"
   ]
  },
  {
   "cell_type": "code",
   "execution_count": 4,
   "metadata": {},
   "outputs": [
    {
     "name": "stdout",
     "output_type": "stream",
     "text": [
      "Fri Jun  8 10:28:07 2018\n"
     ]
    }
   ],
   "source": [
    "#asctime() 返回元组的正常字符串化之后的时间格式 \n",
    "# 格式：time.asctime（时间元组）\n",
    "t = time.localtime()\n",
    "tt = time.asctime(t)\n",
    "print(tt)"
   ]
  },
  {
   "cell_type": "code",
   "execution_count": 6,
   "metadata": {},
   "outputs": [
    {
     "name": "stdout",
     "output_type": "stream",
     "text": [
      "Fri Jun  8 10:29:00 2018\n",
      "<class 'str'>\n"
     ]
    }
   ],
   "source": [
    "# ctime: 获取字符串化的当前时间\n",
    "t = time.ctime()\n",
    "print(t)\n",
    "print(type(t))"
   ]
  },
  {
   "cell_type": "code",
   "execution_count": 7,
   "metadata": {},
   "outputs": [
    {
     "name": "stdout",
     "output_type": "stream",
     "text": [
      "<class 'float'>\n",
      "1528424986.0\n"
     ]
    }
   ],
   "source": [
    "# mktime() 使用时间元组获取对应的时间戳\n",
    "# 格式：time.mktime（时间元组）\n",
    "# 返回值：浮点数时间戳\n",
    "\n",
    "lt = time.localtime()\n",
    "ts = time.mktime(lt)\n",
    "print(type(ts))\n",
    "print(ts)"
   ]
  },
  {
   "cell_type": "code",
   "execution_count": 9,
   "metadata": {},
   "outputs": [
    {
     "name": "stdout",
     "output_type": "stream",
     "text": [
      "0\n",
      "1\n",
      "2\n",
      "3\n",
      "4\n",
      "5\n",
      "6\n",
      "7\n",
      "8\n",
      "9\n"
     ]
    }
   ],
   "source": [
    "# sleep: 使程序进入睡眠，n秒后继续\n",
    "for i in range(0,10):\n",
    "    print(i)\n",
    "    time.sleep(1)"
   ]
  },
  {
   "cell_type": "code",
   "execution_count": 4,
   "metadata": {},
   "outputs": [
    {
     "name": "stdout",
     "output_type": "stream",
     "text": [
      "49\n"
     ]
    }
   ],
   "source": [
    "import random\n",
    "print(random.randint(0,100))"
   ]
  },
  {
   "cell_type": "code",
   "execution_count": 5,
   "metadata": {},
   "outputs": [
    {
     "name": "stdout",
     "output_type": "stream",
     "text": [
      "0.32872863676801345\n"
     ]
    }
   ],
   "source": [
    "print(random.random())"
   ]
  },
  {
   "cell_type": "code",
   "execution_count": null,
   "metadata": {},
   "outputs": [],
   "source": []
  },
  {
   "cell_type": "code",
   "execution_count": null,
   "metadata": {},
   "outputs": [],
   "source": []
  },
  {
   "cell_type": "code",
   "execution_count": null,
   "metadata": {},
   "outputs": [],
   "source": []
  }
 ],
 "metadata": {
  "kernelspec": {
   "display_name": "Python 3",
   "language": "python",
   "name": "python3"
  },
  "language_info": {
   "codemirror_mode": {
    "name": "ipython",
    "version": 3
   },
   "file_extension": ".py",
   "mimetype": "text/x-python",
   "name": "python",
   "nbconvert_exporter": "python",
   "pygments_lexer": "ipython3",
   "version": "3.6.4"
  }
 },
 "nbformat": 4,
 "nbformat_minor": 2
}
