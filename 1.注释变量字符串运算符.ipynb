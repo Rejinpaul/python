{
 "cells": [
  {
   "cell_type": "markdown",
   "metadata": {},
   "source": [
    "注释的写法：行注释 以#号开头 和块注释 以三个连续单引号和双引号开始和结束\n",
    "\n",
    "变量 数字，大小写字母，下划线组成，数字不能打头，命名合理。\n",
    "1.在Python给类命名用大驼峰 MyFirstLove 2.普通变量 多个单词用下划线链接，单词全部小写 my_first_love,int_one\n"
   ]
  },
  {
   "cell_type": "code",
   "execution_count": 2,
   "metadata": {},
   "outputs": [
    {
     "name": "stdout",
     "output_type": "stream",
     "text": [
      "['False', 'None', 'True', 'and', 'as', 'assert', 'break', 'class', 'continue', 'def', 'del', 'elif', 'else', 'except', 'finally', 'for', 'from', 'global', 'if', 'import', 'in', 'is', 'lambda', 'nonlocal', 'not', 'or', 'pass', 'raise', 'return', 'try', 'while', 'with', 'yield']\n"
     ]
    }
   ],
   "source": [
    "import keyword #查看关键字\n",
    "print(keyword.kwlist)\n"
   ]
  },
  {
   "cell_type": "markdown",
   "metadata": {},
   "source": []
  },
  {
   "cell_type": "code",
   "execution_count": 21,
   "metadata": {
    "scrolled": true
   },
   "outputs": [
    {
     "name": "stdout",
     "output_type": "stream",
     "text": [
      "nihao\n",
      "123\n"
     ]
    },
    {
     "data": {
      "text/plain": [
       "'\\nduohang\\nzhushi\\n'"
      ]
     },
     "execution_count": 21,
     "metadata": {},
     "output_type": "execute_result"
    }
   ],
   "source": [
    "\n",
    "print(\"nihao\") \n",
    "print(123)  \n",
    "#单行注释 \n",
    "# 注释快捷键，ctrl+/\n",
    "'''\n",
    "块注释\n",
    "内容\n",
    "\n",
    "'''\n",
    "\n",
    "\"\"\"\n",
    "块注释\n",
    "内容\n",
    "\"\"\"\n",
    "\n"
   ]
  },
  {
   "cell_type": "code",
   "execution_count": 34,
   "metadata": {},
   "outputs": [
    {
     "name": "stdout",
     "output_type": "stream",
     "text": [
      "18\n",
      "19\n",
      "20\n"
     ]
    }
   ],
   "source": [
    "age =18\n",
    "print(age)\n",
    "_age =19\n",
    "print(_age)\n",
    "age_1 =20\n",
    "print(age_1)\n"
   ]
  },
  {
   "cell_type": "code",
   "execution_count": 58,
   "metadata": {},
   "outputs": [
    {
     "name": "stdout",
     "output_type": "stream",
     "text": [
      "let's go\n",
      "let's go\n",
      "i like \n",
      "python\n",
      "c:\\book\n",
      "i am eli\n",
      "i am eli\n",
      "i am eli, i am 20 years old, i am from xy\n"
     ]
    }
   ],
   "source": [
    "s =\"let's go\" #字符串 转义字符\n",
    "print(s)\n",
    "ss =\"let\\'s go\"\n",
    "print(ss)\n",
    "sss =\"i like \\npython\"\n",
    "print(sss)\n",
    "s1 =\"c:\\\\book\"\n",
    "print(s1)\n",
    "s = \"i am %s\"  #字符串格式化 \n",
    "print(s%\"eli\")\n",
    "print(\"i am %s\"%\"eli\")\n",
    "person=\"i am %s, i am %d years old, i am from %s\"\n",
    "print(person%(\"eli\",20,\"xy\"))\n"
   ]
  },
  {
   "cell_type": "code",
   "execution_count": 83,
   "metadata": {},
   "outputs": [
    {
     "name": "stdout",
     "output_type": "stream",
     "text": [
      "i like python\n",
      "i am eli, i am 20 years old, i am eli\n",
      "i am elieli, i am 28 years old, i am elieli\n"
     ]
    }
   ],
   "source": [
    "s = \"i like {}\".format(\"python\") #format函数，字符串的格式化，占位。好用些\n",
    "print(s)\n",
    "s = \"i am {0}, i am {1} years old, i am {0}\".format(\"eli\",20)\n",
    "print(s)\n",
    "s = \"i am {0}, i am {1} years old, i am {0}\".format(\"elieli\",28)\n",
    "print(s)"
   ]
  },
  {
   "cell_type": "code",
   "execution_count": 9,
   "metadata": {},
   "outputs": [
    {
     "name": "stdout",
     "output_type": "stream",
     "text": [
      "13\n",
      "10\n",
      "3.5\n",
      "1\n",
      "3\n",
      "81\n"
     ]
    }
   ],
   "source": [
    "#算数运算符 python没有自增自减符号\n",
    "a = 10+5-2\n",
    "print(a)\n",
    "a = 2*5\n",
    "print(a)\n",
    "a = 7/2\n",
    "print(a)\n",
    "a = 7%2 #  % 是取余数\n",
    "print(a)\n",
    "a = 7//2\n",
    "print(a) # // 是取整\n",
    "a = 3**4 # **取幂函数，就是几的几次方\n",
    "print(a)"
   ]
  },
  {
   "cell_type": "code",
   "execution_count": 15,
   "metadata": {},
   "outputs": [
    {
     "name": "stdout",
     "output_type": "stream",
     "text": [
      "True\n",
      "False\n",
      "True\n"
     ]
    }
   ],
   "source": [
    "# 比较运算符 == != > < >= <= 比较的结果是布尔值，真，假\n",
    "a = 4**2\n",
    "b = a == 16\n",
    "print(b)\n",
    "a = 2\n",
    "b = 2\n",
    "print(a < b)\n",
    "print(a <= b)\n"
   ]
  },
  {
   "cell_type": "code",
   "execution_count": 23,
   "metadata": {},
   "outputs": [
    {
     "name": "stdout",
     "output_type": "stream",
     "text": [
      "3\n",
      "0\n",
      "1\n",
      "4\n",
      "27\n"
     ]
    }
   ],
   "source": [
    "# 赋值运算符 = += -= %= //= 缩写\n",
    "a = 0\n",
    "a +=3  # a = a+3的缩写\n",
    "print(a)\n",
    "a -=3\n",
    "print(a)\n",
    "a = 9\n",
    "a %=2\n",
    "print(a)\n",
    "a = 9\n",
    "a //=2\n",
    "print(a)\n",
    "a = 3\n",
    "a **=3\n",
    "print(a)"
   ]
  },
  {
   "cell_type": "code",
   "execution_count": 44,
   "metadata": {},
   "outputs": [
    {
     "name": "stdout",
     "output_type": "stream",
     "text": [
      "True\n",
      "False\n",
      "20\n",
      "1\n",
      "False\n"
     ]
    }
   ],
   "source": [
    "#逻辑运算符 逻辑与and,逻辑或or,逻辑非not\n",
    "#and看成乘法 or看成加法\n",
    "a = True\n",
    "b = False\n",
    "c = True\n",
    "d = a and b or c # 相当于d = 1 * 0 + 1\n",
    "print(d)\n",
    "d = b or a and b #相当于d = 0 + 1 * 0\n",
    "print(d)\n",
    "\n",
    "a = 10\n",
    "b = 20\n",
    "c = a and b\n",
    "print(c) # 如果a是False a and b返回值是False b是False 返回值也是False 否则返回值是and后面变量的值\n",
    "a = 1\n",
    "b = 20 \n",
    "c = a or b\n",
    "print(c)  # a如果非0 返回的是a的值，也就是or前面变量的值，当然a是0返回的是b的值\n",
    "c = not(a and b) \n",
    "print(c)"
   ]
  },
  {
   "cell_type": "code",
   "execution_count": 63,
   "metadata": {},
   "outputs": [
    {
     "name": "stdout",
     "output_type": "stream",
     "text": [
      "True\n",
      "False\n"
     ]
    }
   ],
   "source": [
    "#成员运算符 in 和 not in \n",
    "list = {1,2,3,4}\n",
    "b = 2\n",
    "c = b in list\n",
    "print(c)\n",
    "c = b not in list\n",
    "print(c)"
   ]
  },
  {
   "cell_type": "code",
   "execution_count": 77,
   "metadata": {},
   "outputs": [
    {
     "name": "stdout",
     "output_type": "stream",
     "text": [
      "True\n",
      "122294144\n",
      "122294144\n",
      "True\n",
      "122292800\n",
      "122291232\n",
      "False\n"
     ]
    }
   ],
   "source": [
    "#身份运算符 is用来检测两个变量是否为同一个变量 和 is not \n",
    "#python 变量有三个属性 name id value \n",
    "a = 3\n",
    "b = 3\n",
    "print(a is b)\n",
    "a = \"eli\"\n",
    "print(id(a))\n",
    "b = \"eli\"\n",
    "print(id(b))\n",
    "print(a is b)\n",
    "a = \"eli is\"\n",
    "print(id(a))\n",
    "b = \"eli is\"\n",
    "print(id(b))\n",
    "print(a is b)\n",
    "\n"
   ]
  },
  {
   "cell_type": "code",
   "execution_count": 82,
   "metadata": {},
   "outputs": [
    {
     "name": "stdout",
     "output_type": "stream",
     "text": [
      "False\n",
      "True\n",
      "True\n",
      "False\n"
     ]
    }
   ],
   "source": [
    "a = 257\n",
    "b = 257\n",
    "print(a is b)  #Python缓存里的数原因。\n",
    "a = 256\n",
    "b = 256\n",
    "print(a is b)\n",
    "a = -5\n",
    "b = -5\n",
    "print(a is b)\n",
    "a = -0.01\n",
    "b = -0.01\n",
    "print(a is b)"
   ]
  }
 ],
 "metadata": {
  "kernelspec": {
   "display_name": "Python 3",
   "language": "python",
   "name": "python3"
  },
  "language_info": {
   "codemirror_mode": {
    "name": "ipython",
    "version": 3
   },
   "file_extension": ".py",
   "mimetype": "text/x-python",
   "name": "python",
   "nbconvert_exporter": "python",
   "pygments_lexer": "ipython3",
   "version": "3.6.4"
  }
 },
 "nbformat": 4,
 "nbformat_minor": 2
}
