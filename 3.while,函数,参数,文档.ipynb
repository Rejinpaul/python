{
 "cells": [
  {
   "cell_type": "code",
   "execution_count": 10,
   "metadata": {},
   "outputs": [
    {
     "name": "stdout",
     "output_type": "stream",
     "text": [
      "2是偶数\n",
      "4是偶数\n",
      "6是偶数\n",
      "8是偶数\n",
      "10是偶数\n",
      "2是偶数\n",
      "4是偶数\n",
      "6是偶数\n",
      "8是偶数\n",
      "10是偶数\n"
     ]
    }
   ],
   "source": [
    "i = 1\n",
    "while i <= 10:\n",
    "    i += 1\n",
    "    if i%2 == 0:\n",
    "        print(\"{0}是偶数\".format(i))\n",
    "        \n",
    "for m in range(1,11):\n",
    "    if m%2 == 0:\n",
    "        print(\"{0}是偶数\".format(m))"
   ]
  },
  {
   "cell_type": "code",
   "execution_count": 11,
   "metadata": {},
   "outputs": [
    {
     "name": "stdout",
     "output_type": "stream",
     "text": [
      "3是奇数\n",
      "5是奇数\n",
      "7是奇数\n",
      "9是奇数\n",
      "11是奇数\n"
     ]
    }
   ],
   "source": [
    "i = 1\n",
    "while i <= 10:\n",
    "    i += 1\n",
    "    if i%2 == 0:\n",
    "        continue\n",
    "    else:\n",
    "        print(\"{0}是奇数\".format(i))"
   ]
  },
  {
   "cell_type": "code",
   "execution_count": 52,
   "metadata": {},
   "outputs": [
    {
     "name": "stdout",
     "output_type": "stream",
     "text": [
      "第1年拿了1100.0元钱\n",
      "第2年拿了1210.0元钱\n",
      "第3年拿了1331.0元钱\n",
      "第4年拿了1464.1000000000001元钱\n",
      "第5年拿了1610.5100000000002元钱\n",
      "第6年拿了1771.5610000000004元钱\n",
      "第7年拿了1948.7171000000005元钱\n",
      "第8年拿了2143.5888100000006元钱\n"
     ]
    }
   ],
   "source": [
    "# 已知本钱1000，年利率4%，复利计算哪一年可以本钱可以翻倍\n",
    "# for循环如何写这个例子了？？ 以后记得写。\n",
    "benqian = 1000\n",
    "year = 0\n",
    "while benqian <= 2000:\n",
    "       benqian = benqian *(1+0.1)\n",
    "       year = year + 1\n",
    "       print(\"第{0}年拿了{1}元钱\".format(year,benqian))"
   ]
  },
  {
   "cell_type": "code",
   "execution_count": null,
   "metadata": {},
   "outputs": [],
   "source": []
  },
  {
   "cell_type": "code",
   "execution_count": 36,
   "metadata": {},
   "outputs": [
    {
     "name": "stdout",
     "output_type": "stream",
     "text": [
      "0小于5\n",
      "1小于5\n",
      "2小于5\n",
      "3小于5\n",
      "4小于5\n",
      "5不是小于5的数字\n"
     ]
    }
   ],
   "source": [
    "count = 0\n",
    "while count < 5:\n",
    "   print(\"{0}小于5\".format(count))\n",
    "   count = count+1\n",
    "else:\n",
    "   print(\"{0}不是小于5的数字\".format(count))\n",
    "  "
   ]
  },
  {
   "cell_type": "code",
   "execution_count": 62,
   "metadata": {},
   "outputs": [],
   "source": [
    "# 函数定义 \n",
    "def func():\n",
    "    print(\"我是一个函数\")\n",
    "    print(\"我有一定的功能\")\n",
    " "
   ]
  },
  {
   "cell_type": "code",
   "execution_count": 64,
   "metadata": {},
   "outputs": [
    {
     "name": "stdout",
     "output_type": "stream",
     "text": [
      "我是一个函数\n",
      "我有一定的功能\n"
     ]
    }
   ],
   "source": [
    "# 函数调用\n",
    "func()"
   ]
  },
  {
   "cell_type": "code",
   "execution_count": 86,
   "metadata": {},
   "outputs": [
    {
     "name": "stdout",
     "output_type": "stream",
     "text": [
      "hi,question,i'm eli\n",
      "nice to meet you\n"
     ]
    }
   ],
   "source": [
    "# 函数的参数和返回值\n",
    "def hello(person):\n",
    "    print(\"hi,{0},i'm eli\".format(person))\n",
    "    print(\"nice to meet you\")\n",
    "    \n",
    "p = \"question\"\n",
    "hello(p)"
   ]
  },
  {
   "cell_type": "code",
   "execution_count": 76,
   "metadata": {},
   "outputs": [
    {
     "name": "stdout",
     "output_type": "stream",
     "text": [
      "hi,question,i'm eli\n",
      "nice to meet you \n",
      "i'm question return\n"
     ]
    }
   ],
   "source": [
    "def hello(person):\n",
    "    print(\"hi,{0},i'm eli\".format(person))\n",
    "    print(\"nice to meet you \")\n",
    "    return \"i'm {0} return\".format(person)\n",
    "p = \"question\"\n",
    "rst = hello(p)\n",
    "print(rst)"
   ]
  },
  {
   "cell_type": "code",
   "execution_count": 80,
   "metadata": {},
   "outputs": [
    {
     "name": "stdout",
     "output_type": "stream",
     "text": [
      "hi,question,i'm eli\n",
      "提前结束了\n"
     ]
    }
   ],
   "source": [
    "def hello(person):\n",
    "    print(\"hi,{0},i'm eli\".format(person))\n",
    "    return \"提前结束了\"   # return 无条件返回，结束执行\n",
    "    print(\"nice to meet you \")\n",
    "    return \"i'm {0} return\".format(person)\n",
    "p = \"question\"\n",
    "rst = hello(p)\n",
    "print(rst)"
   ]
  },
  {
   "cell_type": "markdown",
   "metadata": {},
   "source": [
    "python参考资料： headfirst python -> 零基础入门学习python（小甲鱼),本讲义参考的是流畅的python-->习题-->后期可以考虑腾讯公开免费课"
   ]
  },
  {
   "cell_type": "code",
   "execution_count": 91,
   "metadata": {},
   "outputs": [
    {
     "name": "stdout",
     "output_type": "stream",
     "text": [
      "1 \n",
      "2 4 \n",
      "3 6 9 \n",
      "4 8 12 16 \n",
      "5 10 15 20 25 \n",
      "6 12 18 24 30 36 \n",
      "7 14 21 28 35 42 49 \n",
      "8 16 24 32 40 48 56 64 \n",
      "9 18 27 36 45 54 63 72 81 \n"
     ]
    }
   ],
   "source": [
    "for row in range(1,10):\n",
    "    # 打印一行\n",
    "    for col in range(1, row+1):\n",
    "        # print函数默认任务打印完毕后换行\n",
    "        print( row * col, end=\" \")\n",
    "    print(\"\")"
   ]
  },
  {
   "cell_type": "code",
   "execution_count": 103,
   "metadata": {
    "scrolled": true
   },
   "outputs": [
    {
     "name": "stdout",
     "output_type": "stream",
     "text": [
      "1 \n",
      "2 4 \n",
      "3 6 9 \n",
      "4 8 12 16 \n",
      "5 10 15 20 25 \n",
      "6 12 18 24 30 36 \n",
      "7 14 21 28 35 42 49 \n",
      "8 16 24 32 40 48 56 64 \n",
      "9 18 27 36 45 54 63 72 81 \n"
     ]
    }
   ],
   "source": [
    "# 定义一个函数，打印一行九九乘法表\n",
    "def printLine(row):\n",
    "    for col in range(1, row+1):\n",
    "        # print函数默认任务打印完毕后换行\n",
    "        print( row * col, end=\" \")\n",
    "    print(\"\")\n",
    "  \n",
    "# 九九乘法表\n",
    "# version 2.0\n",
    "for row in range(1,10):\n",
    "    printLine(row)"
   ]
  },
  {
   "cell_type": "code",
   "execution_count": 102,
   "metadata": {},
   "outputs": [
    {
     "name": "stdout",
     "output_type": "stream",
     "text": [
      "1 \n",
      "2 4 \n",
      "3 6 9 \n",
      "4 8 12 16 \n",
      "5 10 15 20 25 \n",
      "6 12 18 24 30 36 \n",
      "7 14 21 28 35 42 49 \n",
      "8 16 24 32 40 48 56 64 \n",
      "9 18 27 36 45 54 63 72 81 \n"
     ]
    }
   ],
   "source": [
    "for row in range(1,10):\n",
    "    for col in range(1,row+1):\n",
    "        print(row * col, end=\" \")\n",
    "    print(\"\")"
   ]
  },
  {
   "cell_type": "code",
   "execution_count": 2,
   "metadata": {},
   "outputs": [
    {
     "name": "stdout",
     "output_type": "stream",
     "text": [
      "wang is 23, and he is a good student\n",
      "zhang is 22, and she is a good student\n"
     ]
    }
   ],
   "source": [
    "def reg(name,age,gender=\"male\"):\n",
    "    if gender == \"male\":\n",
    "        print(\"{0} is {1}, and he is a good student\".format(name, age))\n",
    "    else:\n",
    "        print(\"{0} is {1}, and she is a good student\".format(name, age))\n",
    "reg(\"wang\",23)\n",
    "reg(\"zhang\",22,\"female\")"
   ]
  },
  {
   "cell_type": "code",
   "execution_count": 6,
   "metadata": {},
   "outputs": [
    {
     "name": "stdout",
     "output_type": "stream",
     "text": [
      "i am eli,i am 18 yeas old\n"
     ]
    }
   ],
   "source": [
    "# 普通参数 定义的时候直接定义变量，调用的时候直接把值放在指定的位置上，位置参数\n",
    "def func(name, age):\n",
    "    print(\"i am {0},i am {1} yeas old\".format(name, age))\n",
    "func(\"eli\", 18)"
   ]
  },
  {
   "cell_type": "code",
   "execution_count": 11,
   "metadata": {},
   "outputs": [
    {
     "name": "stdout",
     "output_type": "stream",
     "text": [
      "i'm eli, 17 years old,i'm a student\n",
      "i'm jack, 22 years old,i'm not a student now,i am a cooker\n"
     ]
    }
   ],
   "source": [
    "# 默认参数 形参带有默认值，如果调用的时候没有对相应的形参赋值，则使用默认值\n",
    "def func(name, age, work=\"student\"):\n",
    "    if work==\"student\":\n",
    "        print(\"i'm {0}, {1} years old,i'm a student\".format(name,age))\n",
    "    else:\n",
    "        print(\"i'm {0}, {1} years old,i'm not a student now,i am a {2}\".format(name,age,work))\n",
    "func(\"eli\", 17)\n",
    "func(\"jack\",22,\"cooker\")"
   ]
  },
  {
   "cell_type": "code",
   "execution_count": 15,
   "metadata": {},
   "outputs": [
    {
     "name": "stdout",
     "output_type": "stream",
     "text": [
      "your name: eli\n",
      "your age: 20\n",
      "your address: xiangyang\n",
      "you are eli,20 years old,you live in xiangyang\n"
     ]
    }
   ],
   "source": [
    "# 关键字参数 一般实参，形参按照位置一一对应即可，关键字参数不用考虑位置，不容易混淆\n",
    "def func(name=\"No name\", age=0, addr=\"No addr\"):\n",
    "    print(\"you are {0},{1} years old,you live in {2}\".format(name,age,addr))\n",
    "n = input(\"your name: \")\n",
    "a = input(\"your age: \")\n",
    "addr = input(\"your address: \")\n",
    "func(name=n, age=a, addr=addr)"
   ]
  },
  {
   "cell_type": "code",
   "execution_count": 19,
   "metadata": {},
   "outputs": [
    {
     "name": "stdout",
     "output_type": "stream",
     "text": [
      "Hello,let me introduce myself: \n",
      "<class 'tuple'>\n",
      "eli\n",
      "18\n",
      "student\n",
      "xiangyang\n",
      "Hello,let me introduce myself: \n",
      "<class 'tuple'>\n",
      "jack\n"
     ]
    }
   ],
   "source": [
    "# 收集参数 由元祖存储\n",
    "def func( *args):\n",
    "    print(\"Hello,let me introduce myself: \")\n",
    "    print(type(args))\n",
    "    for item in args:\n",
    "        print(item)\n",
    "func(\"eli\", 18, \"student\", \"xiangyang\")\n",
    "func(\"jack\")"
   ]
  },
  {
   "cell_type": "code",
   "execution_count": 23,
   "metadata": {},
   "outputs": [
    {
     "name": "stdout",
     "output_type": "stream",
     "text": [
      "Hello, let me introduce myself: \n",
      "<class 'dict'>\n",
      "name --- eli\n",
      "age --- 20\n",
      "work --- student\n",
      "address --- xiangyang\n",
      "**************************************************\n"
     ]
    }
   ],
   "source": [
    "#收集参数之关键字收集参数  把关键字按照字典格式存储\n",
    "def func( **kwargs):\n",
    "    print(\"Hello, let me introduce myself: \")\n",
    "    print(type(kwargs))\n",
    "    for k,v in kwargs.items():  \n",
    "        print(k, \"---\", v)\n",
    "func(name=\"eli\", age=20, work=\"student\", address=\"xiangyang\")\n",
    "print(\"*\" * 50)"
   ]
  },
  {
   "cell_type": "code",
   "execution_count": 32,
   "metadata": {},
   "outputs": [
    {
     "name": "stdout",
     "output_type": "stream",
     "text": [
      "Hello 大家好\n",
      "我叫 liuying， 我今年19大了。\n",
      "我没有爱好， so sorry\n",
      "********************\n",
      "##############################\n",
      "Hello 大家好\n",
      "我叫 liuying， 我今年19大了。\n",
      "我的爱好是游泳\n",
      "********************\n",
      "##############################\n",
      "Hello 大家好\n",
      "我叫 liuying， 我今年19大了。\n",
      "我的爱好是游泳\n",
      "********************\n",
      "王晓静\n",
      "刘石头\n",
      "##############################\n",
      "hobby2 --- 烹饪\n",
      "hobby3 --- 跟不同女生聊天\n"
     ]
    }
   ],
   "source": [
    "# 收集参数混合调用案例   定义顺序： 必选参数、默认参数、可变参数、命名关键字参数和关键字参数。\n",
    "# stu模拟一个学生的自我介绍\n",
    "def stu(name, age, *args, hobby=\"没有\", **kwargs):\n",
    "    print(\"Hello 大家好\")\n",
    "    print(\"我叫 {0}， 我今年{1}大了。\".format(name, age))\n",
    "    if hobby == \"没有\":\n",
    "        print(\"我没有爱好， so sorry\")\n",
    "    else:\n",
    "        print(\"我的爱好是{0}\".format(hobby))\n",
    "        \n",
    "    print(\"*\" * 20)   \n",
    "    \n",
    "    for i in args:\n",
    "        print(i)\n",
    "    \n",
    "    print(\"#\" * 30)\n",
    "    \n",
    "    for k,v in kwargs.items():\n",
    "        print(k, \"---\", v)\n",
    "        \n",
    "        \n",
    "# 开始调用函数\n",
    "name = \"liuying\"\n",
    "age = 19\n",
    "\n",
    "\n",
    "# 调用的不同格式\n",
    "stu(name, age)\n",
    "\n",
    "stu(name, age, hobby=\"游泳\")\n",
    "\n",
    "stu(name, age, \"王晓静\", \"刘石头\", hobby=\"游泳\", hobby2=\"烹饪\", hobby3=\"跟不同女生聊天\")"
   ]
  },
  {
   "cell_type": "code",
   "execution_count": 37,
   "metadata": {},
   "outputs": [
    {
     "name": "stdout",
     "output_type": "stream",
     "text": [
      "Help on function stu in module __main__:\n",
      "\n",
      "stu(name, age)\n",
      "    这是文档的文字内容\n",
      "    :param name: 表示学生的姓名\n",
      "    :param age: 表示学生的年龄\n",
      "    :return: 此函数没有返回值\n",
      "\n"
     ]
    },
    {
     "data": {
      "text/plain": [
       "'\\n    这是文档的文字内容\\n    :param name: 表示学生的姓名\\n    :param age: 表示学生的年龄\\n    :return: 此函数没有返回值\\n    '"
      ]
     },
     "execution_count": 37,
     "metadata": {},
     "output_type": "execute_result"
    }
   ],
   "source": [
    "# 函数文档 \n",
    "def stu(name, age):\n",
    "    '''\n",
    "    这是文档的文字内容\n",
    "    :param name: 表示学生的姓名\n",
    "    :param age: 表示学生的年龄\n",
    "    :return: 此函数没有返回值\n",
    "    '''\n",
    "    print(\"this is doc\")\n",
    "help(stu)\n",
    "stu.__doc_"
   ]
  }
 ],
 "metadata": {
  "kernelspec": {
   "display_name": "Python 3",
   "language": "python",
   "name": "python3"
  },
  "language_info": {
   "codemirror_mode": {
    "name": "ipython",
    "version": 3
   },
   "file_extension": ".py",
   "mimetype": "text/x-python",
   "name": "python",
   "nbconvert_exporter": "python",
   "pygments_lexer": "ipython3",
   "version": "3.6.4"
  }
 },
 "nbformat": 4,
 "nbformat_minor": 2
}
