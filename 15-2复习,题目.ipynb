{
 "cells": [
  {
   "cell_type": "code",
   "execution_count": 12,
   "metadata": {},
   "outputs": [
    {
     "name": "stdout",
     "output_type": "stream",
     "text": [
      "result is 9\n",
      "result is 10\n"
     ]
    },
    {
     "data": {
      "text/plain": [
       "10"
      ]
     },
     "execution_count": 12,
     "metadata": {},
     "output_type": "execute_result"
    }
   ],
   "source": [
    "'''\n",
    "numbers 参数可以接收一个list或者tuple\n",
    "'''\n",
    "def calc(numbers):\n",
    "    s = 0\n",
    "    for n in numbers:\n",
    "        s = s + n\n",
    "    print('result is',s)\n",
    "    return s\n",
    "calc([2,3,4])\n",
    "calc((1,2,3,4))\n"
   ]
  },
  {
   "cell_type": "code",
   "execution_count": 14,
   "metadata": {},
   "outputs": [
    {
     "name": "stdout",
     "output_type": "stream",
     "text": [
      "result is 9\n",
      "result is 10\n"
     ]
    },
    {
     "data": {
      "text/plain": [
       "10"
      ]
     },
     "execution_count": 14,
     "metadata": {},
     "output_type": "execute_result"
    }
   ],
   "source": [
    "'''\n",
    "在定义的list或者tuple前面加一个*号，把list或者tuple的元素变成可变参数传进去\n",
    "'''\n",
    "def calc(*numbers):\n",
    "    s = 0\n",
    "    for n in numbers:\n",
    "        s = s + n\n",
    "    print('result is',s)\n",
    "    return s\n",
    "\n",
    "calc(2,3,4)\n",
    "calc(1,2,3,4)"
   ]
  },
  {
   "cell_type": "code",
   "execution_count": 16,
   "metadata": {},
   "outputs": [
    {
     "name": "stdout",
     "output_type": "stream",
     "text": [
      "55\n",
      "56\n",
      "12\n",
      "20\n"
     ]
    },
    {
     "ename": "NameError",
     "evalue": "name 'b' is not defined",
     "output_type": "error",
     "traceback": [
      "\u001b[1;31m---------------------------------------------------------------------------\u001b[0m",
      "\u001b[1;31mNameError\u001b[0m                                 Traceback (most recent call last)",
      "\u001b[1;32m<ipython-input-16-0cf6bbfa51fb>\u001b[0m in \u001b[0;36m<module>\u001b[1;34m()\u001b[0m\n\u001b[0;32m      9\u001b[0m \u001b[0msetNumber\u001b[0m\u001b[1;33m(\u001b[0m\u001b[1;33m)\u001b[0m\u001b[1;33m\u001b[0m\u001b[0m\n\u001b[0;32m     10\u001b[0m \u001b[0mprint\u001b[0m\u001b[1;33m(\u001b[0m\u001b[0ma\u001b[0m\u001b[1;33m)\u001b[0m\u001b[1;33m\u001b[0m\u001b[0m\n\u001b[1;32m---> 11\u001b[1;33m \u001b[0mprint\u001b[0m\u001b[1;33m(\u001b[0m\u001b[0mb\u001b[0m\u001b[1;33m)\u001b[0m\u001b[1;33m\u001b[0m\u001b[0m\n\u001b[0m",
      "\u001b[1;31mNameError\u001b[0m: name 'b' is not defined"
     ]
    }
   ],
   "source": [
    "# 局部变量和全局变量\n",
    "a = 20\n",
    "def setNumber():\n",
    "    a=55\n",
    "    b=12\n",
    "    print(a)\n",
    "    a=a+1\n",
    "    print(a)\n",
    "    print(b)\n",
    "setNumber()\n",
    "print(a)\n",
    "print(b)"
   ]
  },
  {
   "cell_type": "code",
   "execution_count": 32,
   "metadata": {},
   "outputs": [
    {
     "name": "stdout",
     "output_type": "stream",
     "text": [
      "dog123\n",
      "I can eat\n",
      "0\n",
      "1\n",
      "2\n",
      "1\n"
     ]
    }
   ],
   "source": [
    "class Animal():\n",
    "    '''Animal的类'''\n",
    "    count = 0\n",
    "    def __init__(self,name):\n",
    "        self.name = name\n",
    "    def eat(self):\n",
    "        print('I can eat')\n",
    "        \n",
    "dog = Animal('dog123')\n",
    "print(dog.name)\n",
    "dog.eat()\n",
    "\n",
    "print(Animal.count)\n",
    "Animal.count = Animal.count+1\n",
    "print(Animal.count)\n",
    "\n",
    "cat = Animal('cat')\n",
    "cat.count = cat.count+1\n",
    "print(cat.count)\n",
    "print(Animal.count)\n"
   ]
  },
  {
   "cell_type": "code",
   "execution_count": 82,
   "metadata": {},
   "outputs": [
    {
     "name": "stdout",
     "output_type": "stream",
     "text": [
      "Animal\n",
      "Animal\n"
     ]
    }
   ],
   "source": [
    "# 区别实例方法(没有@的装饰) 和 类方法（@classmethod）\n",
    "class Animal():\n",
    "    count = 0\n",
    "    def __init__(self,name):\n",
    "        self.name=name\n",
    "    def eat(self):\n",
    "        print('I can eat')\n",
    "    def talk(self):\n",
    "        print('talking......')\n",
    "    @classmethod\n",
    "    def printInfo(cls):\n",
    "        print(cls.__name__)\n",
    "        \n",
    "\n",
    "Animal.printInfo()\n",
    "\n",
    "cat = Animal('cat')\n",
    "cat.printInfo()\n",
    "\n"
   ]
  },
  {
   "cell_type": "code",
   "execution_count": null,
   "metadata": {},
   "outputs": [],
   "source": []
  },
  {
   "cell_type": "code",
   "execution_count": null,
   "metadata": {},
   "outputs": [],
   "source": []
  },
  {
   "cell_type": "code",
   "execution_count": null,
   "metadata": {},
   "outputs": [],
   "source": []
  },
  {
   "cell_type": "code",
   "execution_count": null,
   "metadata": {},
   "outputs": [],
   "source": []
  },
  {
   "cell_type": "code",
   "execution_count": null,
   "metadata": {},
   "outputs": [],
   "source": []
  },
  {
   "cell_type": "code",
   "execution_count": null,
   "metadata": {},
   "outputs": [],
   "source": []
  },
  {
   "cell_type": "code",
   "execution_count": null,
   "metadata": {},
   "outputs": [],
   "source": []
  },
  {
   "cell_type": "code",
   "execution_count": null,
   "metadata": {},
   "outputs": [],
   "source": []
  },
  {
   "cell_type": "code",
   "execution_count": null,
   "metadata": {},
   "outputs": [],
   "source": []
  }
 ],
 "metadata": {
  "kernelspec": {
   "display_name": "Python 3",
   "language": "python",
   "name": "python3"
  },
  "language_info": {
   "codemirror_mode": {
    "name": "ipython",
    "version": 3
   },
   "file_extension": ".py",
   "mimetype": "text/x-python",
   "name": "python",
   "nbconvert_exporter": "python",
   "pygments_lexer": "ipython3",
   "version": "3.6.4"
  }
 },
 "nbformat": 4,
 "nbformat_minor": 2
}
