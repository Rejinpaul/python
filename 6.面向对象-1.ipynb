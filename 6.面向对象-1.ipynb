{
 "cells": [
  {
   "cell_type": "code",
   "execution_count": 11,
   "metadata": {},
   "outputs": [
    {
     "name": "stdout",
     "output_type": "stream",
     "text": [
      "None\n",
      "18\n",
      "python\n",
      "i am doing homework now\n"
     ]
    }
   ],
   "source": [
    "# 面向对象是一种解决问题的思想\n",
    "class PythonStudent():\n",
    "    name = None\n",
    "    age = 18\n",
    "    course = \"python\"\n",
    "    \n",
    "    def doHomework(self):\n",
    "        print(\"i am doing homework now\")\n",
    "eli = PythonStudent()\n",
    "print(eli.name)\n",
    "print(eli.age)\n",
    "print(eli.course)\n",
    "\n",
    "eli.doHomework()"
   ]
  },
  {
   "cell_type": "code",
   "execution_count": 4,
   "metadata": {},
   "outputs": [
    {
     "data": {
      "text/plain": [
       "mappingproxy({'__dict__': <attribute '__dict__' of 'Student' objects>,\n",
       "              '__doc__': None,\n",
       "              '__module__': '__main__',\n",
       "              '__weakref__': <attribute '__weakref__' of 'Student' objects>,\n",
       "              'age': 20,\n",
       "              'name': 'eli'})"
      ]
     },
     "execution_count": 4,
     "metadata": {},
     "output_type": "execute_result"
    }
   ],
   "source": [
    "class Student():\n",
    "    name = 'eli'\n",
    "    age = 20\n",
    "\n",
    "Student.__dict__  #用__dict__  以字典方式打印所有属性\n",
    "\n"
   ]
  },
  {
   "cell_type": "code",
   "execution_count": 5,
   "metadata": {},
   "outputs": [
    {
     "data": {
      "text/plain": [
       "{}"
      ]
     },
     "execution_count": 5,
     "metadata": {},
     "output_type": "execute_result"
    }
   ],
   "source": [
    "class Student():\n",
    "    name = 'eli'\n",
    "    age = 20\n",
    "\n",
    "wang = Student()\n",
    "wang.__dict__   #记住那个图。创建对象的时候，类中的成员不会放入对象当中，而是得到一个空对象，没有成员 只是ID指向"
   ]
  },
  {
   "cell_type": "code",
   "execution_count": 23,
   "metadata": {},
   "outputs": [
    {
     "name": "stdout",
     "output_type": "stream",
     "text": [
      "eli\n"
     ]
    }
   ],
   "source": [
    "class Student():\n",
    "    name = 'eli'\n",
    "    age = 20\n",
    "\n",
    "wang = Student()\n",
    "wang.__dict__\n",
    "print(wang.name)"
   ]
  },
  {
   "cell_type": "code",
   "execution_count": 31,
   "metadata": {},
   "outputs": [
    {
     "name": "stdout",
     "output_type": "stream",
     "text": [
      "eli\n",
      "19\n",
      "91855760\n",
      "1611493408\n",
      "{'__module__': '__main__', 'name': 'eli', 'age': 19, 'say': <function Student.say at 0x0000000005C3CEA0>, '__dict__': <attribute '__dict__' of 'Student' objects>, '__weakref__': <attribute '__weakref__' of 'Student' objects>, '__doc__': None}\n",
      "******************************\n",
      "{}\n",
      "eli\n",
      "20\n",
      "91855760\n",
      "1611493440\n"
     ]
    }
   ],
   "source": [
    "class Student():\n",
    "    name = 'eli'\n",
    "    age = 19\n",
    "    def say(self):\n",
    "        print(\"i am a student\")\n",
    "print(Student.name)\n",
    "print(Student.age)\n",
    "print(id(Student.name))\n",
    "print(id(Student.age))\n",
    "print(Student.__dict__)\n",
    "print('*' * 30)\n",
    "\n",
    "wamg = Student()\n",
    "print(wang.__dict__)\n",
    "print(wang.name)\n",
    "print(wang.age)\n",
    "print(id(wang.name))\n",
    "print(id(wang.age))\n",
    "\n"
   ]
  },
  {
   "cell_type": "code",
   "execution_count": 32,
   "metadata": {},
   "outputs": [
    {
     "name": "stdout",
     "output_type": "stream",
     "text": [
      "My name is aaaa\n",
      "My age is 200\n",
      "My name is aaaa\n",
      "My age is 200\n"
     ]
    }
   ],
   "source": [
    "class Student():\n",
    "    name = \"dana\"\n",
    "    age = 18\n",
    "    \n",
    "    # 注意say的写法，参数由一个self\n",
    "    def say(self):\n",
    "        self.name = \"aaaa\"\n",
    "        self.age = 200\n",
    "        print(\"My name is {0}\".format(self.name))\n",
    "        print(\"My age is {0}\".format(self.age))\n",
    "        \n",
    "    def sayAgain(s):\n",
    "      \n",
    "        print(\"My name is {0}\".format(s.name))\n",
    "        print(\"My age is {0}\".format(s.age))\n",
    "          \n",
    "yueyue = Student()\n",
    "yueyue.say()\n",
    "yueyue.sayAgain()"
   ]
  },
  {
   "cell_type": "code",
   "execution_count": 43,
   "metadata": {},
   "outputs": [
    {
     "name": "stdout",
     "output_type": "stream",
     "text": [
      "eli\n",
      "20\n"
     ]
    }
   ],
   "source": [
    "class Person():\n",
    "    name = 'eli'\n",
    "    __age = 19\n",
    "    \n",
    "p = Person()\n",
    "print(p.name)\n",
    "#  print(p.__age) 会报错\n",
    "\n",
    "p._Person__age = 20\n",
    "print(p._Person__age)"
   ]
  },
  {
   "cell_type": "code",
   "execution_count": 56,
   "metadata": {},
   "outputs": [
    {
     "name": "stdout",
     "output_type": "stream",
     "text": [
      "None\n",
      "0\n",
      "sleeping\n"
     ]
    }
   ],
   "source": [
    "class Person():\n",
    "    name = None \n",
    "    age = 0\n",
    "    def sleep(self):\n",
    "        print(\"sleeping\")\n",
    "\n",
    "class Teacher(Person):\n",
    "    def make_test():\n",
    "        pass\n",
    "t = Teacher()\n",
    "print(t.name)\n",
    "print(t.age)\n",
    "t.sleep()\n"
   ]
  },
  {
   "cell_type": "code",
   "execution_count": 3,
   "metadata": {},
   "outputs": [
    {
     "name": "stdout",
     "output_type": "stream",
     "text": [
      "eli\n",
      "0\n",
      "sleeping\n",
      "make the money\n",
      "make the test\n"
     ]
    }
   ],
   "source": [
    "class Person():\n",
    "    name = None \n",
    "    age = 0\n",
    "    __score = 89\n",
    "    def sleep(self):\n",
    "        print(\"sleeping\")\n",
    "    def work(self):\n",
    "        print(\"make the money\")\n",
    "\n",
    "class Teacher(Person):\n",
    "    name = 'eli'\n",
    "    \n",
    "    def make_test(self):\n",
    "        print(\"make the test\")\n",
    "    def work(self):\n",
    "        super().work()  # 第一种子类扩充父类的方法 super().\n",
    "        #Person.work(self)  #第二种子类扩充父类的方法\n",
    "        self.make_test()\n",
    "t = Teacher()\n",
    "print(t.name) # 子类也有和父类相同的变量时，用子类的\n",
    "print(t.age)\n",
    "t.sleep()\n",
    "# print(t.__score)  访问父类私有的变量会报错\n",
    "\n",
    "t.work()"
   ]
  },
  {
   "cell_type": "code",
   "execution_count": 36,
   "metadata": {},
   "outputs": [
    {
     "name": "stdout",
     "output_type": "stream",
     "text": [
      "i am student,name is bbbbb,age is 19\n",
      "i am a student,name is aaaaa,age is 18\n"
     ]
    }
   ],
   "source": [
    "class Student():\n",
    "    name = 'aaaaa'\n",
    "    age = 18\n",
    "    def say(self):\n",
    "        self.name = 'bbbbb'\n",
    "        self.age = 19\n",
    "        print('i am student,name is {0},age is {1}'.format(self.name,self.age))\n",
    "    def sayAgain(s):\n",
    "        print('i am a student,name is {0},age is {1}'.format(__class__.name,__class__.age)) \n",
    "s = Student()\n",
    "s.say()\n",
    "s.sayAgain()"
   ]
  },
  {
   "cell_type": "code",
   "execution_count": 39,
   "metadata": {},
   "outputs": [
    {
     "name": "stdout",
     "output_type": "stream",
     "text": [
      "My name is eli,i am 20 years old\n"
     ]
    }
   ],
   "source": [
    "class Student():\n",
    "    name = 'eli'\n",
    "    age = 20\n",
    "    \n",
    "    def say(): # 绑定类函数调用使用类名\n",
    "        print('My name is {0},i am {1} years old'.format(__class__.name,__class__.age))\n",
    "s = Student()\n",
    "Student.say() \n"
   ]
  },
  {
   "cell_type": "code",
   "execution_count": 44,
   "metadata": {},
   "outputs": [
    {
     "name": "stdout",
     "output_type": "stream",
     "text": [
      "jack\n",
      "22\n",
      "********************\n",
      "jack\n",
      "22\n",
      "********************\n",
      "eli\n",
      "21\n",
      "********************\n",
      "i am b\n",
      "23\n"
     ]
    }
   ],
   "source": [
    "class A():\n",
    "    name = 'eli'\n",
    "    age = 21\n",
    "    \n",
    "    def __init__(self):\n",
    "        self.name = 'jack'\n",
    "        self.age = 22\n",
    "        \n",
    "    def say(self):\n",
    "        print(self.name)\n",
    "        print(self.age)\n",
    "        \n",
    "class B():\n",
    "    name = 'i am b'\n",
    "    age = 23\n",
    "    \n",
    "a = A()\n",
    "a.say()\n",
    "print('*'*20)\n",
    "A.say(a)\n",
    "print('*'*20)\n",
    "A.say(A)\n",
    "print('*'*20)\n",
    "A.say(B)"
   ]
  },
  {
   "cell_type": "code",
   "execution_count": 57,
   "metadata": {},
   "outputs": [
    {
     "name": "stdout",
     "output_type": "stream",
     "text": [
      "Mammal\n"
     ]
    }
   ],
   "source": [
    "class Animal():\n",
    "    pass\n",
    "class Mammal(Animal):\n",
    "    def __init__(self,name):\n",
    "        print('Mammal')\n",
    "class Dog(Mammal):   # 实例化的时候自动调用自己的构造函数，如果自己没有就向父类查找构造函数\n",
    "    pass\n",
    "d = Dog(\"kaka\")"
   ]
  },
  {
   "cell_type": "code",
   "execution_count": 63,
   "metadata": {},
   "outputs": [
    {
     "name": "stdout",
     "output_type": "stream",
     "text": [
      "working\n",
      "flying\n",
      "swimming\n"
     ]
    }
   ],
   "source": [
    "# 单继承和多继承 各有优缺点\n",
    "class Person():\n",
    "    def __init__(self,name):\n",
    "        self.name = name\n",
    "    def work(self):\n",
    "        print(\"working\")\n",
    "\n",
    "class Bird():\n",
    "    def __init__(self,name):\n",
    "        self.name = name\n",
    "    def fly(self):\n",
    "        print(\"flying\")\n",
    "        \n",
    "class Fish():\n",
    "    def __init__(self,name):\n",
    "        self.name = name\n",
    "    def swim(self):\n",
    "        print(\"swimming\")\n",
    "        \n",
    "class SuperMan(Person,Bird,Fish):\n",
    "     pass\n",
    "    \n",
    "s = SuperMan(\"eli\")\n",
    "s.work()\n",
    "s.fly()\n",
    "s.swim()\n",
    "\n"
   ]
  },
  {
   "cell_type": "code",
   "execution_count": 66,
   "metadata": {},
   "outputs": [
    {
     "name": "stdout",
     "output_type": "stream",
     "text": [
      "B\n",
      "我是C\n",
      "这是C中附加的功能\n"
     ]
    }
   ],
   "source": [
    "class A():\n",
    "    def __init__(self):\n",
    "        print(\"A\")\n",
    "\n",
    "class B(A):\n",
    "    def __init__(self, name):\n",
    "        print(\"B\")\n",
    "        print(name)\n",
    "        \n",
    "class C(B):\n",
    "    # c中想扩展B的构造函数，\n",
    "    # 即调用B的构造函数后在添加一些功能\n",
    "    # 由两种方法实现\n",
    "    \n",
    "    '''\n",
    "    # 第一种是通过父类名调用\n",
    "    def __init__(self, name):\n",
    "        # 首先调用父类构造函数\n",
    "        B.__init__(self, name)\n",
    "        # 其次，再增加自己的功能\n",
    "        print(\"这是C中附加的功能\")\n",
    "    '''  \n",
    "        \n",
    "    # 第二种，使用super调用\n",
    "    def __init__(self, name):\n",
    "        # 首先调用父类构造函数\n",
    "        super().__init__(name)\n",
    "        # 其次，再增加自己的功能\n",
    "        print(\"这是C中附加的功能\")\n",
    "        \n",
    "\n",
    "# 此时，首先查找C的构造函数\n",
    "# 如果没有，则向上按照MRO顺序查找父类的构造函数，知道找到为止\n",
    "# 此时，会出现参数结构不对应错误\n",
    "c = C(\"我是C\")"
   ]
  },
  {
   "cell_type": "code",
   "execution_count": null,
   "metadata": {},
   "outputs": [],
   "source": [
    "# 多态 不是一种语法，是一种设计思想 \n",
    "# 同一对象在不同的情况下有不同的状态出现\n",
    "#Mixin 不是物种的变化，而是功能的增加  Mixin设计了解了解\n",
    "# 可避免创建很多类，方便组织和维护不同功能组件 "
   ]
  },
  {
   "cell_type": "code",
   "execution_count": 68,
   "metadata": {},
   "outputs": [
    {
     "name": "stdout",
     "output_type": "stream",
     "text": [
      "True\n",
      "False\n"
     ]
    }
   ],
   "source": [
    "#类的相关函数\n",
    "# issubclass 检测一个类是不是另一个类的子类\n",
    "class A():\n",
    "    pass\n",
    "class B(A):\n",
    "    pass\n",
    "class C():\n",
    "    pass\n",
    "print(issubclass(B,A))\n",
    "print(issubclass(A,B))"
   ]
  },
  {
   "cell_type": "code",
   "execution_count": 70,
   "metadata": {},
   "outputs": [
    {
     "name": "stdout",
     "output_type": "stream",
     "text": [
      "True\n",
      "False\n"
     ]
    }
   ],
   "source": [
    "#  isinstance检测一个对象是否是一个类的实例\n",
    "class A():\n",
    "    pass\n",
    "class B(A):\n",
    "    pass\n",
    "a = A()\n",
    "print(isinstance(a,A))\n",
    "print(isinstance(A,A))"
   ]
  },
  {
   "cell_type": "code",
   "execution_count": 73,
   "metadata": {},
   "outputs": [
    {
     "name": "stdout",
     "output_type": "stream",
     "text": [
      "True\n",
      "False\n"
     ]
    }
   ],
   "source": [
    "# hasattr:检测一个对象是否有这个成员\n",
    "class A():\n",
    "    name = 'eli'\n",
    "   \n",
    "a = A()\n",
    "print(hasattr(a,'name'))\n",
    "print(hasattr(a,'age'))"
   ]
  }
 ],
 "metadata": {
  "kernelspec": {
   "display_name": "Python 3",
   "language": "python",
   "name": "python3"
  },
  "language_info": {
   "codemirror_mode": {
    "name": "ipython",
    "version": 3
   },
   "file_extension": ".py",
   "mimetype": "text/x-python",
   "name": "python",
   "nbconvert_exporter": "python",
   "pygments_lexer": "ipython3",
   "version": "3.6.4"
  }
 },
 "nbformat": 4,
 "nbformat_minor": 2
}
